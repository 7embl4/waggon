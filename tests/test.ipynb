{
 "cells": [
  {
   "cell_type": "code",
   "execution_count": 1,
   "id": "24c02aed-2c39-414f-a6a2-8f64dece765a",
   "metadata": {},
   "outputs": [],
   "source": [
    "import argparse\n",
    "from waggon.utils import display\n",
    "from waggon import functions as f\n",
    "from waggon.optim import Optimiser\n",
    "from waggon.acquisitions import WU, WU_IDW, EI, CB\n",
    "from waggon.surrogates import BNN, DE, DGP, GAN, GP"
   ]
  },
  {
   "cell_type": "code",
   "execution_count": 2,
   "id": "185e50d3-9d29-4dd4-8c64-88439dfafe81",
   "metadata": {},
   "outputs": [
    {
     "data": {
      "text/plain": [
       "True"
      ]
     },
     "execution_count": 2,
     "metadata": {},
     "output_type": "execute_result"
    }
   ],
   "source": [
    "import torch\n",
    "torch.cuda.is_available()"
   ]
  },
  {
   "cell_type": "code",
   "execution_count": 3,
   "id": "7f8f8325-3a64-4501-801b-b4734b83cc36",
   "metadata": {},
   "outputs": [],
   "source": [
    "FUNCS = {\n",
    "    'ackley':     f.ackley,\n",
    "    'himmelblau': f.himmelblau,\n",
    "    'holder':     f.holder,\n",
    "    'levi':       f.levi,\n",
    "    'rosenbrock': f.rosenbrock,\n",
    "    'tang':       f.tang,\n",
    "    'thc':        f.three_hump_camel\n",
    "}\n",
    "\n",
    "SURR = {\n",
    "    'bnn' : BNN(),\n",
    "    'de' :  DE(),\n",
    "    'dgp' : DGP(),\n",
    "    'gan' : GAN(),\n",
    "    'gp' :  GP()\n",
    "}\n",
    "\n",
    "ACQF = {\n",
    "    'wu':  WU(),\n",
    "    'wu-idw': WU_IDW(),\n",
    "    'ei':  EI(),\n",
    "    'lcb': CB(minimise=True),\n",
    "    'ucb': CB(minimise=False)\n",
    "}\n",
    "\n",
    "SEEDS = [2, 3, 5, 7, 11, 13, 17, 19, 23, 73]"
   ]
  },
  {
   "cell_type": "code",
   "execution_count": 4,
   "id": "37eeb7a1-b2ca-4d71-ac05-9db1d201e130",
   "metadata": {},
   "outputs": [],
   "source": [
    "def main(function='thc', surrogate='gan', acquisition='wu'):\n",
    "\n",
    "    for i, seed in enumerate(SEEDS):\n",
    "        \n",
    "        print(f'Experiment #{i}')\n",
    "\n",
    "        opt = Optimiser(func=FUNCS[function](),#FUNCS[function](dimensions) if dimensions else \n",
    "                        surr=SURR[surrogate],\n",
    "                        acqf=ACQF[acquisition],\n",
    "                        verbose=1,\n",
    "                        seed=seed,\n",
    "                        save_results=True)\n",
    "        opt.optimise()\n",
    "        display(opt)"
   ]
  },
  {
   "cell_type": "code",
   "execution_count": null,
   "id": "acd4079c-c4f8-45b6-91bb-102de1fecfc3",
   "metadata": {},
   "outputs": [
    {
     "name": "stdout",
     "output_type": "stream",
     "text": [
      "Experiment #0\n"
     ]
    },
    {
     "name": "stderr",
     "output_type": "stream",
     "text": [
      "Optimisation loop:  87%|████████▋ | 87/100 [14:42:25<4:08:40, 1147.76s/it]"
     ]
    }
   ],
   "source": [
    "main(acquisition='wu-idw')"
   ]
  },
  {
   "cell_type": "code",
   "execution_count": null,
   "id": "53892d9a-c611-4960-9cc0-3bcadf56d577",
   "metadata": {},
   "outputs": [],
   "source": []
  }
 ],
 "metadata": {
  "kernelspec": {
   "display_name": "Python [.conda-env_gpu]",
   "language": "python",
   "name": "conda-env-.conda-env_gpu-py"
  },
  "language_info": {
   "codemirror_mode": {
    "name": "ipython",
    "version": 3
   },
   "file_extension": ".py",
   "mimetype": "text/x-python",
   "name": "python",
   "nbconvert_exporter": "python",
   "pygments_lexer": "ipython3",
   "version": "3.9.13"
  }
 },
 "nbformat": 4,
 "nbformat_minor": 5
}
