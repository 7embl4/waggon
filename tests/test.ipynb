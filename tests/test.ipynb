{
 "cells": [
  {
   "cell_type": "code",
   "execution_count": 1,
   "id": "24c02aed-2c39-414f-a6a2-8f64dece765a",
   "metadata": {},
   "outputs": [],
   "source": [
    "import argparse\n",
    "from waggon.utils import display\n",
    "from waggon import functions as f\n",
    "from waggon.optim import Optimiser\n",
    "from waggon.acquisitions import WU, WU_IDW, EI, CB\n",
    "from waggon.surrogates import BNN, DE, DGP, GAN, GP"
   ]
  },
  {
   "cell_type": "code",
   "execution_count": 2,
   "id": "185e50d3-9d29-4dd4-8c64-88439dfafe81",
   "metadata": {},
   "outputs": [
    {
     "data": {
      "text/plain": [
       "True"
      ]
     },
     "execution_count": 2,
     "metadata": {},
     "output_type": "execute_result"
    }
   ],
   "source": [
    "import torch\n",
    "torch.cuda.is_available()"
   ]
  },
  {
   "cell_type": "code",
   "execution_count": 3,
   "id": "7f8f8325-3a64-4501-801b-b4734b83cc36",
   "metadata": {},
   "outputs": [],
   "source": [
    "FUNCS = {\n",
    "    'ackley':     f.ackley,\n",
    "    'himmelblau': f.himmelblau,\n",
    "    'holder':     f.holder,\n",
    "    'levi':       f.levi,\n",
    "    'rosenbrock': f.rosenbrock,\n",
    "    'tang':       f.tang,\n",
    "    'thc':        f.three_hump_camel\n",
    "}\n",
    "\n",
    "SURR = {\n",
    "    'bnn' : BNN(),\n",
    "    'de' :  DE(),\n",
    "    'dgp' : DGP(),\n",
    "    'gan' : GAN(),\n",
    "    'gp' :  GP()\n",
    "}\n",
    "\n",
    "ACQF = {\n",
    "    'wu':  WU(),\n",
    "    'wu-idw': WU_IDW(),\n",
    "    'ei':  EI(),\n",
    "    'lcb': CB(minimise=True),\n",
    "    'ucb': CB(minimise=False)\n",
    "}\n",
    "\n",
    "SEEDS = [2, 3, 5, 7, 11, 13, 17, 19, 23, 73]"
   ]
  },
  {
   "cell_type": "code",
   "execution_count": 4,
   "id": "37eeb7a1-b2ca-4d71-ac05-9db1d201e130",
   "metadata": {},
   "outputs": [],
   "source": [
    "def main(function='thc', surrogate='gan', acquisition='wu'):\n",
    "\n",
    "    for i, seed in enumerate(SEEDS):\n",
    "        \n",
    "        print(f'Experiment #{i}')\n",
    "\n",
    "        opt = Optimiser(func=FUNCS[function](),#FUNCS[function](dimensions) if dimensions else \n",
    "                        surr=SURR[surrogate],\n",
    "                        acqf=ACQF[acquisition],\n",
    "                        verbose=1,\n",
    "                        seed=seed,\n",
    "                        save_results=True)\n",
    "        opt.optimise()\n",
    "        display(opt)"
   ]
  },
  {
   "cell_type": "code",
   "execution_count": 5,
   "id": "acd4079c-c4f8-45b6-91bb-102de1fecfc3",
   "metadata": {},
   "outputs": [
    {
     "name": "stdout",
     "output_type": "stream",
     "text": [
      "Experiment #0\n"
     ]
    },
    {
     "name": "stderr",
     "output_type": "stream",
     "text": [
      "Optimisation loop: 100%|██████████| 100/100 [19:10:36<00:00, 690.37s/it]  \n"
     ]
    },
    {
     "name": "stdout",
     "output_type": "stream",
     "text": [
      "Experiment failed\n"
     ]
    },
    {
     "ename": "AttributeError",
     "evalue": "'Optimiser' object has no attribute 'surrogate'",
     "output_type": "error",
     "traceback": [
      "\u001b[0;31m---------------------------------------------------------------------------\u001b[0m",
      "\u001b[0;31mAttributeError\u001b[0m                            Traceback (most recent call last)",
      "Input \u001b[0;32mIn [5]\u001b[0m, in \u001b[0;36m<cell line: 1>\u001b[0;34m()\u001b[0m\n\u001b[0;32m----> 1\u001b[0m \u001b[43mmain\u001b[49m\u001b[43m(\u001b[49m\u001b[43macquisition\u001b[49m\u001b[38;5;241;43m=\u001b[39;49m\u001b[38;5;124;43m'\u001b[39;49m\u001b[38;5;124;43mwu-idw\u001b[39;49m\u001b[38;5;124;43m'\u001b[39;49m\u001b[43m)\u001b[49m\n",
      "Input \u001b[0;32mIn [4]\u001b[0m, in \u001b[0;36mmain\u001b[0;34m(function, surrogate, acquisition)\u001b[0m\n\u001b[1;32m      5\u001b[0m \u001b[38;5;28mprint\u001b[39m(\u001b[38;5;124mf\u001b[39m\u001b[38;5;124m'\u001b[39m\u001b[38;5;124mExperiment #\u001b[39m\u001b[38;5;132;01m{\u001b[39;00mi\u001b[38;5;132;01m}\u001b[39;00m\u001b[38;5;124m'\u001b[39m)\n\u001b[1;32m      7\u001b[0m opt \u001b[38;5;241m=\u001b[39m Optimiser(func\u001b[38;5;241m=\u001b[39mFUNCS[function](),\u001b[38;5;66;03m#FUNCS[function](dimensions) if dimensions else \u001b[39;00m\n\u001b[1;32m      8\u001b[0m                 surr\u001b[38;5;241m=\u001b[39mSURR[surrogate],\n\u001b[1;32m      9\u001b[0m                 acqf\u001b[38;5;241m=\u001b[39mACQF[acquisition],\n\u001b[1;32m     10\u001b[0m                 verbose\u001b[38;5;241m=\u001b[39m\u001b[38;5;241m1\u001b[39m,\n\u001b[1;32m     11\u001b[0m                 seed\u001b[38;5;241m=\u001b[39mseed,\n\u001b[1;32m     12\u001b[0m                 save_results\u001b[38;5;241m=\u001b[39m\u001b[38;5;28;01mTrue\u001b[39;00m)\n\u001b[0;32m---> 13\u001b[0m \u001b[43mopt\u001b[49m\u001b[38;5;241;43m.\u001b[39;49m\u001b[43moptimise\u001b[49m\u001b[43m(\u001b[49m\u001b[43m)\u001b[49m\n\u001b[1;32m     14\u001b[0m display(opt)\n",
      "File \u001b[0;32m~/.conda/envs/env_gpu/lib/python3.9/site-packages/waggon/optim/optim.py:263\u001b[0m, in \u001b[0;36mOptimiser.optimise\u001b[0;34m(self, X, y, **kwargs)\u001b[0m\n\u001b[1;32m    260\u001b[0m     \u001b[38;5;28mprint\u001b[39m(\u001b[38;5;124m'\u001b[39m\u001b[38;5;124mExperiment failed\u001b[39m\u001b[38;5;124m'\u001b[39m)\n\u001b[1;32m    262\u001b[0m \u001b[38;5;28;01mif\u001b[39;00m \u001b[38;5;28mself\u001b[39m\u001b[38;5;241m.\u001b[39msave_results:\n\u001b[0;32m--> 263\u001b[0m     \u001b[38;5;28;43mself\u001b[39;49m\u001b[38;5;241;43m.\u001b[39;49m\u001b[43m_save\u001b[49m\u001b[43m(\u001b[49m\u001b[43m)\u001b[49m\n",
      "File \u001b[0;32m~/.conda/envs/env_gpu/lib/python3.9/site-packages/waggon/optim/optim.py:266\u001b[0m, in \u001b[0;36mOptimiser._save\u001b[0;34m(self, base_dir)\u001b[0m\n\u001b[1;32m    265\u001b[0m \u001b[38;5;28;01mdef\u001b[39;00m \u001b[38;5;21m_save\u001b[39m(\u001b[38;5;28mself\u001b[39m, base_dir\u001b[38;5;241m=\u001b[39m\u001b[38;5;124m'\u001b[39m\u001b[38;5;124mtest_results\u001b[39m\u001b[38;5;124m'\u001b[39m):\n\u001b[0;32m--> 266\u001b[0m     res_path \u001b[38;5;241m=\u001b[39m create_dir(\u001b[38;5;28mself\u001b[39m\u001b[38;5;241m.\u001b[39mfunc, \u001b[38;5;28mself\u001b[39m\u001b[38;5;241m.\u001b[39macqf\u001b[38;5;241m.\u001b[39mname, \u001b[38;5;28;43mself\u001b[39;49m\u001b[38;5;241;43m.\u001b[39;49m\u001b[43msurrogate\u001b[49m\u001b[38;5;241m.\u001b[39mname, base_dir\u001b[38;5;241m=\u001b[39mbase_dir)\n\u001b[1;32m    268\u001b[0m     \u001b[38;5;28;01mwith\u001b[39;00m \u001b[38;5;28mopen\u001b[39m(\u001b[38;5;124mf\u001b[39m\u001b[38;5;124m'\u001b[39m\u001b[38;5;132;01m{\u001b[39;00mres_path\u001b[38;5;132;01m}\u001b[39;00m\u001b[38;5;124m/\u001b[39m\u001b[38;5;132;01m{\u001b[39;00mtime\u001b[38;5;241m.\u001b[39mstrftime(\u001b[38;5;124m\"\u001b[39m\u001b[38;5;132;01m%d\u001b[39;00m\u001b[38;5;124m.\u001b[39m\u001b[38;5;124m%\u001b[39m\u001b[38;5;124mm-\u001b[39m\u001b[38;5;124m%\u001b[39m\u001b[38;5;124mH:\u001b[39m\u001b[38;5;124m%\u001b[39m\u001b[38;5;124mM:\u001b[39m\u001b[38;5;124m%\u001b[39m\u001b[38;5;124mS\u001b[39m\u001b[38;5;124m\"\u001b[39m)\u001b[38;5;132;01m}\u001b[39;00m\u001b[38;5;124m.pkl\u001b[39m\u001b[38;5;124m'\u001b[39m, \u001b[38;5;124m'\u001b[39m\u001b[38;5;124mwb\u001b[39m\u001b[38;5;124m'\u001b[39m) \u001b[38;5;28;01mas\u001b[39;00m f:\n\u001b[1;32m    269\u001b[0m         pickle\u001b[38;5;241m.\u001b[39mdump(\u001b[38;5;28mself\u001b[39m\u001b[38;5;241m.\u001b[39mres, f)\n",
      "\u001b[0;31mAttributeError\u001b[0m: 'Optimiser' object has no attribute 'surrogate'"
     ]
    }
   ],
   "source": [
    "main(acquisition='wu-idw')"
   ]
  },
  {
   "cell_type": "code",
   "execution_count": null,
   "id": "53892d9a-c611-4960-9cc0-3bcadf56d577",
   "metadata": {},
   "outputs": [],
   "source": []
  }
 ],
 "metadata": {
  "kernelspec": {
   "display_name": "Python [.conda-env_gpu]",
   "language": "python",
   "name": "conda-env-.conda-env_gpu-py"
  },
  "language_info": {
   "codemirror_mode": {
    "name": "ipython",
    "version": 3
   },
   "file_extension": ".py",
   "mimetype": "text/x-python",
   "name": "python",
   "nbconvert_exporter": "python",
   "pygments_lexer": "ipython3",
   "version": "3.9.13"
  }
 },
 "nbformat": 4,
 "nbformat_minor": 5
}
