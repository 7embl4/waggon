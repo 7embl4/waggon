{
 "cells": [
  {
   "cell_type": "code",
   "execution_count": 1,
   "metadata": {},
   "outputs": [],
   "source": [
    "from waggon.utils import display\n",
    "from waggon.surrogates import DGP\n",
    "from waggon.acquisitions import EI\n",
    "from waggon import functions as f\n",
    "from waggon.optim import SurrogateOptimiser"
   ]
  },
  {
   "cell_type": "code",
   "execution_count": null,
   "metadata": {},
   "outputs": [],
   "source": [
    "opt = SurrogateOptimiser(func=f.three_hump_camel(n_obs=100),\n",
    "                            surr=DGP(),\n",
    "                            acqf=EI(),\n",
    "                            seed=2)\n",
    "_ = opt.optimise()\n",
    "display(opt)"
   ]
  },
  {
   "cell_type": "code",
   "execution_count": null,
   "metadata": {},
   "outputs": [],
   "source": []
  }
 ],
 "metadata": {
  "kernelspec": {
   "display_name": "Python 3",
   "language": "python",
   "name": "python3"
  },
  "language_info": {
   "codemirror_mode": {
    "name": "ipython",
    "version": 3
   },
   "file_extension": ".py",
   "mimetype": "text/x-python",
   "name": "python",
   "nbconvert_exporter": "python",
   "pygments_lexer": "ipython3",
   "version": "3.12.8"
  }
 },
 "nbformat": 4,
 "nbformat_minor": 2
}
