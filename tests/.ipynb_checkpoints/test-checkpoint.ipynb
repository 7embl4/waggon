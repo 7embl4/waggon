{
 "cells": [
  {
   "cell_type": "code",
   "execution_count": 1,
   "id": "24c02aed-2c39-414f-a6a2-8f64dece765a",
   "metadata": {},
   "outputs": [],
   "source": [
    "import argparse\n",
    "from waggon.utils import display\n",
    "from waggon import functions as f\n",
    "from waggon.optim import Optimiser\n",
    "from waggon.acquisitions import WU, WU_IDW, EI, CB\n",
    "from waggon.surrogates import BNN, DE, DGP, GAN, GP"
   ]
  },
  {
   "cell_type": "code",
   "execution_count": 2,
   "id": "185e50d3-9d29-4dd4-8c64-88439dfafe81",
   "metadata": {},
   "outputs": [
    {
     "data": {
      "text/plain": [
       "True"
      ]
     },
     "execution_count": 2,
     "metadata": {},
     "output_type": "execute_result"
    }
   ],
   "source": [
    "import torch\n",
    "torch.cuda.is_available()"
   ]
  },
  {
   "cell_type": "code",
   "execution_count": 3,
   "id": "7f8f8325-3a64-4501-801b-b4734b83cc36",
   "metadata": {},
   "outputs": [],
   "source": [
    "FUNCS = {\n",
    "    'ackley':     f.ackley,\n",
    "    'himmelblau': f.himmelblau,\n",
    "    'holder':     f.holder,\n",
    "    'levi':       f.levi,\n",
    "    'rosenbrock': f.rosenbrock,\n",
    "    'tang':       f.tang,\n",
    "    'thc':        f.three_hump_camel\n",
    "}\n",
    "\n",
    "SURR = {\n",
    "    'bnn' : BNN(),\n",
    "    'de' :  DE(),\n",
    "    'dgp' : DGP(),\n",
    "    'gan' : GAN(),\n",
    "    'gp' :  GP()\n",
    "}\n",
    "\n",
    "ACQF = {\n",
    "    'wu':  WU(),\n",
    "    'wu-idw': WU_IDW(),\n",
    "    'ei':  EI(),\n",
    "    'lcb': CB(minimise=True),\n",
    "    'ucb': CB(minimise=False)\n",
    "}\n",
    "\n",
    "SEEDS = [2, 3, 5, 7, 11, 13, 17, 19, 23, 73]"
   ]
  },
  {
   "cell_type": "code",
   "execution_count": 4,
   "id": "37eeb7a1-b2ca-4d71-ac05-9db1d201e130",
   "metadata": {},
   "outputs": [],
   "source": [
    "function='thc'\n",
    "surrogate='gan'\n",
    "acquisition='wu-idw'"
   ]
  },
  {
   "cell_type": "code",
   "execution_count": 7,
   "id": "acd4079c-c4f8-45b6-91bb-102de1fecfc3",
   "metadata": {},
   "outputs": [
    {
     "name": "stdout",
     "output_type": "stream",
     "text": [
      "Experiment #0\n"
     ]
    },
    {
     "name": "stderr",
     "output_type": "stream",
     "text": [
      "Optimisation loop:   0%|          | 0/100 [00:00<?, ?it/s]\n",
      "\n",
      "  0%|          | 0/100 [00:00<?, ?epoch/s]\u001b[A\u001b[A\n",
      "\n",
      "G loss: 7.4088, D loss: -10.2110:   0%|          | 0/100 [00:00<?, ?epoch/s]\u001b[A\u001b[A\n",
      "\n",
      "G loss: 7.4088, D loss: -10.2110:   1%|          | 1/100 [00:00<00:44,  2.25epoch/s]\u001b[A\u001b[A\n",
      "\n",
      "G loss: 2.3125, D loss: -2.8503:   1%|          | 1/100 [00:00<00:44,  2.25epoch/s] \u001b[A\u001b[A\n",
      "\n",
      "G loss: 2.3125, D loss: -2.8503:   2%|▏         | 2/100 [00:00<00:40,  2.41epoch/s]\u001b[A\u001b[A\n",
      "\n",
      "G loss: -1.5460, D loss: -0.1061:   2%|▏         | 2/100 [00:01<00:40,  2.41epoch/s]\u001b[A\u001b[A\n",
      "\n",
      "G loss: -1.5460, D loss: -0.1061:   3%|▎         | 3/100 [00:01<00:38,  2.49epoch/s]\u001b[A\u001b[A\n",
      "\n",
      "G loss: -1.7004, D loss: 0.2322:   3%|▎         | 3/100 [00:01<00:38,  2.49epoch/s] \u001b[A\u001b[A\n",
      "\n",
      "G loss: -1.7004, D loss: 0.2322:   4%|▍         | 4/100 [00:01<00:37,  2.56epoch/s]\u001b[A\u001b[A\n",
      "\n",
      "G loss: -2.1257, D loss: 0.4840:   4%|▍         | 4/100 [00:01<00:37,  2.56epoch/s]\u001b[A\u001b[A\n",
      "\n",
      "G loss: -2.1257, D loss: 0.4840:   5%|▌         | 5/100 [00:01<00:36,  2.60epoch/s]\u001b[A\u001b[A\n",
      "\n",
      "G loss: -0.8491, D loss: -0.0740:   5%|▌         | 5/100 [00:02<00:36,  2.60epoch/s]\u001b[A\u001b[A\n",
      "\n",
      "G loss: -0.8491, D loss: -0.0740:   6%|▌         | 6/100 [00:02<00:35,  2.61epoch/s]\u001b[A\u001b[A\n",
      "\n",
      "G loss: 2.4148, D loss: 0.3350:   6%|▌         | 6/100 [00:02<00:35,  2.61epoch/s]  \u001b[A\u001b[A\n",
      "\n",
      "G loss: 2.4148, D loss: 0.3350:   7%|▋         | 7/100 [00:02<00:35,  2.61epoch/s]\u001b[A\u001b[A\n",
      "\n",
      "G loss: 2.3422, D loss: -0.2961:   7%|▋         | 7/100 [00:03<00:35,  2.61epoch/s]\u001b[A\u001b[A\n",
      "\n",
      "G loss: 2.3422, D loss: -0.2961:   8%|▊         | 8/100 [00:03<00:34,  2.64epoch/s]\u001b[A\u001b[A\n",
      "\n",
      "G loss: 6.7845, D loss: -0.2051:   8%|▊         | 8/100 [00:03<00:34,  2.64epoch/s]\u001b[A\u001b[A\n",
      "\n",
      "G loss: 6.7845, D loss: -0.2051:   9%|▉         | 9/100 [00:03<00:34,  2.65epoch/s]\u001b[A\u001b[A\n",
      "\n",
      "G loss: 7.9918, D loss: 0.0108:   9%|▉         | 9/100 [00:03<00:34,  2.65epoch/s] \u001b[A\u001b[A\n",
      "\n",
      "G loss: 7.9918, D loss: 0.0108:  10%|█         | 10/100 [00:03<00:33,  2.66epoch/s]\u001b[A\u001b[A\n",
      "\n",
      "G loss: 6.8455, D loss: 0.0135:  10%|█         | 10/100 [00:04<00:33,  2.66epoch/s]\u001b[A\u001b[A\n",
      "\n",
      "G loss: 6.8455, D loss: 0.0135:  11%|█         | 11/100 [00:04<00:33,  2.65epoch/s]\u001b[A\u001b[A\n",
      "\n",
      "G loss: 7.4268, D loss: 0.5240:  11%|█         | 11/100 [00:04<00:33,  2.65epoch/s]\u001b[A\u001b[A\n",
      "\n",
      "G loss: 7.4268, D loss: 0.5240:  12%|█▏        | 12/100 [00:04<00:33,  2.64epoch/s]\u001b[A\u001b[A\n",
      "\n",
      "G loss: 11.6841, D loss: -0.6877:  12%|█▏        | 12/100 [00:04<00:33,  2.64epoch/s]\u001b[A\u001b[A\n",
      "\n",
      "G loss: 11.6841, D loss: -0.6877:  13%|█▎        | 13/100 [00:04<00:32,  2.65epoch/s]\u001b[A\u001b[A\n",
      "\n",
      "G loss: 12.7968, D loss: -0.9235:  13%|█▎        | 13/100 [00:05<00:32,  2.65epoch/s]\u001b[A\u001b[A\n",
      "\n",
      "G loss: 12.7968, D loss: -0.9235:  14%|█▍        | 14/100 [00:05<00:32,  2.66epoch/s]\u001b[A\u001b[A\n",
      "\n",
      "G loss: 10.1132, D loss: 0.7054:  14%|█▍        | 14/100 [00:05<00:32,  2.66epoch/s] \u001b[A\u001b[A\n",
      "\n",
      "G loss: 10.1132, D loss: 0.7054:  15%|█▌        | 15/100 [00:05<00:32,  2.64epoch/s]\u001b[A\u001b[A\n",
      "\n",
      "G loss: 11.5345, D loss: 0.0963:  15%|█▌        | 15/100 [00:06<00:32,  2.64epoch/s]\u001b[A\u001b[A\n",
      "\n",
      "G loss: 11.5345, D loss: 0.0963:  16%|█▌        | 16/100 [00:06<00:32,  2.61epoch/s]\u001b[A\u001b[A\n",
      "\n",
      "G loss: 12.1611, D loss: -0.6489:  16%|█▌        | 16/100 [00:06<00:32,  2.61epoch/s]\u001b[A\u001b[A\n",
      "\n",
      "G loss: 12.1611, D loss: -0.6489:  17%|█▋        | 17/100 [00:06<00:31,  2.60epoch/s]\u001b[A\u001b[A\n",
      "\n",
      "G loss: 12.8404, D loss: 0.0711:  17%|█▋        | 17/100 [00:06<00:31,  2.60epoch/s] \u001b[A\u001b[A\n",
      "\n",
      "G loss: 12.8404, D loss: 0.0711:  18%|█▊        | 18/100 [00:06<00:31,  2.59epoch/s]\u001b[A\u001b[A\n",
      "\n",
      "G loss: 11.9300, D loss: -0.0192:  18%|█▊        | 18/100 [00:07<00:31,  2.59epoch/s]\u001b[A\u001b[A\n",
      "\n",
      "G loss: 11.9300, D loss: -0.0192:  19%|█▉        | 19/100 [00:07<00:31,  2.59epoch/s]\u001b[A\u001b[A\n",
      "\n",
      "G loss: 14.8404, D loss: -0.4366:  19%|█▉        | 19/100 [00:07<00:31,  2.59epoch/s]\u001b[A\u001b[A\n",
      "\n",
      "G loss: 14.8404, D loss: -0.4366:  20%|██        | 20/100 [00:07<00:30,  2.60epoch/s]\u001b[A\u001b[A\n",
      "\n",
      "G loss: 16.2239, D loss: -0.6266:  20%|██        | 20/100 [00:08<00:30,  2.60epoch/s]\u001b[A\u001b[A\n",
      "\n",
      "G loss: 16.2239, D loss: -0.6266:  21%|██        | 21/100 [00:08<00:30,  2.63epoch/s]\u001b[A\u001b[A\n",
      "\n",
      "G loss: 12.9908, D loss: 0.4144:  21%|██        | 21/100 [00:08<00:30,  2.63epoch/s] \u001b[A\u001b[A\n",
      "\n",
      "G loss: 12.9908, D loss: 0.4144:  22%|██▏       | 22/100 [00:08<00:29,  2.61epoch/s]\u001b[A\u001b[A\n",
      "\n",
      "G loss: 12.5314, D loss: 0.0874:  22%|██▏       | 22/100 [00:08<00:29,  2.61epoch/s]\u001b[A\u001b[A\n",
      "\n",
      "G loss: 12.5314, D loss: 0.0874:  23%|██▎       | 23/100 [00:08<00:29,  2.60epoch/s]\u001b[A\u001b[A\n",
      "\n",
      "G loss: 15.3996, D loss: -1.3511:  23%|██▎       | 23/100 [00:09<00:29,  2.60epoch/s]\u001b[A\u001b[A\n",
      "\n",
      "G loss: 15.3996, D loss: -1.3511:  24%|██▍       | 24/100 [00:09<00:29,  2.59epoch/s]\u001b[A\u001b[A\n",
      "\n",
      "G loss: 19.5973, D loss: -1.1403:  24%|██▍       | 24/100 [00:09<00:29,  2.59epoch/s]\u001b[A\u001b[A\n",
      "\n",
      "G loss: 19.5973, D loss: -1.1403:  25%|██▌       | 25/100 [00:09<00:28,  2.60epoch/s]\u001b[A\u001b[A\n",
      "\n",
      "G loss: 21.2392, D loss: -0.8503:  25%|██▌       | 25/100 [00:09<00:28,  2.60epoch/s]\u001b[A\u001b[A\n",
      "\n",
      "G loss: 21.2392, D loss: -0.8503:  26%|██▌       | 26/100 [00:09<00:28,  2.63epoch/s]\u001b[A\u001b[A\n",
      "\n",
      "G loss: 18.1891, D loss: 0.1942:  26%|██▌       | 26/100 [00:10<00:28,  2.63epoch/s] \u001b[A\u001b[A\n",
      "\n",
      "G loss: 18.1891, D loss: 0.1942:  27%|██▋       | 27/100 [00:10<00:27,  2.62epoch/s]\u001b[A\u001b[A\n",
      "\n",
      "G loss: 21.8384, D loss: 0.3526:  27%|██▋       | 27/100 [00:10<00:27,  2.62epoch/s]\u001b[A\u001b[A\n",
      "\n",
      "G loss: 21.8384, D loss: 0.3526:  28%|██▊       | 28/100 [00:10<00:28,  2.57epoch/s]\u001b[A\u001b[A\n",
      "\n",
      "G loss: 20.7891, D loss: -0.0053:  28%|██▊       | 28/100 [00:11<00:28,  2.57epoch/s]\u001b[A\u001b[A\n",
      "\n",
      "G loss: 20.7891, D loss: -0.0053:  29%|██▉       | 29/100 [00:11<00:27,  2.57epoch/s]\u001b[A\u001b[A\n",
      "\n",
      "G loss: 22.5768, D loss: 0.0341:  29%|██▉       | 29/100 [00:11<00:27,  2.57epoch/s] \u001b[A\u001b[A\n",
      "\n",
      "G loss: 22.5768, D loss: 0.0341:  30%|███       | 30/100 [00:11<00:27,  2.59epoch/s]\u001b[A\u001b[A\n",
      "\n",
      "G loss: 21.4259, D loss: 0.4577:  30%|███       | 30/100 [00:11<00:27,  2.59epoch/s]\u001b[A\u001b[A\n",
      "\n",
      "G loss: 21.4259, D loss: 0.4577:  31%|███       | 31/100 [00:11<00:26,  2.59epoch/s]\u001b[A\u001b[A\n",
      "\n",
      "G loss: 25.9717, D loss: -0.5561:  31%|███       | 31/100 [00:12<00:26,  2.59epoch/s]\u001b[A\u001b[A\n",
      "\n",
      "G loss: 25.9717, D loss: -0.5561:  32%|███▏      | 32/100 [00:12<00:26,  2.58epoch/s]\u001b[A\u001b[A\n",
      "\n",
      "G loss: 23.2615, D loss: -0.8677:  32%|███▏      | 32/100 [00:12<00:26,  2.58epoch/s]\u001b[A\u001b[A\n",
      "\n",
      "G loss: 23.2615, D loss: -0.8677:  33%|███▎      | 33/100 [00:12<00:25,  2.61epoch/s]\u001b[A\u001b[A\n",
      "\n",
      "G loss: 20.7932, D loss: -0.3871:  33%|███▎      | 33/100 [00:13<00:25,  2.61epoch/s]\u001b[A\u001b[A\n",
      "\n",
      "G loss: 20.7932, D loss: -0.3871:  34%|███▍      | 34/100 [00:13<00:25,  2.62epoch/s]\u001b[A\u001b[A\n",
      "\n",
      "G loss: 22.1732, D loss: -0.2876:  34%|███▍      | 34/100 [00:13<00:25,  2.62epoch/s]\u001b[A\u001b[A\n",
      "\n",
      "G loss: 22.1732, D loss: -0.2876:  35%|███▌      | 35/100 [00:13<00:24,  2.63epoch/s]\u001b[A\u001b[A\n",
      "\n",
      "G loss: 20.4903, D loss: -0.0358:  35%|███▌      | 35/100 [00:13<00:24,  2.63epoch/s]\u001b[A\u001b[A\n",
      "\n",
      "G loss: 20.4903, D loss: -0.0358:  36%|███▌      | 36/100 [00:13<00:24,  2.63epoch/s]\u001b[A\u001b[A\n",
      "\n",
      "G loss: 21.5315, D loss: 0.0230:  36%|███▌      | 36/100 [00:14<00:24,  2.63epoch/s] \u001b[A\u001b[A\n",
      "\n",
      "G loss: 21.5315, D loss: 0.0230:  37%|███▋      | 37/100 [00:14<00:24,  2.61epoch/s]\u001b[A\u001b[A\n",
      "\n",
      "G loss: 20.9038, D loss: 0.4235:  37%|███▋      | 37/100 [00:14<00:24,  2.61epoch/s]\u001b[A\u001b[A\n",
      "\n",
      "G loss: 20.9038, D loss: 0.4235:  38%|███▊      | 38/100 [00:14<00:23,  2.61epoch/s]\u001b[A\u001b[A\n",
      "\n",
      "G loss: 21.1826, D loss: 0.2954:  38%|███▊      | 38/100 [00:14<00:23,  2.61epoch/s]\u001b[A\u001b[A\n",
      "\n",
      "G loss: 21.1826, D loss: 0.2954:  39%|███▉      | 39/100 [00:14<00:23,  2.63epoch/s]\u001b[A\u001b[A\n",
      "\n",
      "G loss: 20.6082, D loss: 0.3217:  39%|███▉      | 39/100 [00:15<00:23,  2.63epoch/s]\u001b[A\u001b[A\n",
      "\n",
      "G loss: 20.6082, D loss: 0.3217:  40%|████      | 40/100 [00:15<00:22,  2.61epoch/s]\u001b[A\u001b[A\n",
      "\n",
      "G loss: 22.4152, D loss: -0.0425:  40%|████      | 40/100 [00:15<00:22,  2.61epoch/s]\u001b[A\u001b[A\n",
      "\n",
      "G loss: 22.4152, D loss: -0.0425:  41%|████      | 41/100 [00:15<00:22,  2.58epoch/s]\u001b[A\u001b[A\n",
      "\n",
      "G loss: 23.4376, D loss: 0.0100:  41%|████      | 41/100 [00:16<00:22,  2.58epoch/s] \u001b[A\u001b[A\n",
      "\n",
      "G loss: 23.4376, D loss: 0.0100:  42%|████▏     | 42/100 [00:16<00:22,  2.56epoch/s]\u001b[A\u001b[A\n",
      "\n",
      "G loss: 21.5940, D loss: 0.2115:  42%|████▏     | 42/100 [00:16<00:22,  2.56epoch/s]\u001b[A\u001b[A\n",
      "\n",
      "G loss: 21.5940, D loss: 0.2115:  43%|████▎     | 43/100 [00:16<00:21,  2.60epoch/s]\u001b[A\u001b[A\n",
      "\n",
      "G loss: 22.0284, D loss: 0.2345:  43%|████▎     | 43/100 [00:16<00:21,  2.60epoch/s]\u001b[A\u001b[A\n",
      "\n",
      "G loss: 22.0284, D loss: 0.2345:  44%|████▍     | 44/100 [00:16<00:21,  2.61epoch/s]\u001b[A\u001b[A\n",
      "\n",
      "G loss: 22.8118, D loss: 0.1766:  44%|████▍     | 44/100 [00:17<00:21,  2.61epoch/s]\u001b[A\u001b[A\n",
      "\n",
      "G loss: 22.8118, D loss: 0.1766:  45%|████▌     | 45/100 [00:17<00:20,  2.62epoch/s]\u001b[A\u001b[A\n",
      "\n",
      "G loss: 21.8502, D loss: 0.3030:  45%|████▌     | 45/100 [00:17<00:20,  2.62epoch/s]\u001b[A\u001b[A\n",
      "\n",
      "G loss: 21.8502, D loss: 0.3030:  46%|████▌     | 46/100 [00:17<00:20,  2.64epoch/s]\u001b[A\u001b[A\n",
      "\n",
      "G loss: 23.3054, D loss: 0.3590:  46%|████▌     | 46/100 [00:18<00:20,  2.64epoch/s]\u001b[A\u001b[A\n",
      "\n",
      "G loss: 23.3054, D loss: 0.3590:  47%|████▋     | 47/100 [00:18<00:20,  2.63epoch/s]\u001b[A\u001b[A\n",
      "\n",
      "G loss: 22.4157, D loss: 0.4084:  47%|████▋     | 47/100 [00:18<00:20,  2.63epoch/s]\u001b[A\u001b[A\n",
      "\n",
      "G loss: 22.4157, D loss: 0.4084:  48%|████▊     | 48/100 [00:18<00:19,  2.62epoch/s]\u001b[A\u001b[A\n",
      "\n",
      "G loss: 23.0383, D loss: 0.4700:  48%|████▊     | 48/100 [00:18<00:19,  2.62epoch/s]\u001b[A\u001b[A\n",
      "\n",
      "G loss: 23.0383, D loss: 0.4700:  49%|████▉     | 49/100 [00:18<00:19,  2.63epoch/s]\u001b[A\u001b[A\n",
      "\n",
      "G loss: 24.1516, D loss: 0.4782:  49%|████▉     | 49/100 [00:19<00:19,  2.63epoch/s]\u001b[A\u001b[A\n",
      "\n",
      "G loss: 24.1516, D loss: 0.4782:  50%|█████     | 50/100 [00:19<00:19,  2.62epoch/s]\u001b[A\u001b[A\n",
      "\n",
      "G loss: 24.1482, D loss: 0.2437:  50%|█████     | 50/100 [00:19<00:19,  2.62epoch/s]\u001b[A\u001b[A\n",
      "\n",
      "G loss: 24.1482, D loss: 0.2437:  51%|█████     | 51/100 [00:19<00:18,  2.63epoch/s]\u001b[A\u001b[A\n",
      "\n",
      "G loss: 23.7839, D loss: 0.3477:  51%|█████     | 51/100 [00:19<00:18,  2.63epoch/s]\u001b[A\u001b[A\n",
      "\n",
      "G loss: 23.7839, D loss: 0.3477:  52%|█████▏    | 52/100 [00:19<00:18,  2.62epoch/s]\u001b[A\u001b[A\n",
      "\n",
      "G loss: 20.4375, D loss: 0.3837:  52%|█████▏    | 52/100 [00:20<00:18,  2.62epoch/s]\u001b[A\u001b[A\n",
      "\n",
      "G loss: 20.4375, D loss: 0.3837:  53%|█████▎    | 53/100 [00:20<00:18,  2.57epoch/s]\u001b[A\u001b[A\n",
      "\n",
      "G loss: 23.1918, D loss: 0.4119:  53%|█████▎    | 53/100 [00:20<00:18,  2.57epoch/s]\u001b[A\u001b[A\n",
      "\n",
      "G loss: 23.1918, D loss: 0.4119:  54%|█████▍    | 54/100 [00:20<00:18,  2.49epoch/s]\u001b[A\u001b[A\n",
      "\n",
      "G loss: 20.5885, D loss: 0.4855:  54%|█████▍    | 54/100 [00:21<00:18,  2.49epoch/s]\u001b[A\u001b[A\n",
      "\n",
      "G loss: 20.5885, D loss: 0.4855:  55%|█████▌    | 55/100 [00:21<00:18,  2.46epoch/s]\u001b[A\u001b[A\n",
      "\n",
      "G loss: 23.4172, D loss: 0.6652:  55%|█████▌    | 55/100 [00:21<00:18,  2.46epoch/s]\u001b[A\u001b[A\n",
      "\n",
      "G loss: 23.4172, D loss: 0.6652:  56%|█████▌    | 56/100 [00:21<00:17,  2.50epoch/s]\u001b[A\u001b[A\n",
      "\n",
      "G loss: 23.2051, D loss: 0.6224:  56%|█████▌    | 56/100 [00:21<00:17,  2.50epoch/s]\u001b[A\u001b[A\n",
      "\n",
      "G loss: 23.2051, D loss: 0.6224:  57%|█████▋    | 57/100 [00:21<00:16,  2.53epoch/s]\u001b[A\u001b[A\n",
      "\n",
      "G loss: 22.2269, D loss: 0.6446:  57%|█████▋    | 57/100 [00:22<00:16,  2.53epoch/s]\u001b[A\u001b[A\n",
      "\n",
      "G loss: 22.2269, D loss: 0.6446:  58%|█████▊    | 58/100 [00:22<00:16,  2.55epoch/s]\u001b[A\u001b[A\n",
      "\n",
      "G loss: 20.7965, D loss: 0.7104:  58%|█████▊    | 58/100 [00:22<00:16,  2.55epoch/s]\u001b[A\u001b[A\n",
      "\n",
      "G loss: 20.7965, D loss: 0.7104:  59%|█████▉    | 59/100 [00:22<00:15,  2.61epoch/s]\u001b[A\u001b[A\n",
      "\n",
      "G loss: 21.8510, D loss: 0.8072:  59%|█████▉    | 59/100 [00:23<00:15,  2.61epoch/s]\u001b[A\u001b[A\n",
      "\n",
      "G loss: 21.8510, D loss: 0.8072:  60%|██████    | 60/100 [00:23<00:15,  2.63epoch/s]\u001b[A\u001b[A\n",
      "\n",
      "G loss: 20.7353, D loss: 0.8699:  60%|██████    | 60/100 [00:23<00:15,  2.63epoch/s]\u001b[A\u001b[A\n",
      "\n",
      "G loss: 20.7353, D loss: 0.8699:  61%|██████    | 61/100 [00:23<00:14,  2.63epoch/s]\u001b[A\u001b[A\n",
      "\n",
      "G loss: 22.2856, D loss: 0.8546:  61%|██████    | 61/100 [00:23<00:14,  2.63epoch/s]\u001b[A\u001b[A\n",
      "\n",
      "G loss: 22.2856, D loss: 0.8546:  62%|██████▏   | 62/100 [00:23<00:14,  2.62epoch/s]\u001b[A\u001b[A\n",
      "\n",
      "G loss: 23.2222, D loss: 0.8402:  62%|██████▏   | 62/100 [00:24<00:14,  2.62epoch/s]\u001b[A\u001b[A\n",
      "\n",
      "G loss: 23.2222, D loss: 0.8402:  63%|██████▎   | 63/100 [00:24<00:14,  2.63epoch/s]\u001b[A\u001b[A\n",
      "\n",
      "G loss: 23.5296, D loss: 0.5532:  63%|██████▎   | 63/100 [00:24<00:14,  2.63epoch/s]\u001b[A\u001b[A\n",
      "\n",
      "G loss: 23.5296, D loss: 0.5532:  64%|██████▍   | 64/100 [00:24<00:13,  2.65epoch/s]\u001b[A\u001b[A\n",
      "\n",
      "G loss: 22.0776, D loss: 0.6990:  64%|██████▍   | 64/100 [00:24<00:13,  2.65epoch/s]\u001b[A\u001b[A\n",
      "\n",
      "G loss: 22.0776, D loss: 0.6990:  65%|██████▌   | 65/100 [00:24<00:13,  2.66epoch/s]\u001b[A\u001b[A\n",
      "\n",
      "G loss: 25.9354, D loss: -0.4391:  65%|██████▌   | 65/100 [00:25<00:13,  2.66epoch/s]\u001b[A\u001b[A\n",
      "\n",
      "G loss: 25.9354, D loss: -0.4391:  66%|██████▌   | 66/100 [00:25<00:12,  2.67epoch/s]\u001b[A\u001b[A\n",
      "\n",
      "G loss: 21.3510, D loss: 0.4371:  66%|██████▌   | 66/100 [00:25<00:12,  2.67epoch/s] \u001b[A\u001b[A\n",
      "\n",
      "G loss: 21.3510, D loss: 0.4371:  67%|██████▋   | 67/100 [00:25<00:12,  2.66epoch/s]\u001b[A\u001b[A\n",
      "\n",
      "G loss: 23.2734, D loss: 0.1186:  67%|██████▋   | 67/100 [00:26<00:12,  2.66epoch/s]\u001b[A\u001b[A\n",
      "\n",
      "G loss: 23.2734, D loss: 0.1186:  68%|██████▊   | 68/100 [00:26<00:11,  2.67epoch/s]\u001b[A\u001b[A\n",
      "\n",
      "G loss: 19.8268, D loss: -0.0498:  68%|██████▊   | 68/100 [00:26<00:11,  2.67epoch/s]\u001b[A\u001b[A\n",
      "\n",
      "G loss: 19.8268, D loss: -0.0498:  69%|██████▉   | 69/100 [00:26<00:11,  2.69epoch/s]\u001b[A\u001b[A\n",
      "\n",
      "G loss: 25.0284, D loss: 0.2407:  69%|██████▉   | 69/100 [00:26<00:11,  2.69epoch/s] \u001b[A\u001b[A\n",
      "\n",
      "G loss: 25.0284, D loss: 0.2407:  70%|███████   | 70/100 [00:26<00:11,  2.68epoch/s]\u001b[A\u001b[A\n",
      "\n",
      "G loss: 23.2262, D loss: -0.0918:  70%|███████   | 70/100 [00:27<00:11,  2.68epoch/s]\u001b[A\u001b[A\n",
      "\n",
      "G loss: 23.2262, D loss: -0.0918:  71%|███████   | 71/100 [00:27<00:10,  2.68epoch/s]\u001b[A\u001b[A\n",
      "\n",
      "G loss: 17.9277, D loss: -0.0478:  71%|███████   | 71/100 [00:27<00:10,  2.68epoch/s]\u001b[A\u001b[A\n",
      "\n",
      "G loss: 17.9277, D loss: -0.0478:  72%|███████▏  | 72/100 [00:27<00:10,  2.66epoch/s]\u001b[A\u001b[A\n",
      "\n",
      "G loss: 27.3510, D loss: -0.9253:  72%|███████▏  | 72/100 [00:27<00:10,  2.66epoch/s]\u001b[A\u001b[A\n",
      "\n",
      "G loss: 27.3510, D loss: -0.9253:  73%|███████▎  | 73/100 [00:27<00:10,  2.65epoch/s]\u001b[A\u001b[A\n",
      "\n",
      "G loss: 23.3321, D loss: -0.5386:  73%|███████▎  | 73/100 [00:28<00:10,  2.65epoch/s]\u001b[A\u001b[A\n",
      "\n",
      "G loss: 23.3321, D loss: -0.5386:  74%|███████▍  | 74/100 [00:28<00:09,  2.65epoch/s]\u001b[A\u001b[A\n",
      "\n",
      "G loss: 25.3050, D loss: -0.8091:  74%|███████▍  | 74/100 [00:28<00:09,  2.65epoch/s]\u001b[A\u001b[A\n",
      "\n",
      "G loss: 25.3050, D loss: -0.8091:  75%|███████▌  | 75/100 [00:28<00:09,  2.67epoch/s]\u001b[A\u001b[A\n",
      "\n",
      "G loss: 22.9489, D loss: -0.2408:  75%|███████▌  | 75/100 [00:29<00:09,  2.67epoch/s]\u001b[A\u001b[A\n",
      "\n",
      "G loss: 22.9489, D loss: -0.2408:  76%|███████▌  | 76/100 [00:29<00:08,  2.68epoch/s]\u001b[A\u001b[A\n",
      "\n",
      "G loss: 21.7914, D loss: -0.3969:  76%|███████▌  | 76/100 [00:29<00:08,  2.68epoch/s]\u001b[A\u001b[A\n",
      "\n",
      "G loss: 21.7914, D loss: -0.3969:  77%|███████▋  | 77/100 [00:29<00:08,  2.68epoch/s]\u001b[A\u001b[A\n",
      "\n",
      "G loss: 27.0341, D loss: -0.5557:  77%|███████▋  | 77/100 [00:29<00:08,  2.68epoch/s]\u001b[A\u001b[A\n",
      "\n",
      "G loss: 27.0341, D loss: -0.5557:  78%|███████▊  | 78/100 [00:29<00:08,  2.67epoch/s]\u001b[A\u001b[A\n",
      "\n",
      "G loss: 25.8579, D loss: -0.5096:  78%|███████▊  | 78/100 [00:30<00:08,  2.67epoch/s]\u001b[A\u001b[A\n",
      "\n",
      "G loss: 25.8579, D loss: -0.5096:  79%|███████▉  | 79/100 [00:30<00:07,  2.67epoch/s]\u001b[A\u001b[A\n",
      "\n",
      "G loss: 24.3463, D loss: -0.6859:  79%|███████▉  | 79/100 [00:30<00:07,  2.67epoch/s]\u001b[A\u001b[A\n",
      "\n",
      "G loss: 24.3463, D loss: -0.6859:  80%|████████  | 80/100 [00:30<00:07,  2.64epoch/s]\u001b[A\u001b[A\n",
      "\n",
      "G loss: 26.8844, D loss: -1.1724:  80%|████████  | 80/100 [00:30<00:07,  2.64epoch/s]\u001b[A\u001b[A\n",
      "\n",
      "G loss: 26.8844, D loss: -1.1724:  81%|████████  | 81/100 [00:30<00:07,  2.62epoch/s]\u001b[A\u001b[A\n",
      "\n",
      "G loss: 27.4113, D loss: -1.0755:  81%|████████  | 81/100 [00:31<00:07,  2.62epoch/s]\u001b[A\u001b[A\n",
      "\n",
      "G loss: 27.4113, D loss: -1.0755:  82%|████████▏ | 82/100 [00:31<00:06,  2.62epoch/s]\u001b[A\u001b[A\n",
      "\n",
      "G loss: 27.1779, D loss: -1.0038:  82%|████████▏ | 82/100 [00:31<00:06,  2.62epoch/s]\u001b[A\u001b[A\n",
      "\n",
      "G loss: 27.1779, D loss: -1.0038:  83%|████████▎ | 83/100 [00:31<00:06,  2.63epoch/s]\u001b[A\u001b[A\n",
      "\n",
      "G loss: 25.2786, D loss: -0.8006:  83%|████████▎ | 83/100 [00:32<00:06,  2.63epoch/s]\u001b[A\u001b[A\n",
      "\n",
      "G loss: 25.2786, D loss: -0.8006:  84%|████████▍ | 84/100 [00:32<00:06,  2.64epoch/s]\u001b[A\u001b[A\n",
      "\n",
      "G loss: 27.0031, D loss: -0.8276:  84%|████████▍ | 84/100 [00:32<00:06,  2.64epoch/s]\u001b[A\u001b[A\n",
      "\n",
      "G loss: 27.0031, D loss: -0.8276:  85%|████████▌ | 85/100 [00:32<00:05,  2.66epoch/s]\u001b[A\u001b[A\n",
      "\n",
      "G loss: 24.7976, D loss: -0.8629:  85%|████████▌ | 85/100 [00:32<00:05,  2.66epoch/s]\u001b[A\u001b[A\n",
      "\n",
      "G loss: 24.7976, D loss: -0.8629:  86%|████████▌ | 86/100 [00:32<00:05,  2.67epoch/s]\u001b[A\u001b[A\n",
      "\n",
      "G loss: 24.7501, D loss: -0.6456:  86%|████████▌ | 86/100 [00:33<00:05,  2.67epoch/s]\u001b[A\u001b[A\n",
      "\n",
      "G loss: 24.7501, D loss: -0.6456:  87%|████████▋ | 87/100 [00:33<00:04,  2.66epoch/s]\u001b[A\u001b[A\n",
      "\n",
      "G loss: 19.7654, D loss: 0.0532:  87%|████████▋ | 87/100 [00:33<00:04,  2.66epoch/s] \u001b[A\u001b[A\n",
      "\n",
      "G loss: 19.7654, D loss: 0.0532:  88%|████████▊ | 88/100 [00:33<00:04,  2.63epoch/s]\u001b[A\u001b[A\n",
      "\n",
      "G loss: 23.1470, D loss: -0.3153:  88%|████████▊ | 88/100 [00:34<00:04,  2.63epoch/s]\u001b[A\u001b[A\n",
      "\n",
      "G loss: 23.1470, D loss: -0.3153:  89%|████████▉ | 89/100 [00:34<00:04,  2.61epoch/s]\u001b[A\u001b[A\n",
      "\n",
      "G loss: 25.3948, D loss: -0.8024:  89%|████████▉ | 89/100 [00:34<00:04,  2.61epoch/s]\u001b[A\u001b[A\n",
      "\n",
      "G loss: 25.3948, D loss: -0.8024:  90%|█████████ | 90/100 [00:34<00:03,  2.60epoch/s]\u001b[A\u001b[A\n",
      "\n",
      "G loss: 26.1869, D loss: -0.9233:  90%|█████████ | 90/100 [00:34<00:03,  2.60epoch/s]\u001b[A\u001b[A\n",
      "\n",
      "G loss: 26.1869, D loss: -0.9233:  91%|█████████ | 91/100 [00:34<00:03,  2.62epoch/s]\u001b[A\u001b[A\n",
      "\n",
      "G loss: 27.3326, D loss: -1.3948:  91%|█████████ | 91/100 [00:35<00:03,  2.62epoch/s]\u001b[A\u001b[A\n",
      "\n",
      "G loss: 27.3326, D loss: -1.3948:  92%|█████████▏| 92/100 [00:35<00:03,  2.63epoch/s]\u001b[A\u001b[A\n",
      "\n",
      "G loss: 24.2840, D loss: -0.9618:  92%|█████████▏| 92/100 [00:35<00:03,  2.63epoch/s]\u001b[A\u001b[A\n",
      "\n",
      "G loss: 24.2840, D loss: -0.9618:  93%|█████████▎| 93/100 [00:35<00:02,  2.65epoch/s]\u001b[A\u001b[A\n",
      "\n",
      "G loss: 27.6933, D loss: -0.9202:  93%|█████████▎| 93/100 [00:35<00:02,  2.65epoch/s]\u001b[A\u001b[A\n",
      "\n",
      "G loss: 27.6933, D loss: -0.9202:  94%|█████████▍| 94/100 [00:35<00:02,  2.66epoch/s]\u001b[A\u001b[A\n",
      "\n",
      "G loss: 24.4610, D loss: -0.3063:  94%|█████████▍| 94/100 [00:36<00:02,  2.66epoch/s]\u001b[A\u001b[A\n",
      "\n",
      "G loss: 24.4610, D loss: -0.3063:  95%|█████████▌| 95/100 [00:36<00:01,  2.65epoch/s]\u001b[A\u001b[A\n",
      "\n",
      "G loss: 22.8331, D loss: -0.3243:  95%|█████████▌| 95/100 [00:36<00:01,  2.65epoch/s]\u001b[A\u001b[A\n",
      "\n",
      "G loss: 22.8331, D loss: -0.3243:  96%|█████████▌| 96/100 [00:36<00:01,  2.65epoch/s]\u001b[A\u001b[A\n",
      "\n",
      "G loss: 24.9050, D loss: -0.2598:  96%|█████████▌| 96/100 [00:37<00:01,  2.65epoch/s]\u001b[A\u001b[A\n",
      "\n",
      "G loss: 24.9050, D loss: -0.2598:  97%|█████████▋| 97/100 [00:37<00:01,  2.64epoch/s]\u001b[A\u001b[A\n",
      "\n",
      "G loss: 24.6144, D loss: -1.4899:  97%|█████████▋| 97/100 [00:37<00:01,  2.64epoch/s]\u001b[A\u001b[A\n",
      "\n",
      "G loss: 24.6144, D loss: -1.4899:  98%|█████████▊| 98/100 [00:37<00:00,  2.65epoch/s]\u001b[A\u001b[A\n",
      "\n",
      "G loss: 20.2722, D loss: 0.2996:  98%|█████████▊| 98/100 [00:37<00:00,  2.65epoch/s] \u001b[A\u001b[A\n",
      "\n",
      "G loss: 20.2722, D loss: 0.2996:  99%|█████████▉| 99/100 [00:37<00:00,  2.64epoch/s]\u001b[A\u001b[A\n",
      "\n",
      "G loss: 25.3622, D loss: -1.1765:  99%|█████████▉| 99/100 [00:38<00:00,  2.64epoch/s]\u001b[A\u001b[A\n",
      "\n",
      "G loss: 25.3622, D loss: -1.1765: 100%|██████████| 100/100 [00:38<00:00,  2.62epoch/s]\u001b[A\u001b[A\n",
      "\n",
      "wu idw:   0%|          | 0/1 [00:00<?, ?it/s]\u001b[A\n",
      "\n",
      "100%|██████████| 4/4 [00:00<00:00, 4546.67it/s]\n",
      "wu idw: 100%|██████████| 1/1 [00:00<00:00, 231.60it/s]\n"
     ]
    },
    {
     "name": "stdout",
     "output_type": "stream",
     "text": [
      "(4, 2) (1, 2)\n",
      "<class 'numpy.ndarray'> <class 'numpy.ndarray'>\n"
     ]
    },
    {
     "name": "stderr",
     "output_type": "stream",
     "text": [
      "\n",
      "wu idw:   0%|          | 0/1 [00:00<?, ?it/s]\u001b[A\n",
      "\n",
      "100%|██████████| 4/4 [00:00<00:00, 5607.36it/s]\n",
      "wu idw: 100%|██████████| 1/1 [00:00<00:00, 167.75it/s]\n"
     ]
    },
    {
     "name": "stdout",
     "output_type": "stream",
     "text": [
      "(4, 2) (1, 2)\n",
      "<class 'numpy.ndarray'> <class 'numpy.ndarray'>\n"
     ]
    },
    {
     "name": "stderr",
     "output_type": "stream",
     "text": [
      "\n",
      "wu idw:   0%|          | 0/1 [00:00<?, ?it/s]\u001b[A\n",
      "\n",
      "100%|██████████| 4/4 [00:00<00:00, 1941.58it/s]\n",
      "wu idw: 100%|██████████| 1/1 [00:00<00:00, 127.48it/s]\n"
     ]
    },
    {
     "name": "stdout",
     "output_type": "stream",
     "text": [
      "(4, 2) (1, 2)\n",
      "<class 'numpy.ndarray'> <class 'numpy.ndarray'>\n"
     ]
    },
    {
     "name": "stderr",
     "output_type": "stream",
     "text": [
      "\n",
      "wu idw:   0%|          | 0/1 [00:00<?, ?it/s]\u001b[A\n",
      "\n",
      "100%|██████████| 4/4 [00:00<00:00, 1665.56it/s]\n",
      "wu idw: 100%|██████████| 1/1 [00:00<00:00, 105.15it/s]\n"
     ]
    },
    {
     "name": "stdout",
     "output_type": "stream",
     "text": [
      "(4, 2) (1, 2)\n",
      "<class 'numpy.ndarray'> <class 'numpy.ndarray'>\n"
     ]
    },
    {
     "name": "stderr",
     "output_type": "stream",
     "text": [
      "\n",
      "wu idw:   0%|          | 0/1 [00:00<?, ?it/s]\u001b[A\n",
      "\n",
      "100%|██████████| 4/4 [00:00<00:00, 5127.51it/s]\n",
      "wu idw: 100%|██████████| 1/1 [00:00<00:00, 143.97it/s]\n"
     ]
    },
    {
     "name": "stdout",
     "output_type": "stream",
     "text": [
      "(4, 2) (1, 2)\n",
      "<class 'numpy.ndarray'> <class 'numpy.ndarray'>\n"
     ]
    },
    {
     "name": "stderr",
     "output_type": "stream",
     "text": [
      "\n",
      "wu idw:   0%|          | 0/1 [00:00<?, ?it/s]\u001b[A\n",
      "\n",
      "100%|██████████| 4/4 [00:00<00:00, 3338.09it/s]\n",
      "wu idw: 100%|██████████| 1/1 [00:00<00:00, 178.12it/s]\n"
     ]
    },
    {
     "name": "stdout",
     "output_type": "stream",
     "text": [
      "(4, 2) (1, 2)\n",
      "<class 'numpy.ndarray'> <class 'numpy.ndarray'>\n"
     ]
    },
    {
     "name": "stderr",
     "output_type": "stream",
     "text": [
      "\n",
      "wu idw:   0%|          | 0/1 [00:00<?, ?it/s]\u001b[A\n",
      "\n",
      "100%|██████████| 4/4 [00:00<00:00, 4336.32it/s]\n",
      "wu idw: 100%|██████████| 1/1 [00:00<00:00, 230.38it/s]\n"
     ]
    },
    {
     "name": "stdout",
     "output_type": "stream",
     "text": [
      "(4, 2) (1, 2)\n",
      "<class 'numpy.ndarray'> <class 'numpy.ndarray'>\n"
     ]
    },
    {
     "name": "stderr",
     "output_type": "stream",
     "text": [
      "\n",
      "wu idw:   0%|          | 0/1 [00:00<?, ?it/s]\u001b[A\n",
      "\n",
      "100%|██████████| 4/4 [00:00<00:00, 4327.37it/s]\n",
      "wu idw: 100%|██████████| 1/1 [00:00<00:00, 234.28it/s]\n"
     ]
    },
    {
     "name": "stdout",
     "output_type": "stream",
     "text": [
      "(4, 2) (1, 2)\n",
      "<class 'numpy.ndarray'> <class 'numpy.ndarray'>\n"
     ]
    },
    {
     "name": "stderr",
     "output_type": "stream",
     "text": [
      "\n",
      "wu idw:   0%|          | 0/1 [00:00<?, ?it/s]\u001b[A\n",
      "\n",
      "100%|██████████| 4/4 [00:00<00:00, 6952.85it/s]\n",
      "wu idw: 100%|██████████| 1/1 [00:00<00:00, 318.50it/s]\n"
     ]
    },
    {
     "name": "stdout",
     "output_type": "stream",
     "text": [
      "(4, 2) (1, 2)\n",
      "<class 'numpy.ndarray'> <class 'numpy.ndarray'>\n"
     ]
    },
    {
     "name": "stderr",
     "output_type": "stream",
     "text": [
      "\n",
      "wu idw:   0%|          | 0/1 [00:00<?, ?it/s]\u001b[A\n",
      "\n",
      "100%|██████████| 4/4 [00:00<00:00, 4340.81it/s]\n",
      "wu idw: 100%|██████████| 1/1 [00:00<00:00, 266.31it/s]\n"
     ]
    },
    {
     "name": "stdout",
     "output_type": "stream",
     "text": [
      "(4, 2) (1, 2)\n",
      "<class 'numpy.ndarray'> <class 'numpy.ndarray'>\n"
     ]
    },
    {
     "name": "stderr",
     "output_type": "stream",
     "text": [
      "\n",
      "wu idw:   0%|          | 0/1 [00:00<?, ?it/s]\u001b[A\n",
      "\n",
      "100%|██████████| 4/4 [00:00<00:00, 5422.50it/s]\n",
      "wu idw: 100%|██████████| 1/1 [00:00<00:00, 307.19it/s]\n"
     ]
    },
    {
     "name": "stdout",
     "output_type": "stream",
     "text": [
      "(4, 2) (1, 2)\n",
      "<class 'numpy.ndarray'> <class 'numpy.ndarray'>\n"
     ]
    },
    {
     "name": "stderr",
     "output_type": "stream",
     "text": [
      "\n",
      "wu idw:   0%|          | 0/1 [00:00<?, ?it/s]\u001b[A\n",
      "\n",
      "100%|██████████| 4/4 [00:00<00:00, 7646.86it/s]\n",
      "wu idw: 100%|██████████| 1/1 [00:00<00:00, 198.81it/s]\n"
     ]
    },
    {
     "name": "stdout",
     "output_type": "stream",
     "text": [
      "(4, 2) (1, 2)\n",
      "<class 'numpy.ndarray'> <class 'numpy.ndarray'>\n"
     ]
    },
    {
     "name": "stderr",
     "output_type": "stream",
     "text": [
      "\n",
      "wu idw:   0%|          | 0/1 [00:00<?, ?it/s]\u001b[A\n",
      "\n",
      "100%|██████████| 4/4 [00:00<00:00, 2125.85it/s]\n",
      "wu idw: 100%|██████████| 1/1 [00:00<00:00, 137.33it/s]\n"
     ]
    },
    {
     "name": "stdout",
     "output_type": "stream",
     "text": [
      "(4, 2) (1, 2)\n",
      "<class 'numpy.ndarray'> <class 'numpy.ndarray'>\n"
     ]
    },
    {
     "name": "stderr",
     "output_type": "stream",
     "text": [
      "\n",
      "wu idw:   0%|          | 0/1 [00:00<?, ?it/s]\u001b[A\n",
      "\n",
      "100%|██████████| 4/4 [00:00<00:00, 2271.80it/s]\n",
      "wu idw: 100%|██████████| 1/1 [00:00<00:00, 146.51it/s]\n"
     ]
    },
    {
     "name": "stdout",
     "output_type": "stream",
     "text": [
      "(4, 2) (1, 2)\n",
      "<class 'numpy.ndarray'> <class 'numpy.ndarray'>\n"
     ]
    },
    {
     "name": "stderr",
     "output_type": "stream",
     "text": [
      "\n",
      "wu idw:   0%|          | 0/1 [00:00<?, ?it/s]\u001b[A\n",
      "\n",
      "100%|██████████| 4/4 [00:00<00:00, 2201.16it/s]\n",
      "wu idw: 100%|██████████| 1/1 [00:00<00:00, 142.27it/s]\n"
     ]
    },
    {
     "name": "stdout",
     "output_type": "stream",
     "text": [
      "(4, 2) (1, 2)\n",
      "<class 'numpy.ndarray'> <class 'numpy.ndarray'>\n"
     ]
    },
    {
     "name": "stderr",
     "output_type": "stream",
     "text": [
      "\n",
      "wu idw:   0%|          | 0/1 [00:00<?, ?it/s]\u001b[A\n",
      "\n",
      "100%|██████████| 4/4 [00:00<00:00, 2269.34it/s]\n",
      "wu idw: 100%|██████████| 1/1 [00:00<00:00, 123.93it/s]\n"
     ]
    },
    {
     "name": "stdout",
     "output_type": "stream",
     "text": [
      "(4, 2) (1, 2)\n",
      "<class 'numpy.ndarray'> <class 'numpy.ndarray'>\n"
     ]
    },
    {
     "name": "stderr",
     "output_type": "stream",
     "text": [
      "\n",
      "wu idw:   0%|          | 0/1 [00:00<?, ?it/s]\u001b[A\n",
      "\n",
      "100%|██████████| 4/4 [00:00<00:00, 8648.05it/s]\n",
      "wu idw: 100%|██████████| 1/1 [00:00<00:00, 163.90it/s]\n"
     ]
    },
    {
     "name": "stdout",
     "output_type": "stream",
     "text": [
      "(4, 2) (1, 2)\n",
      "<class 'numpy.ndarray'> <class 'numpy.ndarray'>\n"
     ]
    },
    {
     "name": "stderr",
     "output_type": "stream",
     "text": [
      "\n",
      "wu idw:   0%|          | 0/1 [00:00<?, ?it/s]\u001b[A\n",
      "\n",
      "100%|██████████| 4/4 [00:00<00:00, 5518.82it/s]\n",
      "wu idw: 100%|██████████| 1/1 [00:00<00:00, 129.23it/s]\n"
     ]
    },
    {
     "name": "stdout",
     "output_type": "stream",
     "text": [
      "(4, 2) (1, 2)\n",
      "<class 'numpy.ndarray'> <class 'numpy.ndarray'>\n"
     ]
    },
    {
     "name": "stderr",
     "output_type": "stream",
     "text": [
      "\n",
      "wu idw:   0%|          | 0/1 [00:00<?, ?it/s]\u001b[A\n",
      "\n",
      "100%|██████████| 4/4 [00:00<00:00, 2741.38it/s]\n",
      "wu idw: 100%|██████████| 1/1 [00:00<00:00, 166.15it/s]\n"
     ]
    },
    {
     "name": "stdout",
     "output_type": "stream",
     "text": [
      "(4, 2) (1, 2)\n",
      "<class 'numpy.ndarray'> <class 'numpy.ndarray'>\n"
     ]
    },
    {
     "name": "stderr",
     "output_type": "stream",
     "text": [
      "\n",
      "wu idw:   0%|          | 0/1 [00:00<?, ?it/s]\u001b[A\n",
      "\n",
      "100%|██████████| 4/4 [00:00<00:00, 2538.92it/s]\n",
      "wu idw: 100%|██████████| 1/1 [00:00<00:00, 160.44it/s]\n"
     ]
    },
    {
     "name": "stdout",
     "output_type": "stream",
     "text": [
      "(4, 2) (1, 2)\n",
      "<class 'numpy.ndarray'> <class 'numpy.ndarray'>\n"
     ]
    },
    {
     "name": "stderr",
     "output_type": "stream",
     "text": [
      "\n",
      "wu idw:   0%|          | 0/1 [00:00<?, ?it/s]\u001b[A\n",
      "\n",
      "100%|██████████| 4/4 [00:00<00:00, 8000.58it/s]\n",
      "wu idw: 100%|██████████| 1/1 [00:00<00:00, 343.99it/s]\n"
     ]
    },
    {
     "name": "stdout",
     "output_type": "stream",
     "text": [
      "(4, 2) (1, 2)\n",
      "<class 'numpy.ndarray'> <class 'numpy.ndarray'>\n"
     ]
    },
    {
     "name": "stderr",
     "output_type": "stream",
     "text": [
      "\n",
      "wu idw:   0%|          | 0/1 [00:00<?, ?it/s]\u001b[A\n",
      "\n",
      "100%|██████████| 4/4 [00:00<00:00, 1959.27it/s]\n",
      "wu idw: 100%|██████████| 1/1 [00:00<00:00, 147.07it/s]\n"
     ]
    },
    {
     "name": "stdout",
     "output_type": "stream",
     "text": [
      "(4, 2) (1, 2)\n",
      "<class 'numpy.ndarray'> <class 'numpy.ndarray'>\n"
     ]
    },
    {
     "name": "stderr",
     "output_type": "stream",
     "text": [
      "\n",
      "wu idw:   0%|          | 0/1 [00:00<?, ?it/s]\u001b[A\n",
      "\n",
      "100%|██████████| 4/4 [00:00<00:00, 7329.50it/s]\n",
      "wu idw: 100%|██████████| 1/1 [00:00<00:00, 349.23it/s]\n"
     ]
    },
    {
     "name": "stdout",
     "output_type": "stream",
     "text": [
      "(4, 2) (1, 2)\n",
      "<class 'numpy.ndarray'> <class 'numpy.ndarray'>\n"
     ]
    },
    {
     "name": "stderr",
     "output_type": "stream",
     "text": [
      "\n",
      "wu idw:   0%|          | 0/1 [00:00<?, ?it/s]\u001b[A\n",
      "\n",
      "100%|██████████| 4/4 [00:00<00:00, 2307.10it/s]\n",
      "wu idw: 100%|██████████| 1/1 [00:00<00:00, 171.80it/s]\n"
     ]
    },
    {
     "name": "stdout",
     "output_type": "stream",
     "text": [
      "(4, 2) (1, 2)\n",
      "<class 'numpy.ndarray'> <class 'numpy.ndarray'>\n"
     ]
    },
    {
     "name": "stderr",
     "output_type": "stream",
     "text": [
      "\n",
      "wu idw:   0%|          | 0/1 [00:00<?, ?it/s]\u001b[A\n",
      "\n",
      "100%|██████████| 4/4 [00:00<00:00, 2330.82it/s]\n",
      "wu idw: 100%|██████████| 1/1 [00:00<00:00, 151.85it/s]\n"
     ]
    },
    {
     "name": "stdout",
     "output_type": "stream",
     "text": [
      "(4, 2) (1, 2)\n",
      "<class 'numpy.ndarray'> <class 'numpy.ndarray'>\n"
     ]
    },
    {
     "name": "stderr",
     "output_type": "stream",
     "text": [
      "\n",
      "wu idw:   0%|          | 0/1 [00:00<?, ?it/s]\u001b[A\n",
      "\n",
      "100%|██████████| 4/4 [00:00<00:00, 8330.30it/s]\n",
      "wu idw: 100%|██████████| 1/1 [00:00<00:00, 128.45it/s]\n"
     ]
    },
    {
     "name": "stdout",
     "output_type": "stream",
     "text": [
      "(4, 2) (1, 2)\n",
      "<class 'numpy.ndarray'> <class 'numpy.ndarray'>\n"
     ]
    },
    {
     "name": "stderr",
     "output_type": "stream",
     "text": [
      "\n",
      "wu idw:   0%|          | 0/1 [00:00<?, ?it/s]\u001b[A\n",
      "\n",
      "100%|██████████| 4/4 [00:00<00:00, 2717.40it/s]\n",
      "wu idw: 100%|██████████| 1/1 [00:00<00:00, 172.55it/s]\n"
     ]
    },
    {
     "name": "stdout",
     "output_type": "stream",
     "text": [
      "(4, 2) (1, 2)\n",
      "<class 'numpy.ndarray'> <class 'numpy.ndarray'>\n"
     ]
    },
    {
     "name": "stderr",
     "output_type": "stream",
     "text": [
      "\n",
      "wu idw:   0%|          | 0/1 [00:00<?, ?it/s]\u001b[A\n",
      "\n",
      "100%|██████████| 4/4 [00:00<00:00, 8439.24it/s]\n",
      "wu idw: 100%|██████████| 1/1 [00:00<00:00, 197.15it/s]\n"
     ]
    },
    {
     "name": "stdout",
     "output_type": "stream",
     "text": [
      "(4, 2) (1, 2)\n",
      "<class 'numpy.ndarray'> <class 'numpy.ndarray'>\n"
     ]
    },
    {
     "name": "stderr",
     "output_type": "stream",
     "text": [
      "\n",
      "wu idw:   0%|          | 0/1 [00:00<?, ?it/s]\u001b[A\n",
      "\n",
      "100%|██████████| 4/4 [00:00<00:00, 2416.07it/s]\n",
      "wu idw: 100%|██████████| 1/1 [00:00<00:00, 157.11it/s]\n"
     ]
    },
    {
     "name": "stdout",
     "output_type": "stream",
     "text": [
      "(4, 2) (1, 2)\n",
      "<class 'numpy.ndarray'> <class 'numpy.ndarray'>\n"
     ]
    },
    {
     "name": "stderr",
     "output_type": "stream",
     "text": [
      "\n",
      "wu idw:   0%|          | 0/1 [00:00<?, ?it/s]\u001b[A\n",
      "\n",
      "100%|██████████| 4/4 [00:00<00:00, 7608.71it/s]\n",
      "wu idw: 100%|██████████| 1/1 [00:00<00:00, 300.75it/s]\n"
     ]
    },
    {
     "name": "stdout",
     "output_type": "stream",
     "text": [
      "(4, 2) (1, 2)\n",
      "<class 'numpy.ndarray'> <class 'numpy.ndarray'>\n"
     ]
    },
    {
     "name": "stderr",
     "output_type": "stream",
     "text": [
      "\n",
      "wu idw:   0%|          | 0/1 [00:00<?, ?it/s]\u001b[A\n",
      "\n",
      "100%|██████████| 4/4 [00:00<00:00, 2198.85it/s]\n",
      "wu idw: 100%|██████████| 1/1 [00:00<00:00, 180.08it/s]\n"
     ]
    },
    {
     "name": "stdout",
     "output_type": "stream",
     "text": [
      "(4, 2) (1, 2)\n",
      "<class 'numpy.ndarray'> <class 'numpy.ndarray'>\n"
     ]
    },
    {
     "name": "stderr",
     "output_type": "stream",
     "text": [
      "\n",
      "wu idw:   0%|          | 0/1 [00:00<?, ?it/s]\u001b[A\n",
      "\n",
      "100%|██████████| 4/4 [00:00<00:00, 6408.41it/s]\n",
      "wu idw: 100%|██████████| 1/1 [00:00<00:00, 270.44it/s]\n"
     ]
    },
    {
     "name": "stdout",
     "output_type": "stream",
     "text": [
      "(4, 2) (1, 2)\n",
      "<class 'numpy.ndarray'> <class 'numpy.ndarray'>\n"
     ]
    },
    {
     "name": "stderr",
     "output_type": "stream",
     "text": [
      "\n",
      "wu idw:   0%|          | 0/1 [00:00<?, ?it/s]\u001b[A\n",
      "\n",
      "100%|██████████| 4/4 [00:00<00:00, 6754.11it/s]\n",
      "wu idw: 100%|██████████| 1/1 [00:00<00:00, 308.45it/s]\n"
     ]
    },
    {
     "name": "stdout",
     "output_type": "stream",
     "text": [
      "(4, 2) (1, 2)\n",
      "<class 'numpy.ndarray'> <class 'numpy.ndarray'>\n"
     ]
    },
    {
     "name": "stderr",
     "output_type": "stream",
     "text": [
      "\n",
      "wu idw:   0%|          | 0/1 [00:00<?, ?it/s]\u001b[A\n",
      "\n",
      "100%|██████████| 4/4 [00:00<00:00, 4695.55it/s]\n",
      "wu idw: 100%|██████████| 1/1 [00:00<00:00, 284.80it/s]\n"
     ]
    },
    {
     "name": "stdout",
     "output_type": "stream",
     "text": [
      "(4, 2) (1, 2)\n",
      "<class 'numpy.ndarray'> <class 'numpy.ndarray'>\n"
     ]
    },
    {
     "name": "stderr",
     "output_type": "stream",
     "text": [
      "\n",
      "wu idw:   0%|          | 0/1 [00:00<?, ?it/s]\u001b[A\n",
      "\n",
      "100%|██████████| 4/4 [00:00<00:00, 4477.51it/s]\n",
      "wu idw: 100%|██████████| 1/1 [00:00<00:00, 289.70it/s]\n"
     ]
    },
    {
     "name": "stdout",
     "output_type": "stream",
     "text": [
      "(4, 2) (1, 2)\n",
      "<class 'numpy.ndarray'> <class 'numpy.ndarray'>\n"
     ]
    },
    {
     "name": "stderr",
     "output_type": "stream",
     "text": [
      "\n",
      "wu idw:   0%|          | 0/1 [00:00<?, ?it/s]\u001b[A\n",
      "\n",
      "100%|██████████| 4/4 [00:00<00:00, 5857.97it/s]\n",
      "wu idw: 100%|██████████| 1/1 [00:00<00:00, 159.58it/s]\n"
     ]
    },
    {
     "name": "stdout",
     "output_type": "stream",
     "text": [
      "(4, 2) (1, 2)\n",
      "<class 'numpy.ndarray'> <class 'numpy.ndarray'>\n"
     ]
    },
    {
     "name": "stderr",
     "output_type": "stream",
     "text": [
      "\n",
      "wu idw:   0%|          | 0/1 [00:00<?, ?it/s]\u001b[A\n",
      "\n",
      "100%|██████████| 4/4 [00:00<00:00, 6357.41it/s]\n",
      "wu idw: 100%|██████████| 1/1 [00:00<00:00, 175.11it/s]\n"
     ]
    },
    {
     "name": "stdout",
     "output_type": "stream",
     "text": [
      "(4, 2) (1, 2)\n",
      "<class 'numpy.ndarray'> <class 'numpy.ndarray'>\n"
     ]
    },
    {
     "name": "stderr",
     "output_type": "stream",
     "text": [
      "\n",
      "wu idw:   0%|          | 0/1 [00:00<?, ?it/s]\u001b[A\n",
      "\n",
      "100%|██████████| 4/4 [00:00<00:00, 8204.02it/s]\n",
      "wu idw: 100%|██████████| 1/1 [00:00<00:00, 366.41it/s]\n"
     ]
    },
    {
     "name": "stdout",
     "output_type": "stream",
     "text": [
      "(4, 2) (1, 2)\n",
      "<class 'numpy.ndarray'> <class 'numpy.ndarray'>\n"
     ]
    },
    {
     "name": "stderr",
     "output_type": "stream",
     "text": [
      "\n",
      "wu idw:   0%|          | 0/1 [00:00<?, ?it/s]\u001b[A\n",
      "\n",
      "100%|██████████| 4/4 [00:00<00:00, 7355.20it/s]\n",
      "wu idw: 100%|██████████| 1/1 [00:00<00:00, 178.97it/s]\n"
     ]
    },
    {
     "name": "stdout",
     "output_type": "stream",
     "text": [
      "(4, 2) (1, 2)\n",
      "<class 'numpy.ndarray'> <class 'numpy.ndarray'>\n"
     ]
    },
    {
     "name": "stderr",
     "output_type": "stream",
     "text": [
      "\n",
      "wu idw:   0%|          | 0/1 [00:00<?, ?it/s]\u001b[A\n",
      "\n",
      "100%|██████████| 4/4 [00:00<00:00, 2211.02it/s]\n",
      "wu idw: 100%|██████████| 1/1 [00:00<00:00, 149.28it/s]\n"
     ]
    },
    {
     "name": "stdout",
     "output_type": "stream",
     "text": [
      "(4, 2) (1, 2)\n",
      "<class 'numpy.ndarray'> <class 'numpy.ndarray'>\n"
     ]
    },
    {
     "name": "stderr",
     "output_type": "stream",
     "text": [
      "\n",
      "wu idw:   0%|          | 0/1 [00:00<?, ?it/s]\u001b[A\n",
      "\n",
      "100%|██████████| 4/4 [00:00<00:00, 7061.12it/s]\n",
      "wu idw: 100%|██████████| 1/1 [00:00<00:00, 147.89it/s]\n"
     ]
    },
    {
     "name": "stdout",
     "output_type": "stream",
     "text": [
      "(4, 2) (1, 2)\n",
      "<class 'numpy.ndarray'> <class 'numpy.ndarray'>\n"
     ]
    },
    {
     "name": "stderr",
     "output_type": "stream",
     "text": [
      "\n",
      "wu idw:   0%|          | 0/1 [00:00<?, ?it/s]\u001b[A\n",
      "\n",
      "100%|██████████| 4/4 [00:00<00:00, 2847.94it/s]\n",
      "wu idw: 100%|██████████| 1/1 [00:00<00:00, 200.59it/s]\n"
     ]
    },
    {
     "name": "stdout",
     "output_type": "stream",
     "text": [
      "(4, 2) (1, 2)\n",
      "<class 'numpy.ndarray'> <class 'numpy.ndarray'>\n"
     ]
    },
    {
     "name": "stderr",
     "output_type": "stream",
     "text": [
      "\n",
      "wu idw:   0%|          | 0/1 [00:00<?, ?it/s]\u001b[A\n",
      "\n",
      "100%|██████████| 4/4 [00:00<00:00, 7259.72it/s]\n",
      "wu idw: 100%|██████████| 1/1 [00:00<00:00, 179.76it/s]\n"
     ]
    },
    {
     "name": "stdout",
     "output_type": "stream",
     "text": [
      "(4, 2) (1, 2)\n",
      "<class 'numpy.ndarray'> <class 'numpy.ndarray'>\n"
     ]
    },
    {
     "name": "stderr",
     "output_type": "stream",
     "text": [
      "\n",
      "wu idw:   0%|          | 0/1 [00:00<?, ?it/s]\u001b[A\n",
      "\n",
      "100%|██████████| 4/4 [00:00<00:00, 7727.87it/s]\n",
      "wu idw: 100%|██████████| 1/1 [00:00<00:00, 186.14it/s]\n"
     ]
    },
    {
     "name": "stdout",
     "output_type": "stream",
     "text": [
      "(4, 2) (1, 2)\n",
      "<class 'numpy.ndarray'> <class 'numpy.ndarray'>\n"
     ]
    },
    {
     "name": "stderr",
     "output_type": "stream",
     "text": [
      "\n",
      "wu idw:   0%|          | 0/1 [00:00<?, ?it/s]\u001b[A\n",
      "\n",
      "100%|██████████| 4/4 [00:00<00:00, 6961.50it/s]\n",
      "wu idw: 100%|██████████| 1/1 [00:00<00:00, 130.27it/s]\n"
     ]
    },
    {
     "name": "stdout",
     "output_type": "stream",
     "text": [
      "(4, 2) (1, 2)\n",
      "<class 'numpy.ndarray'> <class 'numpy.ndarray'>\n"
     ]
    },
    {
     "name": "stderr",
     "output_type": "stream",
     "text": [
      "\n",
      "wu idw:   0%|          | 0/1 [00:00<?, ?it/s]\u001b[A\n",
      "\n",
      "100%|██████████| 4/4 [00:00<00:00, 2295.42it/s]\n",
      "wu idw: 100%|██████████| 1/1 [00:00<00:00, 149.14it/s]\n"
     ]
    },
    {
     "name": "stdout",
     "output_type": "stream",
     "text": [
      "(4, 2) (1, 2)\n",
      "<class 'numpy.ndarray'> <class 'numpy.ndarray'>\n"
     ]
    },
    {
     "name": "stderr",
     "output_type": "stream",
     "text": [
      "\n",
      "wu idw:   0%|          | 0/1 [00:00<?, ?it/s]\u001b[A\n",
      "\n",
      "100%|██████████| 4/4 [00:00<00:00, 2292.60it/s]\n",
      "wu idw: 100%|██████████| 1/1 [00:00<00:00, 148.53it/s]\n"
     ]
    },
    {
     "name": "stdout",
     "output_type": "stream",
     "text": [
      "(4, 2) (1, 2)\n",
      "<class 'numpy.ndarray'> <class 'numpy.ndarray'>\n"
     ]
    },
    {
     "name": "stderr",
     "output_type": "stream",
     "text": [
      "\n",
      "wu idw:   0%|          | 0/1 [00:00<?, ?it/s]\u001b[A\n",
      "\n",
      "100%|██████████| 4/4 [00:00<00:00, 7626.01it/s]\n",
      "wu idw: 100%|██████████| 1/1 [00:00<00:00, 147.23it/s]\n"
     ]
    },
    {
     "name": "stdout",
     "output_type": "stream",
     "text": [
      "(4, 2) (1, 2)\n",
      "<class 'numpy.ndarray'> <class 'numpy.ndarray'>\n"
     ]
    },
    {
     "name": "stderr",
     "output_type": "stream",
     "text": [
      "\n",
      "wu idw:   0%|          | 0/1 [00:00<?, ?it/s]\u001b[A\n",
      "\n",
      "100%|██████████| 4/4 [00:00<00:00, 4847.51it/s]\n",
      "wu idw: 100%|██████████| 1/1 [00:00<00:00, 135.12it/s]\n"
     ]
    },
    {
     "name": "stdout",
     "output_type": "stream",
     "text": [
      "(4, 2) (1, 2)\n",
      "<class 'numpy.ndarray'> <class 'numpy.ndarray'>\n"
     ]
    },
    {
     "name": "stderr",
     "output_type": "stream",
     "text": [
      "\n",
      "wu idw:   0%|          | 0/1 [00:00<?, ?it/s]\u001b[A\n",
      "\n",
      "100%|██████████| 4/4 [00:00<00:00, 7825.19it/s]\n",
      "wu idw: 100%|██████████| 1/1 [00:00<00:00, 143.93it/s]\n"
     ]
    },
    {
     "name": "stdout",
     "output_type": "stream",
     "text": [
      "(4, 2) (1, 2)\n",
      "<class 'numpy.ndarray'> <class 'numpy.ndarray'>\n"
     ]
    },
    {
     "name": "stderr",
     "output_type": "stream",
     "text": [
      "\n",
      "wu idw:   0%|          | 0/1 [00:00<?, ?it/s]\u001b[A\n",
      "\n",
      "100%|██████████| 4/4 [00:00<00:00, 4718.00it/s]\n",
      "wu idw: 100%|██████████| 1/1 [00:00<00:00, 114.21it/s]\n"
     ]
    },
    {
     "name": "stdout",
     "output_type": "stream",
     "text": [
      "(4, 2) (1, 2)\n",
      "<class 'numpy.ndarray'> <class 'numpy.ndarray'>\n"
     ]
    },
    {
     "name": "stderr",
     "output_type": "stream",
     "text": [
      "\n",
      "wu idw:   0%|          | 0/1 [00:00<?, ?it/s]\u001b[A\n",
      "\n",
      "100%|██████████| 4/4 [00:00<00:00, 2269.34it/s]\n",
      "wu idw: 100%|██████████| 1/1 [00:00<00:00, 142.41it/s]\n"
     ]
    },
    {
     "name": "stdout",
     "output_type": "stream",
     "text": [
      "(4, 2) (1, 2)\n",
      "<class 'numpy.ndarray'> <class 'numpy.ndarray'>\n"
     ]
    },
    {
     "name": "stderr",
     "output_type": "stream",
     "text": [
      "\n",
      "wu idw:   0%|          | 0/1 [00:00<?, ?it/s]\u001b[A\n",
      "\n",
      "100%|██████████| 4/4 [00:00<00:00, 2331.79it/s]\n",
      "wu idw: 100%|██████████| 1/1 [00:00<00:00, 126.39it/s]\n"
     ]
    },
    {
     "name": "stdout",
     "output_type": "stream",
     "text": [
      "(4, 2) (1, 2)\n",
      "<class 'numpy.ndarray'> <class 'numpy.ndarray'>\n"
     ]
    },
    {
     "name": "stderr",
     "output_type": "stream",
     "text": [
      "\n",
      "wu idw:   0%|          | 0/1 [00:00<?, ?it/s]\u001b[A\n",
      "\n",
      "100%|██████████| 4/4 [00:00<00:00, 4774.39it/s]\n",
      "wu idw: 100%|██████████| 1/1 [00:00<00:00, 134.77it/s]\n"
     ]
    },
    {
     "name": "stdout",
     "output_type": "stream",
     "text": [
      "(4, 2) (1, 2)\n",
      "<class 'numpy.ndarray'> <class 'numpy.ndarray'>\n"
     ]
    },
    {
     "name": "stderr",
     "output_type": "stream",
     "text": [
      "\n",
      "wu idw:   0%|          | 0/1 [00:00<?, ?it/s]\u001b[A\n",
      "\n",
      "100%|██████████| 4/4 [00:00<00:00, 6579.30it/s]\n",
      "wu idw: 100%|██████████| 1/1 [00:00<00:00, 125.07it/s]\n"
     ]
    },
    {
     "name": "stdout",
     "output_type": "stream",
     "text": [
      "(4, 2) (1, 2)\n",
      "<class 'numpy.ndarray'> <class 'numpy.ndarray'>\n"
     ]
    },
    {
     "name": "stderr",
     "output_type": "stream",
     "text": [
      "\n",
      "wu idw:   0%|          | 0/1 [00:00<?, ?it/s]\u001b[A\n",
      "\n",
      "100%|██████████| 4/4 [00:00<00:00, 8128.50it/s]\n",
      "wu idw: 100%|██████████| 1/1 [00:00<00:00, 137.14it/s]\n"
     ]
    },
    {
     "name": "stdout",
     "output_type": "stream",
     "text": [
      "(4, 2) (1, 2)\n",
      "<class 'numpy.ndarray'> <class 'numpy.ndarray'>\n"
     ]
    },
    {
     "name": "stderr",
     "output_type": "stream",
     "text": [
      "\n",
      "wu idw:   0%|          | 0/1 [00:00<?, ?it/s]\u001b[A\n",
      "\n",
      "100%|██████████| 4/4 [00:00<00:00, 7339.11it/s]\n",
      "wu idw: 100%|██████████| 1/1 [00:00<00:00, 147.92it/s]\n"
     ]
    },
    {
     "name": "stdout",
     "output_type": "stream",
     "text": [
      "(4, 2) (1, 2)\n",
      "<class 'numpy.ndarray'> <class 'numpy.ndarray'>\n"
     ]
    },
    {
     "name": "stderr",
     "output_type": "stream",
     "text": [
      "\n",
      "wu idw:   0%|          | 0/1 [00:00<?, ?it/s]\u001b[A\n",
      "\n",
      "100%|██████████| 4/4 [00:00<00:00, 2294.79it/s]\n",
      "wu idw: 100%|██████████| 1/1 [00:00<00:00, 157.93it/s]\n"
     ]
    },
    {
     "name": "stdout",
     "output_type": "stream",
     "text": [
      "(4, 2) (1, 2)\n",
      "<class 'numpy.ndarray'> <class 'numpy.ndarray'>\n"
     ]
    },
    {
     "name": "stderr",
     "output_type": "stream",
     "text": [
      "\n",
      "wu idw:   0%|          | 0/1 [00:00<?, ?it/s]\u001b[A\n",
      "\n",
      "100%|██████████| 4/4 [00:00<00:00, 2612.05it/s]\n",
      "wu idw: 100%|██████████| 1/1 [00:00<00:00, 159.84it/s]\n"
     ]
    },
    {
     "name": "stdout",
     "output_type": "stream",
     "text": [
      "(4, 2) (1, 2)\n",
      "<class 'numpy.ndarray'> <class 'numpy.ndarray'>\n"
     ]
    },
    {
     "name": "stderr",
     "output_type": "stream",
     "text": [
      "\n",
      "wu idw:   0%|          | 0/1 [00:00<?, ?it/s]\u001b[A\n",
      "\n",
      "100%|██████████| 4/4 [00:00<00:00, 2229.83it/s]\n",
      "wu idw: 100%|██████████| 1/1 [00:00<00:00, 146.26it/s]\n"
     ]
    },
    {
     "name": "stdout",
     "output_type": "stream",
     "text": [
      "(4, 2) (1, 2)\n",
      "<class 'numpy.ndarray'> <class 'numpy.ndarray'>\n"
     ]
    },
    {
     "name": "stderr",
     "output_type": "stream",
     "text": [
      "\n",
      "wu idw:   0%|          | 0/1 [00:00<?, ?it/s]\u001b[A\n",
      "\n",
      "100%|██████████| 4/4 [00:00<00:00, 2126.66it/s]\n",
      "wu idw: 100%|██████████| 1/1 [00:00<00:00, 159.23it/s]\n"
     ]
    },
    {
     "name": "stdout",
     "output_type": "stream",
     "text": [
      "(4, 2) (1, 2)\n",
      "<class 'numpy.ndarray'> <class 'numpy.ndarray'>\n"
     ]
    },
    {
     "name": "stderr",
     "output_type": "stream",
     "text": [
      "\n",
      "wu idw:   0%|          | 0/1 [00:00<?, ?it/s]\u001b[A\n",
      "\n",
      "100%|██████████| 4/4 [00:00<00:00, 2660.94it/s]\n",
      "wu idw: 100%|██████████| 1/1 [00:00<00:00, 196.81it/s]\n"
     ]
    },
    {
     "name": "stdout",
     "output_type": "stream",
     "text": [
      "(4, 2) (1, 2)\n",
      "<class 'numpy.ndarray'> <class 'numpy.ndarray'>\n"
     ]
    },
    {
     "name": "stderr",
     "output_type": "stream",
     "text": [
      "\n",
      "wu idw:   0%|          | 0/1 [00:00<?, ?it/s]\u001b[A\n",
      "\n",
      "100%|██████████| 4/4 [00:00<00:00, 7339.11it/s]\n",
      "wu idw: 100%|██████████| 1/1 [00:00<00:00, 177.93it/s]\n"
     ]
    },
    {
     "name": "stdout",
     "output_type": "stream",
     "text": [
      "(4, 2) (1, 2)\n",
      "<class 'numpy.ndarray'> <class 'numpy.ndarray'>\n"
     ]
    },
    {
     "name": "stderr",
     "output_type": "stream",
     "text": [
      "\n",
      "wu idw:   0%|          | 0/1 [00:00<?, ?it/s]\u001b[A\n",
      "\n",
      "100%|██████████| 4/4 [00:00<00:00, 7735.00it/s]\n",
      "wu idw: 100%|██████████| 1/1 [00:00<00:00, 328.78it/s]\n"
     ]
    },
    {
     "name": "stdout",
     "output_type": "stream",
     "text": [
      "(4, 2) (1, 2)\n",
      "<class 'numpy.ndarray'> <class 'numpy.ndarray'>\n"
     ]
    },
    {
     "name": "stderr",
     "output_type": "stream",
     "text": [
      "\n",
      "wu idw:   0%|          | 0/1 [00:00<?, ?it/s]\u001b[A\n",
      "\n",
      "100%|██████████| 4/4 [00:00<00:00, 3908.95it/s]\n",
      "wu idw: 100%|██████████| 1/1 [00:00<00:00, 289.38it/s]\n"
     ]
    },
    {
     "name": "stdout",
     "output_type": "stream",
     "text": [
      "(4, 2) (1, 2)\n",
      "<class 'numpy.ndarray'> <class 'numpy.ndarray'>\n"
     ]
    },
    {
     "name": "stderr",
     "output_type": "stream",
     "text": [
      "\n",
      "wu idw:   0%|          | 0/1 [00:00<?, ?it/s]\u001b[A\n",
      "\n",
      "100%|██████████| 4/4 [00:00<00:00, 5014.11it/s]\n",
      "wu idw: 100%|██████████| 1/1 [00:00<00:00, 314.53it/s]\n"
     ]
    },
    {
     "name": "stdout",
     "output_type": "stream",
     "text": [
      "(4, 2) (1, 2)\n",
      "<class 'numpy.ndarray'> <class 'numpy.ndarray'>\n"
     ]
    },
    {
     "name": "stderr",
     "output_type": "stream",
     "text": [
      "\n",
      "wu idw:   0%|          | 0/1 [00:00<?, ?it/s]\u001b[A\n",
      "\n",
      "100%|██████████| 4/4 [00:00<00:00, 4768.96it/s]\n",
      "wu idw: 100%|██████████| 1/1 [00:00<00:00, 280.99it/s]\n"
     ]
    },
    {
     "name": "stdout",
     "output_type": "stream",
     "text": [
      "(4, 2) (1, 2)\n",
      "<class 'numpy.ndarray'> <class 'numpy.ndarray'>\n"
     ]
    },
    {
     "name": "stderr",
     "output_type": "stream",
     "text": [
      "\n",
      "wu idw:   0%|          | 0/1 [00:00<?, ?it/s]\u001b[A\n",
      "\n",
      "100%|██████████| 4/4 [00:00<00:00, 6156.78it/s]\n",
      "wu idw: 100%|██████████| 1/1 [00:00<00:00, 165.40it/s]\n"
     ]
    },
    {
     "name": "stdout",
     "output_type": "stream",
     "text": [
      "(4, 2) (1, 2)\n",
      "<class 'numpy.ndarray'> <class 'numpy.ndarray'>\n"
     ]
    },
    {
     "name": "stderr",
     "output_type": "stream",
     "text": [
      "\n",
      "wu idw:   0%|          | 0/1 [00:00<?, ?it/s]\u001b[A\n",
      "\n",
      "100%|██████████| 4/4 [00:00<00:00, 8418.07it/s]\n",
      "wu idw: 100%|██████████| 1/1 [00:00<00:00, 137.86it/s]\n"
     ]
    },
    {
     "name": "stdout",
     "output_type": "stream",
     "text": [
      "(4, 2) (1, 2)\n",
      "<class 'numpy.ndarray'> <class 'numpy.ndarray'>\n"
     ]
    },
    {
     "name": "stderr",
     "output_type": "stream",
     "text": [
      "\n",
      "wu idw:   0%|          | 0/1 [00:00<?, ?it/s]\u001b[A\n",
      "\n",
      "100%|██████████| 4/4 [00:00<00:00, 6620.84it/s]\n",
      "wu idw: 100%|██████████| 1/1 [00:00<00:00, 172.31it/s]\n"
     ]
    },
    {
     "name": "stdout",
     "output_type": "stream",
     "text": [
      "(4, 2) (1, 2)\n",
      "<class 'numpy.ndarray'> <class 'numpy.ndarray'>\n"
     ]
    },
    {
     "name": "stderr",
     "output_type": "stream",
     "text": [
      "\n",
      "wu idw:   0%|          | 0/1 [00:00<?, ?it/s]\u001b[A\n",
      "\n",
      "100%|██████████| 4/4 [00:00<00:00, 6767.74it/s]\n",
      "wu idw: 100%|██████████| 1/1 [00:00<00:00, 311.36it/s]\n"
     ]
    },
    {
     "name": "stdout",
     "output_type": "stream",
     "text": [
      "(4, 2) (1, 2)\n",
      "<class 'numpy.ndarray'> <class 'numpy.ndarray'>\n"
     ]
    },
    {
     "name": "stderr",
     "output_type": "stream",
     "text": [
      "\n",
      "wu idw:   0%|          | 0/1 [00:00<?, ?it/s]\u001b[A\n",
      "\n",
      "100%|██████████| 4/4 [00:00<00:00, 4999.17it/s]\n",
      "wu idw: 100%|██████████| 1/1 [00:00<00:00, 336.86it/s]\n"
     ]
    },
    {
     "name": "stdout",
     "output_type": "stream",
     "text": [
      "(4, 2) (1, 2)\n",
      "<class 'numpy.ndarray'> <class 'numpy.ndarray'>\n"
     ]
    },
    {
     "name": "stderr",
     "output_type": "stream",
     "text": [
      "\n",
      "wu idw:   0%|          | 0/1 [00:00<?, ?it/s]\u001b[A\n",
      "\n",
      "100%|██████████| 4/4 [00:00<00:00, 8101.02it/s]\n",
      "wu idw: 100%|██████████| 1/1 [00:00<00:00, 183.65it/s]\n"
     ]
    },
    {
     "name": "stdout",
     "output_type": "stream",
     "text": [
      "(4, 2) (1, 2)\n",
      "<class 'numpy.ndarray'> <class 'numpy.ndarray'>\n"
     ]
    },
    {
     "name": "stderr",
     "output_type": "stream",
     "text": [
      "\n",
      "wu idw:   0%|          | 0/1 [00:00<?, ?it/s]\u001b[A\n",
      "\n",
      "100%|██████████| 4/4 [00:00<00:00, 7799.73it/s]\n",
      "wu idw: 100%|██████████| 1/1 [00:00<00:00, 186.85it/s]\n"
     ]
    },
    {
     "name": "stdout",
     "output_type": "stream",
     "text": [
      "(4, 2) (1, 2)\n",
      "<class 'numpy.ndarray'> <class 'numpy.ndarray'>\n"
     ]
    },
    {
     "name": "stderr",
     "output_type": "stream",
     "text": [
      "\n",
      "wu idw:   0%|          | 0/1 [00:00<?, ?it/s]\u001b[A\n",
      "\n",
      "100%|██████████| 4/4 [00:00<00:00, 7781.64it/s]\n",
      "wu idw: 100%|██████████| 1/1 [00:00<00:00, 165.65it/s]\n"
     ]
    },
    {
     "name": "stdout",
     "output_type": "stream",
     "text": [
      "(4, 2) (1, 2)\n",
      "<class 'numpy.ndarray'> <class 'numpy.ndarray'>\n"
     ]
    },
    {
     "name": "stderr",
     "output_type": "stream",
     "text": [
      "\n",
      "wu idw:   0%|          | 0/1 [00:00<?, ?it/s]\u001b[A\n",
      "\n",
      "100%|██████████| 4/4 [00:00<00:00, 2205.50it/s]\n",
      "wu idw: 100%|██████████| 1/1 [00:00<00:00, 165.13it/s]\n"
     ]
    },
    {
     "name": "stdout",
     "output_type": "stream",
     "text": [
      "(4, 2) (1, 2)\n",
      "<class 'numpy.ndarray'> <class 'numpy.ndarray'>\n"
     ]
    },
    {
     "name": "stderr",
     "output_type": "stream",
     "text": [
      "\n",
      "wu idw:   0%|          | 0/1 [00:00<?, ?it/s]\u001b[A\n",
      "\n",
      "100%|██████████| 4/4 [00:00<00:00, 1898.95it/s]\n",
      "wu idw: 100%|██████████| 1/1 [00:00<00:00, 128.91it/s]\n"
     ]
    },
    {
     "name": "stdout",
     "output_type": "stream",
     "text": [
      "(4, 2) (1, 2)\n",
      "<class 'numpy.ndarray'> <class 'numpy.ndarray'>\n"
     ]
    },
    {
     "name": "stderr",
     "output_type": "stream",
     "text": [
      "\n",
      "wu idw:   0%|          | 0/1 [00:00<?, ?it/s]\u001b[A\n",
      "\n",
      "100%|██████████| 4/4 [00:00<00:00, 4293.04it/s]\n",
      "wu idw: 100%|██████████| 1/1 [00:00<00:00, 293.14it/s]\n"
     ]
    },
    {
     "name": "stdout",
     "output_type": "stream",
     "text": [
      "(4, 2) (1, 2)\n",
      "<class 'numpy.ndarray'> <class 'numpy.ndarray'>\n"
     ]
    },
    {
     "name": "stderr",
     "output_type": "stream",
     "text": [
      "\n",
      "wu idw:   0%|          | 0/1 [00:00<?, ?it/s]\u001b[A\n",
      "\n",
      "100%|██████████| 4/4 [00:00<00:00, 4864.37it/s]\n",
      "wu idw: 100%|██████████| 1/1 [00:00<00:00, 289.66it/s]\n"
     ]
    },
    {
     "name": "stdout",
     "output_type": "stream",
     "text": [
      "(4, 2) (1, 2)\n",
      "<class 'numpy.ndarray'> <class 'numpy.ndarray'>\n"
     ]
    },
    {
     "name": "stderr",
     "output_type": "stream",
     "text": [
      "\n",
      "wu idw:   0%|          | 0/1 [00:00<?, ?it/s]\u001b[A\n",
      "\n",
      "100%|██████████| 4/4 [00:00<00:00, 5144.81it/s]\n",
      "wu idw: 100%|██████████| 1/1 [00:00<00:00, 299.94it/s]\n"
     ]
    },
    {
     "name": "stdout",
     "output_type": "stream",
     "text": [
      "(4, 2) (1, 2)\n",
      "<class 'numpy.ndarray'> <class 'numpy.ndarray'>\n"
     ]
    },
    {
     "name": "stderr",
     "output_type": "stream",
     "text": [
      "\n",
      "wu idw:   0%|          | 0/1 [00:00<?, ?it/s]\u001b[A\n",
      "\n",
      "100%|██████████| 4/4 [00:00<00:00, 5363.56it/s]\n",
      "wu idw: 100%|██████████| 1/1 [00:00<00:00, 331.91it/s]\n"
     ]
    },
    {
     "name": "stdout",
     "output_type": "stream",
     "text": [
      "(4, 2) (1, 2)\n",
      "<class 'numpy.ndarray'> <class 'numpy.ndarray'>\n"
     ]
    },
    {
     "name": "stderr",
     "output_type": "stream",
     "text": [
      "\n",
      "wu idw:   0%|          | 0/1 [00:00<?, ?it/s]\u001b[A\n",
      "\n",
      "100%|██████████| 4/4 [00:00<00:00, 7598.38it/s]\n",
      "wu idw: 100%|██████████| 1/1 [00:00<00:00, 166.41it/s]\n"
     ]
    },
    {
     "name": "stdout",
     "output_type": "stream",
     "text": [
      "(4, 2) (1, 2)\n",
      "<class 'numpy.ndarray'> <class 'numpy.ndarray'>\n"
     ]
    },
    {
     "name": "stderr",
     "output_type": "stream",
     "text": [
      "\n",
      "wu idw:   0%|          | 0/1 [00:00<?, ?it/s]\u001b[A\n",
      "\n",
      "100%|██████████| 4/4 [00:00<00:00, 5210.32it/s]\n",
      "wu idw: 100%|██████████| 1/1 [00:00<00:00, 304.16it/s]\n"
     ]
    },
    {
     "name": "stdout",
     "output_type": "stream",
     "text": [
      "(4, 2) (1, 2)\n",
      "<class 'numpy.ndarray'> <class 'numpy.ndarray'>\n"
     ]
    },
    {
     "name": "stderr",
     "output_type": "stream",
     "text": [
      "\n",
      "wu idw:   0%|          | 0/1 [00:00<?, ?it/s]\u001b[A\n",
      "\n",
      "100%|██████████| 4/4 [00:00<00:00, 4382.76it/s]\n",
      "wu idw: 100%|██████████| 1/1 [00:00<00:00, 316.41it/s]\n"
     ]
    },
    {
     "name": "stdout",
     "output_type": "stream",
     "text": [
      "(4, 2) (1, 2)\n",
      "<class 'numpy.ndarray'> <class 'numpy.ndarray'>\n"
     ]
    },
    {
     "name": "stderr",
     "output_type": "stream",
     "text": [
      "\n",
      "wu idw:   0%|          | 0/1 [00:00<?, ?it/s]\u001b[A\n",
      "\n",
      "100%|██████████| 4/4 [00:00<00:00, 4937.38it/s]\n",
      "wu idw: 100%|██████████| 1/1 [00:00<00:00, 290.20it/s]\n"
     ]
    },
    {
     "name": "stdout",
     "output_type": "stream",
     "text": [
      "(4, 2) (1, 2)\n",
      "<class 'numpy.ndarray'> <class 'numpy.ndarray'>\n"
     ]
    },
    {
     "name": "stderr",
     "output_type": "stream",
     "text": [
      "\n",
      "wu idw:   0%|          | 0/1 [00:00<?, ?it/s]\u001b[A\n",
      "\n",
      "100%|██████████| 4/4 [00:00<00:00, 2213.94it/s]\n",
      "wu idw: 100%|██████████| 1/1 [00:00<00:00, 230.99it/s]\n"
     ]
    },
    {
     "name": "stdout",
     "output_type": "stream",
     "text": [
      "(4, 2) (1, 2)\n",
      "<class 'numpy.ndarray'> <class 'numpy.ndarray'>\n"
     ]
    },
    {
     "name": "stderr",
     "output_type": "stream",
     "text": [
      "\n",
      "wu idw:   0%|          | 0/1 [00:00<?, ?it/s]\u001b[A\n",
      "\n",
      "100%|██████████| 4/4 [00:00<00:00, 4575.19it/s]\n",
      "wu idw: 100%|██████████| 1/1 [00:00<00:00, 313.45it/s]\n"
     ]
    },
    {
     "name": "stdout",
     "output_type": "stream",
     "text": [
      "(4, 2) (1, 2)\n",
      "<class 'numpy.ndarray'> <class 'numpy.ndarray'>\n"
     ]
    },
    {
     "name": "stderr",
     "output_type": "stream",
     "text": [
      "\n",
      "wu idw:   0%|          | 0/1 [00:00<?, ?it/s]\u001b[A\n",
      "\n",
      "100%|██████████| 4/4 [00:00<00:00, 3847.10it/s]\n",
      "wu idw: 100%|██████████| 1/1 [00:00<00:00, 213.90it/s]\n"
     ]
    },
    {
     "name": "stdout",
     "output_type": "stream",
     "text": [
      "(4, 2) (1, 2)\n",
      "<class 'numpy.ndarray'> <class 'numpy.ndarray'>\n"
     ]
    },
    {
     "name": "stderr",
     "output_type": "stream",
     "text": [
      "\n",
      "wu idw:   0%|          | 0/1 [00:00<?, ?it/s]\u001b[A\n",
      "\n",
      "100%|██████████| 4/4 [00:00<00:00, 3819.08it/s]\n",
      "wu idw: 100%|██████████| 1/1 [00:00<00:00, 235.50it/s]\n"
     ]
    },
    {
     "name": "stdout",
     "output_type": "stream",
     "text": [
      "(4, 2) (1, 2)\n",
      "<class 'numpy.ndarray'> <class 'numpy.ndarray'>\n"
     ]
    },
    {
     "name": "stderr",
     "output_type": "stream",
     "text": [
      "\n",
      "wu idw:   0%|          | 0/1 [00:00<?, ?it/s]\u001b[A\n",
      "\n",
      "100%|██████████| 4/4 [00:00<00:00, 4661.63it/s]\n",
      "wu idw: 100%|██████████| 1/1 [00:00<00:00, 265.77it/s]\n"
     ]
    },
    {
     "name": "stdout",
     "output_type": "stream",
     "text": [
      "(4, 2) (1, 2)\n",
      "<class 'numpy.ndarray'> <class 'numpy.ndarray'>\n"
     ]
    },
    {
     "name": "stderr",
     "output_type": "stream",
     "text": [
      "\n",
      "wu idw:   0%|          | 0/1 [00:00<?, ?it/s]\u001b[A\n",
      "\n",
      "100%|██████████| 4/4 [00:00<00:00, 6188.57it/s]\n",
      "wu idw: 100%|██████████| 1/1 [00:00<00:00, 300.28it/s]\n"
     ]
    },
    {
     "name": "stdout",
     "output_type": "stream",
     "text": [
      "(4, 2) (1, 2)\n",
      "<class 'numpy.ndarray'> <class 'numpy.ndarray'>\n"
     ]
    },
    {
     "name": "stderr",
     "output_type": "stream",
     "text": [
      "\n",
      "wu idw:   0%|          | 0/1 [00:00<?, ?it/s]\u001b[A\n",
      "\n",
      "100%|██████████| 4/4 [00:00<00:00, 1682.43it/s]\n",
      "wu idw: 100%|██████████| 1/1 [00:00<00:00, 172.41it/s]\n"
     ]
    },
    {
     "name": "stdout",
     "output_type": "stream",
     "text": [
      "(4, 2) (1, 2)\n",
      "<class 'numpy.ndarray'> <class 'numpy.ndarray'>\n"
     ]
    },
    {
     "name": "stderr",
     "output_type": "stream",
     "text": [
      "\n",
      "wu idw:   0%|          | 0/1 [00:00<?, ?it/s]\u001b[A\n",
      "\n",
      "100%|██████████| 4/4 [00:00<00:00, 4232.40it/s]\n",
      "wu idw: 100%|██████████| 1/1 [00:00<00:00, 301.75it/s]\n"
     ]
    },
    {
     "name": "stdout",
     "output_type": "stream",
     "text": [
      "(4, 2) (1, 2)\n",
      "<class 'numpy.ndarray'> <class 'numpy.ndarray'>\n"
     ]
    },
    {
     "name": "stderr",
     "output_type": "stream",
     "text": [
      "\n",
      "wu idw:   0%|          | 0/1 [00:00<?, ?it/s]\u001b[A\n",
      "\n",
      "100%|██████████| 4/4 [00:00<00:00, 4619.28it/s]\n",
      "wu idw: 100%|██████████| 1/1 [00:00<00:00, 313.76it/s]\n"
     ]
    },
    {
     "name": "stdout",
     "output_type": "stream",
     "text": [
      "(4, 2) (1, 2)\n",
      "<class 'numpy.ndarray'> <class 'numpy.ndarray'>\n"
     ]
    },
    {
     "name": "stderr",
     "output_type": "stream",
     "text": [
      "\n",
      "wu idw:   0%|          | 0/1 [00:00<?, ?it/s]\u001b[A\n",
      "\n",
      "100%|██████████| 4/4 [00:00<00:00, 8152.19it/s]\n",
      "wu idw: 100%|██████████| 1/1 [00:00<00:00, 186.69it/s]\n"
     ]
    },
    {
     "name": "stdout",
     "output_type": "stream",
     "text": [
      "(4, 2) (1, 2)\n",
      "<class 'numpy.ndarray'> <class 'numpy.ndarray'>\n"
     ]
    },
    {
     "name": "stderr",
     "output_type": "stream",
     "text": [
      "\n",
      "wu idw:   0%|          | 0/1 [00:00<?, ?it/s]\u001b[A\n",
      "\n",
      "100%|██████████| 4/4 [00:00<00:00, 6253.16it/s]\n",
      "wu idw: 100%|██████████| 1/1 [00:00<00:00, 177.88it/s]\n"
     ]
    },
    {
     "name": "stdout",
     "output_type": "stream",
     "text": [
      "(4, 2) (1, 2)\n",
      "<class 'numpy.ndarray'> <class 'numpy.ndarray'>\n"
     ]
    },
    {
     "name": "stderr",
     "output_type": "stream",
     "text": [
      "\n",
      "wu idw:   0%|          | 0/1 [00:00<?, ?it/s]\u001b[A\n",
      "\n",
      "100%|██████████| 4/4 [00:00<00:00, 2141.04it/s]\n",
      "wu idw: 100%|██████████| 1/1 [00:00<00:00, 139.79it/s]\n"
     ]
    },
    {
     "name": "stdout",
     "output_type": "stream",
     "text": [
      "(4, 2) (1, 2)\n",
      "<class 'numpy.ndarray'> <class 'numpy.ndarray'>\n"
     ]
    },
    {
     "name": "stderr",
     "output_type": "stream",
     "text": [
      "\n",
      "wu idw:   0%|          | 0/1 [00:00<?, ?it/s]\u001b[A\n",
      "\n",
      "100%|██████████| 4/4 [00:00<00:00, 2111.67it/s]\n",
      "wu idw: 100%|██████████| 1/1 [00:00<00:00, 116.70it/s]\n"
     ]
    },
    {
     "name": "stdout",
     "output_type": "stream",
     "text": [
      "(4, 2) (1, 2)\n",
      "<class 'numpy.ndarray'> <class 'numpy.ndarray'>\n"
     ]
    },
    {
     "name": "stderr",
     "output_type": "stream",
     "text": [
      "\n",
      "wu idw:   0%|          | 0/1 [00:00<?, ?it/s]\u001b[A\n",
      "\n",
      "100%|██████████| 4/4 [00:00<00:00, 2341.88it/s]\n",
      "wu idw: 100%|██████████| 1/1 [00:00<00:00, 147.97it/s]\n"
     ]
    },
    {
     "name": "stdout",
     "output_type": "stream",
     "text": [
      "(4, 2) (1, 2)\n",
      "<class 'numpy.ndarray'> <class 'numpy.ndarray'>\n"
     ]
    },
    {
     "name": "stderr",
     "output_type": "stream",
     "text": [
      "\n",
      "wu idw:   0%|          | 0/1 [00:00<?, ?it/s]\u001b[A\n",
      "\n",
      "100%|██████████| 4/4 [00:00<00:00, 7058.15it/s]\n",
      "wu idw: 100%|██████████| 1/1 [00:00<00:00, 143.18it/s]\n"
     ]
    },
    {
     "name": "stdout",
     "output_type": "stream",
     "text": [
      "(4, 2) (1, 2)\n",
      "<class 'numpy.ndarray'> <class 'numpy.ndarray'>\n"
     ]
    },
    {
     "name": "stderr",
     "output_type": "stream",
     "text": [
      "\n",
      "wu idw:   0%|          | 0/1 [00:00<?, ?it/s]\u001b[A\n",
      "\n",
      "100%|██████████| 4/4 [00:00<00:00, 6045.84it/s]\n",
      "wu idw: 100%|██████████| 1/1 [00:00<00:00, 142.84it/s]\n"
     ]
    },
    {
     "name": "stdout",
     "output_type": "stream",
     "text": [
      "(4, 2) (1, 2)\n",
      "<class 'numpy.ndarray'> <class 'numpy.ndarray'>\n"
     ]
    },
    {
     "name": "stderr",
     "output_type": "stream",
     "text": [
      "\n",
      "wu idw:   0%|          | 0/1 [00:00<?, ?it/s]\u001b[A\n",
      "\n",
      "100%|██████████| 4/4 [00:00<00:00, 2301.09it/s]\n",
      "wu idw: 100%|██████████| 1/1 [00:00<00:00, 156.22it/s]\n"
     ]
    },
    {
     "name": "stdout",
     "output_type": "stream",
     "text": [
      "(4, 2) (1, 2)\n",
      "<class 'numpy.ndarray'> <class 'numpy.ndarray'>\n"
     ]
    },
    {
     "name": "stderr",
     "output_type": "stream",
     "text": [
      "\n",
      "wu idw:   0%|          | 0/1 [00:00<?, ?it/s]\u001b[A\n",
      "\n",
      "100%|██████████| 4/4 [00:00<00:00, 2409.13it/s]\n",
      "wu idw: 100%|██████████| 1/1 [00:00<00:00, 133.22it/s]\n"
     ]
    },
    {
     "name": "stdout",
     "output_type": "stream",
     "text": [
      "(4, 2) (1, 2)\n",
      "<class 'numpy.ndarray'> <class 'numpy.ndarray'>\n"
     ]
    },
    {
     "name": "stderr",
     "output_type": "stream",
     "text": [
      "\n",
      "wu idw:   0%|          | 0/1 [00:00<?, ?it/s]\u001b[A\n",
      "\n",
      "100%|██████████| 4/4 [00:00<00:00, 2344.82it/s]\n",
      "wu idw: 100%|██████████| 1/1 [00:00<00:00, 154.97it/s]\n"
     ]
    },
    {
     "name": "stdout",
     "output_type": "stream",
     "text": [
      "(4, 2) (1, 2)\n",
      "<class 'numpy.ndarray'> <class 'numpy.ndarray'>\n"
     ]
    },
    {
     "name": "stderr",
     "output_type": "stream",
     "text": [
      "\n",
      "wu idw:   0%|          | 0/1 [00:00<?, ?it/s]\u001b[A\n",
      "\n",
      "100%|██████████| 4/4 [00:00<00:00, 2562.58it/s]\n",
      "wu idw: 100%|██████████| 1/1 [00:00<00:00, 139.22it/s]\n"
     ]
    },
    {
     "name": "stdout",
     "output_type": "stream",
     "text": [
      "(4, 2) (1, 2)\n",
      "<class 'numpy.ndarray'> <class 'numpy.ndarray'>\n"
     ]
    },
    {
     "name": "stderr",
     "output_type": "stream",
     "text": [
      "\n",
      "wu idw:   0%|          | 0/1 [00:00<?, ?it/s]\u001b[A\n",
      "\n",
      "100%|██████████| 4/4 [00:00<00:00, 2649.59it/s]\n",
      "wu idw: 100%|██████████| 1/1 [00:00<00:00, 162.54it/s]\n"
     ]
    },
    {
     "name": "stdout",
     "output_type": "stream",
     "text": [
      "(4, 2) (1, 2)\n",
      "<class 'numpy.ndarray'> <class 'numpy.ndarray'>\n"
     ]
    },
    {
     "name": "stderr",
     "output_type": "stream",
     "text": [
      "\n",
      "wu idw:   0%|          | 0/1 [00:00<?, ?it/s]\u001b[A\n",
      "\n",
      "100%|██████████| 4/4 [00:00<00:00, 7256.58it/s]\n",
      "wu idw: 100%|██████████| 1/1 [00:00<00:00, 191.49it/s]\n"
     ]
    },
    {
     "name": "stdout",
     "output_type": "stream",
     "text": [
      "(4, 2) (1, 2)\n",
      "<class 'numpy.ndarray'> <class 'numpy.ndarray'>\n"
     ]
    },
    {
     "name": "stderr",
     "output_type": "stream",
     "text": [
      "\n",
      "wu idw:   0%|          | 0/1 [00:00<?, ?it/s]\u001b[A\n",
      "\n",
      "100%|██████████| 4/4 [00:00<00:00, 8346.87it/s]\n",
      "wu idw: 100%|██████████| 1/1 [00:00<00:00, 348.45it/s]\n"
     ]
    },
    {
     "name": "stdout",
     "output_type": "stream",
     "text": [
      "(4, 2) (1, 2)\n",
      "<class 'numpy.ndarray'> <class 'numpy.ndarray'>\n"
     ]
    },
    {
     "name": "stderr",
     "output_type": "stream",
     "text": [
      "\n",
      "wu idw:   0%|          | 0/1 [00:00<?, ?it/s]\u001b[A\n",
      "\n",
      "100%|██████████| 4/4 [00:00<00:00, 8367.69it/s]\n",
      "wu idw: 100%|██████████| 1/1 [00:00<00:00, 246.43it/s]\n"
     ]
    },
    {
     "name": "stdout",
     "output_type": "stream",
     "text": [
      "(4, 2) (1, 2)\n",
      "<class 'numpy.ndarray'> <class 'numpy.ndarray'>\n"
     ]
    },
    {
     "name": "stderr",
     "output_type": "stream",
     "text": [
      "\n",
      "wu idw:   0%|          | 0/1 [00:00<?, ?it/s]\u001b[A\n",
      "\n",
      "100%|██████████| 4/4 [00:00<00:00, 4590.21it/s]\n",
      "wu idw: 100%|██████████| 1/1 [00:00<00:00, 138.82it/s]\n"
     ]
    },
    {
     "name": "stdout",
     "output_type": "stream",
     "text": [
      "(4, 2) (1, 2)\n",
      "<class 'numpy.ndarray'> <class 'numpy.ndarray'>\n"
     ]
    },
    {
     "name": "stderr",
     "output_type": "stream",
     "text": [
      "\n",
      "wu idw:   0%|          | 0/1 [00:00<?, ?it/s]\u001b[A\n",
      "\n",
      "100%|██████████| 4/4 [00:00<00:00, 2046.00it/s]\n",
      "wu idw: 100%|██████████| 1/1 [00:00<00:00, 140.80it/s]\n"
     ]
    },
    {
     "name": "stdout",
     "output_type": "stream",
     "text": [
      "(4, 2) (1, 2)\n",
      "<class 'numpy.ndarray'> <class 'numpy.ndarray'>\n"
     ]
    },
    {
     "name": "stderr",
     "output_type": "stream",
     "text": [
      "\n",
      "wu idw:   0%|          | 0/1 [00:00<?, ?it/s]\u001b[A\n",
      "\n",
      "100%|██████████| 4/4 [00:00<00:00, 1867.04it/s]\n",
      "wu idw: 100%|██████████| 1/1 [00:00<00:00, 126.17it/s]\n"
     ]
    },
    {
     "name": "stdout",
     "output_type": "stream",
     "text": [
      "(4, 2) (1, 2)\n",
      "<class 'numpy.ndarray'> <class 'numpy.ndarray'>\n"
     ]
    },
    {
     "name": "stderr",
     "output_type": "stream",
     "text": [
      "\n",
      "wu idw:   0%|          | 0/1 [00:00<?, ?it/s]\u001b[A\n",
      "\n",
      "100%|██████████| 4/4 [00:00<00:00, 3788.89it/s]\n",
      "wu idw: 100%|██████████| 1/1 [00:00<00:00, 147.95it/s]\n"
     ]
    },
    {
     "name": "stdout",
     "output_type": "stream",
     "text": [
      "(4, 2) (1, 2)\n",
      "<class 'numpy.ndarray'> <class 'numpy.ndarray'>\n"
     ]
    },
    {
     "name": "stderr",
     "output_type": "stream",
     "text": [
      "\n",
      "wu idw:   0%|          | 0/1 [00:00<?, ?it/s]\u001b[A\n",
      "\n",
      "100%|██████████| 4/4 [00:00<00:00, 5641.30it/s]\n",
      "wu idw: 100%|██████████| 1/1 [00:00<00:00, 105.66it/s]\n"
     ]
    },
    {
     "name": "stdout",
     "output_type": "stream",
     "text": [
      "(4, 2) (1, 2)\n",
      "<class 'numpy.ndarray'> <class 'numpy.ndarray'>\n"
     ]
    },
    {
     "name": "stderr",
     "output_type": "stream",
     "text": [
      "\n",
      "wu idw:   0%|          | 0/1 [00:00<?, ?it/s]\u001b[A\n",
      "\n",
      "100%|██████████| 4/4 [00:00<00:00, 1794.93it/s]\n",
      "wu idw: 100%|██████████| 1/1 [00:00<00:00, 117.19it/s]\n"
     ]
    },
    {
     "name": "stdout",
     "output_type": "stream",
     "text": [
      "(4, 2) (1, 2)\n",
      "<class 'numpy.ndarray'> <class 'numpy.ndarray'>\n"
     ]
    },
    {
     "name": "stderr",
     "output_type": "stream",
     "text": [
      "\n",
      "wu idw:   0%|          | 0/1 [00:00<?, ?it/s]\u001b[A\n",
      "\n",
      "100%|██████████| 4/4 [00:00<00:00, 2833.99it/s]\n",
      "wu idw: 100%|██████████| 1/1 [00:00<00:00, 141.52it/s]\n"
     ]
    },
    {
     "name": "stdout",
     "output_type": "stream",
     "text": [
      "(4, 2) (1, 2)\n",
      "<class 'numpy.ndarray'> <class 'numpy.ndarray'>\n"
     ]
    },
    {
     "name": "stderr",
     "output_type": "stream",
     "text": [
      "\n",
      "wu idw:   0%|          | 0/1 [00:00<?, ?it/s]\u001b[A\n",
      "\n",
      "100%|██████████| 4/4 [00:00<00:00, 1660.62it/s]\n",
      "wu idw: 100%|██████████| 1/1 [00:00<00:00, 108.02it/s]\n"
     ]
    },
    {
     "name": "stdout",
     "output_type": "stream",
     "text": [
      "(4, 2) (1, 2)\n",
      "<class 'numpy.ndarray'> <class 'numpy.ndarray'>\n"
     ]
    },
    {
     "name": "stderr",
     "output_type": "stream",
     "text": [
      "\n",
      "wu idw:   0%|          | 0/1 [00:00<?, ?it/s]\u001b[A\n",
      "\n",
      "100%|██████████| 4/4 [00:00<00:00, 8236.24it/s]\n",
      "wu idw: 100%|██████████| 1/1 [00:00<00:00, 350.23it/s]\n"
     ]
    },
    {
     "name": "stdout",
     "output_type": "stream",
     "text": [
      "(4, 2) (1, 2)\n",
      "<class 'numpy.ndarray'> <class 'numpy.ndarray'>\n"
     ]
    },
    {
     "name": "stderr",
     "output_type": "stream",
     "text": [
      "\n",
      "wu idw:   0%|          | 0/1 [00:00<?, ?it/s]\u001b[A\n",
      "\n",
      "100%|██████████| 4/4 [00:00<00:00, 4833.54it/s]\n",
      "wu idw: 100%|██████████| 1/1 [00:00<00:00, 202.04it/s]\n"
     ]
    },
    {
     "name": "stdout",
     "output_type": "stream",
     "text": [
      "(4, 2) (1, 2)\n",
      "<class 'numpy.ndarray'> <class 'numpy.ndarray'>\n"
     ]
    },
    {
     "name": "stderr",
     "output_type": "stream",
     "text": [
      "\n",
      "wu idw:   0%|          | 0/1 [00:00<?, ?it/s]\u001b[A\n",
      "\n",
      "100%|██████████| 4/4 [00:00<00:00, 7294.44it/s]\n",
      "wu idw: 100%|██████████| 1/1 [00:00<00:00, 295.81it/s]\n"
     ]
    },
    {
     "name": "stdout",
     "output_type": "stream",
     "text": [
      "(4, 2) (1, 2)\n",
      "<class 'numpy.ndarray'> <class 'numpy.ndarray'>\n"
     ]
    },
    {
     "name": "stderr",
     "output_type": "stream",
     "text": [
      "\n",
      "wu idw:   0%|          | 0/1 [00:00<?, ?it/s]\u001b[A\n",
      "\n",
      "100%|██████████| 4/4 [00:00<00:00, 6269.51it/s]\n",
      "wu idw: 100%|██████████| 1/1 [00:00<00:00, 185.28it/s]\n"
     ]
    },
    {
     "name": "stdout",
     "output_type": "stream",
     "text": [
      "(4, 2) (1, 2)\n",
      "<class 'numpy.ndarray'> <class 'numpy.ndarray'>\n"
     ]
    },
    {
     "name": "stderr",
     "output_type": "stream",
     "text": [
      "\n",
      "wu idw:   0%|          | 0/1 [00:00<?, ?it/s]\u001b[A\n",
      "\n",
      "100%|██████████| 4/4 [00:00<00:00, 6050.20it/s]\n",
      "wu idw: 100%|██████████| 1/1 [00:00<00:00, 289.80it/s]\n"
     ]
    },
    {
     "name": "stdout",
     "output_type": "stream",
     "text": [
      "(4, 2) (1, 2)\n",
      "<class 'numpy.ndarray'> <class 'numpy.ndarray'>\n"
     ]
    },
    {
     "name": "stderr",
     "output_type": "stream",
     "text": [
      "\n",
      "wu idw:   0%|          | 0/1 [00:00<?, ?it/s]\u001b[A\n",
      "\n",
      "100%|██████████| 4/4 [00:00<00:00, 2622.67it/s]\n",
      "wu idw: 100%|██████████| 1/1 [00:00<00:00, 171.34it/s]\n"
     ]
    },
    {
     "name": "stdout",
     "output_type": "stream",
     "text": [
      "(4, 2) (1, 2)\n",
      "<class 'numpy.ndarray'> <class 'numpy.ndarray'>\n"
     ]
    },
    {
     "name": "stderr",
     "output_type": "stream",
     "text": [
      "\n",
      "wu idw:   0%|          | 0/1 [00:00<?, ?it/s]\u001b[A\n",
      "\n",
      "100%|██████████| 4/4 [00:00<00:00, 2295.73it/s]\n",
      "wu idw: 100%|██████████| 1/1 [00:00<00:00, 147.63it/s]\n"
     ]
    },
    {
     "name": "stdout",
     "output_type": "stream",
     "text": [
      "(4, 2) (1, 2)\n",
      "<class 'numpy.ndarray'> <class 'numpy.ndarray'>\n"
     ]
    },
    {
     "name": "stderr",
     "output_type": "stream",
     "text": [
      "\n",
      "wu idw:   0%|          | 0/1 [00:00<?, ?it/s]\u001b[A\n",
      "\n",
      "100%|██████████| 4/4 [00:00<00:00, 6293.03it/s]\n",
      "wu idw: 100%|██████████| 1/1 [00:00<00:00, 228.21it/s]\n"
     ]
    },
    {
     "name": "stdout",
     "output_type": "stream",
     "text": [
      "(4, 2) (1, 2)\n",
      "<class 'numpy.ndarray'> <class 'numpy.ndarray'>\n"
     ]
    },
    {
     "name": "stderr",
     "output_type": "stream",
     "text": [
      "\n",
      "wu idw:   0%|          | 0/1 [00:00<?, ?it/s]\u001b[A\n",
      "\n",
      "100%|██████████| 4/4 [00:00<00:00, 2384.14it/s]\n",
      "wu idw: 100%|██████████| 1/1 [00:00<00:00, 134.69it/s]\n"
     ]
    },
    {
     "name": "stdout",
     "output_type": "stream",
     "text": [
      "(4, 2) (1, 2)\n",
      "<class 'numpy.ndarray'> <class 'numpy.ndarray'>\n"
     ]
    },
    {
     "name": "stderr",
     "output_type": "stream",
     "text": [
      "\n",
      "wu idw:   0%|          | 0/1 [00:00<?, ?it/s]\u001b[A\n",
      "\n",
      "100%|██████████| 4/4 [00:00<00:00, 2226.28it/s]\n",
      "wu idw: 100%|██████████| 1/1 [00:00<00:00, 175.53it/s]\n"
     ]
    },
    {
     "name": "stdout",
     "output_type": "stream",
     "text": [
      "(4, 2) (1, 2)\n",
      "<class 'numpy.ndarray'> <class 'numpy.ndarray'>\n"
     ]
    },
    {
     "name": "stderr",
     "output_type": "stream",
     "text": [
      "\n",
      "wu idw:   0%|          | 0/1 [00:00<?, ?it/s]\u001b[A\n",
      "\n",
      "100%|██████████| 4/4 [00:00<00:00, 8272.79it/s]\n",
      "wu idw: 100%|██████████| 1/1 [00:00<00:00, 134.67it/s]\n"
     ]
    },
    {
     "name": "stdout",
     "output_type": "stream",
     "text": [
      "(4, 2) (1, 2)\n",
      "<class 'numpy.ndarray'> <class 'numpy.ndarray'>\n"
     ]
    },
    {
     "name": "stderr",
     "output_type": "stream",
     "text": [
      "\n",
      "wu idw:   0%|          | 0/1 [00:00<?, ?it/s]\u001b[A\n",
      "\n",
      "100%|██████████| 4/4 [00:00<00:00, 2184.82it/s]\n",
      "wu idw: 100%|██████████| 1/1 [00:00<00:00, 116.98it/s]\n"
     ]
    },
    {
     "name": "stdout",
     "output_type": "stream",
     "text": [
      "(4, 2) (1, 2)\n",
      "<class 'numpy.ndarray'> <class 'numpy.ndarray'>\n"
     ]
    },
    {
     "name": "stderr",
     "output_type": "stream",
     "text": [
      "\n",
      "wu idw:   0%|          | 0/1 [00:00<?, ?it/s]\u001b[A\n",
      "\n",
      "100%|██████████| 4/4 [00:00<00:00, 6990.51it/s]\n",
      "wu idw: 100%|██████████| 1/1 [00:00<00:00, 144.62it/s]\n"
     ]
    },
    {
     "name": "stdout",
     "output_type": "stream",
     "text": [
      "(4, 2) (1, 2)\n",
      "<class 'numpy.ndarray'> <class 'numpy.ndarray'>\n"
     ]
    },
    {
     "name": "stderr",
     "output_type": "stream",
     "text": [
      "\n",
      "wu idw:   0%|          | 0/1 [00:00<?, ?it/s]\u001b[A\n",
      "\n",
      "100%|██████████| 4/4 [00:00<00:00, 7127.11it/s]\n",
      "wu idw: 100%|██████████| 1/1 [00:00<00:00, 131.91it/s]\n"
     ]
    },
    {
     "name": "stdout",
     "output_type": "stream",
     "text": [
      "(4, 2) (1, 2)\n",
      "<class 'numpy.ndarray'> <class 'numpy.ndarray'>\n"
     ]
    },
    {
     "name": "stderr",
     "output_type": "stream",
     "text": [
      "\n",
      "wu idw:   0%|          | 0/1 [00:00<?, ?it/s]\u001b[A\n",
      "\n",
      "100%|██████████| 4/4 [00:00<00:00, 7160.57it/s]\n",
      "wu idw: 100%|██████████| 1/1 [00:00<00:00, 140.96it/s]\n"
     ]
    },
    {
     "name": "stdout",
     "output_type": "stream",
     "text": [
      "(4, 2) (1, 2)\n",
      "<class 'numpy.ndarray'> <class 'numpy.ndarray'>\n"
     ]
    },
    {
     "name": "stderr",
     "output_type": "stream",
     "text": [
      "\n",
      "wu idw:   0%|          | 0/1 [00:00<?, ?it/s]\u001b[A\n",
      "\n",
      "100%|██████████| 4/4 [00:00<00:00, 2202.02it/s]\n",
      "wu idw: 100%|██████████| 1/1 [00:00<00:00, 135.42it/s]\n"
     ]
    },
    {
     "name": "stdout",
     "output_type": "stream",
     "text": [
      "(4, 2) (1, 2)\n",
      "<class 'numpy.ndarray'> <class 'numpy.ndarray'>\n"
     ]
    },
    {
     "name": "stderr",
     "output_type": "stream",
     "text": [
      "\n",
      "wu idw:   0%|          | 0/1 [00:00<?, ?it/s]\u001b[A\n",
      "\n",
      "100%|██████████| 4/4 [00:00<00:00, 2634.20it/s]\n",
      "wu idw: 100%|██████████| 1/1 [00:00<00:00, 148.24it/s]\n"
     ]
    },
    {
     "name": "stdout",
     "output_type": "stream",
     "text": [
      "(4, 2) (1, 2)\n",
      "<class 'numpy.ndarray'> <class 'numpy.ndarray'>\n"
     ]
    },
    {
     "name": "stderr",
     "output_type": "stream",
     "text": [
      "\n",
      "wu idw:   0%|          | 0/1 [00:00<?, ?it/s]\u001b[A\n",
      "\n",
      "100%|██████████| 4/4 [00:00<00:00, 7272.31it/s]\n",
      "wu idw: 100%|██████████| 1/1 [00:00<00:00, 327.14it/s]\n"
     ]
    },
    {
     "name": "stdout",
     "output_type": "stream",
     "text": [
      "(4, 2) (1, 2)\n",
      "<class 'numpy.ndarray'> <class 'numpy.ndarray'>\n"
     ]
    },
    {
     "name": "stderr",
     "output_type": "stream",
     "text": [
      "\n",
      "wu idw:   0%|          | 0/1 [00:00<?, ?it/s]\u001b[A\n",
      "\n",
      "100%|██████████| 4/4 [00:00<00:00, 5284.16it/s]\n",
      "wu idw: 100%|██████████| 1/1 [00:00<00:00, 313.57it/s]\n"
     ]
    },
    {
     "name": "stdout",
     "output_type": "stream",
     "text": [
      "(4, 2) (1, 2)\n",
      "<class 'numpy.ndarray'> <class 'numpy.ndarray'>\n"
     ]
    },
    {
     "name": "stderr",
     "output_type": "stream",
     "text": [
      "\n",
      "wu idw:   0%|          | 0/1 [00:00<?, ?it/s]\u001b[A\n",
      "\n",
      "100%|██████████| 4/4 [00:00<00:00, 5438.32it/s]\n",
      "wu idw: 100%|██████████| 1/1 [00:00<00:00, 290.38it/s]\n"
     ]
    },
    {
     "name": "stdout",
     "output_type": "stream",
     "text": [
      "(4, 2) (1, 2)\n",
      "<class 'numpy.ndarray'> <class 'numpy.ndarray'>\n"
     ]
    },
    {
     "name": "stderr",
     "output_type": "stream",
     "text": [
      "\n",
      "wu idw:   0%|          | 0/1 [00:00<?, ?it/s]\u001b[A\n",
      "\n",
      "100%|██████████| 4/4 [00:00<00:00, 5989.72it/s]\n",
      "wu idw: 100%|██████████| 1/1 [00:00<00:00, 146.67it/s]\n"
     ]
    },
    {
     "name": "stdout",
     "output_type": "stream",
     "text": [
      "(4, 2) (1, 2)\n",
      "<class 'numpy.ndarray'> <class 'numpy.ndarray'>\n"
     ]
    },
    {
     "name": "stderr",
     "output_type": "stream",
     "text": [
      "\n",
      "wu idw:   0%|          | 0/1 [00:00<?, ?it/s]\u001b[A\n",
      "\n",
      "100%|██████████| 4/4 [00:00<00:00, 2460.36it/s]\n",
      "wu idw: 100%|██████████| 1/1 [00:00<00:00, 189.22it/s]\n"
     ]
    },
    {
     "name": "stdout",
     "output_type": "stream",
     "text": [
      "(4, 2) (1, 2)\n",
      "<class 'numpy.ndarray'> <class 'numpy.ndarray'>\n"
     ]
    },
    {
     "name": "stderr",
     "output_type": "stream",
     "text": [
      "\n",
      "wu idw:   0%|          | 0/1 [00:00<?, ?it/s]\u001b[A\n",
      "\n",
      "100%|██████████| 4/4 [00:00<00:00, 2432.54it/s]\n",
      "wu idw: 100%|██████████| 1/1 [00:00<00:00, 164.35it/s]\n"
     ]
    },
    {
     "name": "stdout",
     "output_type": "stream",
     "text": [
      "(4, 2) (1, 2)\n",
      "<class 'numpy.ndarray'> <class 'numpy.ndarray'>\n"
     ]
    },
    {
     "name": "stderr",
     "output_type": "stream",
     "text": [
      "\n",
      "wu idw:   0%|          | 0/1 [00:00<?, ?it/s]\u001b[A\n",
      "\n",
      "100%|██████████| 4/4 [00:00<00:00, 2533.56it/s]\n",
      "wu idw: 100%|██████████| 1/1 [00:00<00:00, 156.72it/s]\n"
     ]
    },
    {
     "name": "stdout",
     "output_type": "stream",
     "text": [
      "(4, 2) (1, 2)\n",
      "<class 'numpy.ndarray'> <class 'numpy.ndarray'>\n"
     ]
    },
    {
     "name": "stderr",
     "output_type": "stream",
     "text": [
      "\n",
      "wu idw:   0%|          | 0/1 [00:00<?, ?it/s]\u001b[A\n",
      "\n",
      "100%|██████████| 4/4 [00:00<00:00, 2202.02it/s]\n",
      "wu idw: 100%|██████████| 1/1 [00:00<00:00, 148.00it/s]\n"
     ]
    },
    {
     "name": "stdout",
     "output_type": "stream",
     "text": [
      "(4, 2) (1, 2)\n",
      "<class 'numpy.ndarray'> <class 'numpy.ndarray'>\n"
     ]
    },
    {
     "name": "stderr",
     "output_type": "stream",
     "text": [
      "\n",
      "wu idw:   0%|          | 0/1 [00:00<?, ?it/s]\u001b[A\n",
      "\n",
      "100%|██████████| 4/4 [00:00<00:00, 2282.93it/s]\n",
      "wu idw: 100%|██████████| 1/1 [00:00<00:00, 127.27it/s]\n"
     ]
    },
    {
     "name": "stdout",
     "output_type": "stream",
     "text": [
      "(4, 2) (1, 2)\n",
      "<class 'numpy.ndarray'> <class 'numpy.ndarray'>\n"
     ]
    },
    {
     "name": "stderr",
     "output_type": "stream",
     "text": [
      "\n",
      "wu idw:   0%|          | 0/1 [00:00<?, ?it/s]\u001b[A\n",
      "\n",
      "100%|██████████| 4/4 [00:00<00:00, 7426.83it/s]\n",
      "wu idw: 100%|██████████| 1/1 [00:00<00:00, 363.55it/s]\n"
     ]
    },
    {
     "name": "stdout",
     "output_type": "stream",
     "text": [
      "(4, 2) (1, 2)\n",
      "<class 'numpy.ndarray'> <class 'numpy.ndarray'>\n"
     ]
    },
    {
     "name": "stderr",
     "output_type": "stream",
     "text": [
      "\n",
      "wu idw:   0%|          | 0/1 [00:00<?, ?it/s]\u001b[A\n",
      "\n",
      "100%|██████████| 4/4 [00:00<00:00, 3955.96it/s]\n",
      "wu idw: 100%|██████████| 1/1 [00:00<00:00, 301.75it/s]\n"
     ]
    },
    {
     "name": "stdout",
     "output_type": "stream",
     "text": [
      "(4, 2) (1, 2)\n",
      "<class 'numpy.ndarray'> <class 'numpy.ndarray'>\n"
     ]
    },
    {
     "name": "stderr",
     "output_type": "stream",
     "text": [
      "\n",
      "wu idw:   0%|          | 0/1 [00:00<?, ?it/s]\u001b[A\n",
      "\n",
      "100%|██████████| 4/4 [00:00<00:00, 4888.47it/s]\n",
      "wu idw: 100%|██████████| 1/1 [00:00<00:00, 312.66it/s]\n"
     ]
    },
    {
     "name": "stdout",
     "output_type": "stream",
     "text": [
      "(4, 2) (1, 2)\n",
      "<class 'numpy.ndarray'> <class 'numpy.ndarray'>\n"
     ]
    },
    {
     "name": "stderr",
     "output_type": "stream",
     "text": [
      "\n",
      "wu idw:   0%|          | 0/1 [00:00<?, ?it/s]\u001b[A\n",
      "\n",
      "100%|██████████| 4/4 [00:00<00:00, 7479.81it/s]\n",
      "wu idw: 100%|██████████| 1/1 [00:00<00:00, 365.77it/s]\n"
     ]
    },
    {
     "name": "stdout",
     "output_type": "stream",
     "text": [
      "(4, 2) (1, 2)\n",
      "<class 'numpy.ndarray'> <class 'numpy.ndarray'>\n"
     ]
    },
    {
     "name": "stderr",
     "output_type": "stream",
     "text": [
      "\n",
      "wu idw:   0%|          | 0/1 [00:00<?, ?it/s]\u001b[A\n",
      "\n",
      "100%|██████████| 4/4 [00:00<00:00, 4931.57it/s]\n",
      "wu idw: 100%|██████████| 1/1 [00:00<00:00, 332.67it/s]\n"
     ]
    },
    {
     "name": "stdout",
     "output_type": "stream",
     "text": [
      "(4, 2) (1, 2)\n",
      "<class 'numpy.ndarray'> <class 'numpy.ndarray'>\n"
     ]
    },
    {
     "name": "stderr",
     "output_type": "stream",
     "text": [
      "\n",
      "wu idw:   0%|          | 0/1 [00:00<?, ?it/s]\u001b[A\n",
      "\n",
      "100%|██████████| 4/4 [00:00<00:00, 4632.03it/s]\n",
      "wu idw: 100%|██████████| 1/1 [00:00<00:00, 323.98it/s]\n"
     ]
    },
    {
     "name": "stdout",
     "output_type": "stream",
     "text": [
      "(4, 2) (1, 2)\n",
      "<class 'numpy.ndarray'> <class 'numpy.ndarray'>\n"
     ]
    },
    {
     "name": "stderr",
     "output_type": "stream",
     "text": [
      "\n",
      "wu idw:   0%|          | 0/1 [00:00<?, ?it/s]\u001b[A\n",
      "\n",
      "100%|██████████| 4/4 [00:00<00:00, 6015.50it/s]\n",
      "wu idw: 100%|██████████| 1/1 [00:00<00:00, 333.52it/s]\n"
     ]
    },
    {
     "name": "stdout",
     "output_type": "stream",
     "text": [
      "(4, 2) (1, 2)\n",
      "<class 'numpy.ndarray'> <class 'numpy.ndarray'>\n"
     ]
    },
    {
     "name": "stderr",
     "output_type": "stream",
     "text": [
      "\n",
      "wu idw:   0%|          | 0/1 [00:00<?, ?it/s]\u001b[A\n",
      "\n",
      "100%|██████████| 4/4 [00:00<00:00, 7981.55it/s]\n",
      "wu idw: 100%|██████████| 1/1 [00:00<00:00, 168.68it/s]\n"
     ]
    },
    {
     "name": "stdout",
     "output_type": "stream",
     "text": [
      "(4, 2) (1, 2)\n",
      "<class 'numpy.ndarray'> <class 'numpy.ndarray'>\n"
     ]
    },
    {
     "name": "stderr",
     "output_type": "stream",
     "text": [
      "\n",
      "wu idw:   0%|          | 0/1 [00:00<?, ?it/s]\u001b[A\n",
      "\n",
      "100%|██████████| 4/4 [00:00<00:00, 5947.26it/s]\n",
      "wu idw: 100%|██████████| 1/1 [00:00<00:00, 294.46it/s]\n"
     ]
    },
    {
     "name": "stdout",
     "output_type": "stream",
     "text": [
      "(4, 2) (1, 2)\n",
      "<class 'numpy.ndarray'> <class 'numpy.ndarray'>\n"
     ]
    },
    {
     "name": "stderr",
     "output_type": "stream",
     "text": [
      "\n",
      "wu idw:   0%|          | 0/1 [00:00<?, ?it/s]\u001b[A\n",
      "\n",
      "100%|██████████| 4/4 [00:00<00:00, 4724.65it/s]\n",
      "wu idw: 100%|██████████| 1/1 [00:00<00:00, 331.88it/s]\n"
     ]
    },
    {
     "name": "stdout",
     "output_type": "stream",
     "text": [
      "(4, 2) (1, 2)\n",
      "<class 'numpy.ndarray'> <class 'numpy.ndarray'>\n"
     ]
    },
    {
     "name": "stderr",
     "output_type": "stream",
     "text": [
      "\n",
      "wu idw:   0%|          | 0/1 [00:00<?, ?it/s]\u001b[A\n",
      "\n",
      "100%|██████████| 4/4 [00:00<00:00, 5233.07it/s]\n",
      "wu idw: 100%|██████████| 1/1 [00:00<00:00, 354.28it/s]\n"
     ]
    },
    {
     "name": "stdout",
     "output_type": "stream",
     "text": [
      "(4, 2) (1, 2)\n",
      "<class 'numpy.ndarray'> <class 'numpy.ndarray'>\n"
     ]
    },
    {
     "name": "stderr",
     "output_type": "stream",
     "text": [
      "\n",
      "wu idw:   0%|          | 0/1 [00:00<?, ?it/s]\u001b[A\n",
      "\n",
      "100%|██████████| 4/4 [00:00<00:00, 7400.62it/s]\n",
      "wu idw: 100%|██████████| 1/1 [00:00<00:00, 303.91it/s]\n"
     ]
    },
    {
     "name": "stdout",
     "output_type": "stream",
     "text": [
      "(4, 2) (1, 2)\n",
      "<class 'numpy.ndarray'> <class 'numpy.ndarray'>\n"
     ]
    },
    {
     "name": "stderr",
     "output_type": "stream",
     "text": [
      "\n",
      "wu idw:   0%|          | 0/1 [00:00<?, ?it/s]\u001b[A\n",
      "\n",
      "100%|██████████| 4/4 [00:00<00:00, 5097.91it/s]\n",
      "wu idw: 100%|██████████| 1/1 [00:00<00:00, 313.22it/s]\n"
     ]
    },
    {
     "name": "stdout",
     "output_type": "stream",
     "text": [
      "(4, 2) (1, 2)\n",
      "<class 'numpy.ndarray'> <class 'numpy.ndarray'>\n"
     ]
    },
    {
     "name": "stderr",
     "output_type": "stream",
     "text": [
      "\n",
      "wu idw:   0%|          | 0/1 [00:00<?, ?it/s]\u001b[A\n",
      "\n",
      "100%|██████████| 4/4 [00:00<00:00, 4804.47it/s]\n",
      "wu idw: 100%|██████████| 1/1 [00:00<00:00, 310.25it/s]\n"
     ]
    },
    {
     "name": "stdout",
     "output_type": "stream",
     "text": [
      "(4, 2) (1, 2)\n",
      "<class 'numpy.ndarray'> <class 'numpy.ndarray'>\n"
     ]
    },
    {
     "name": "stderr",
     "output_type": "stream",
     "text": [
      "\n",
      "wu idw:   0%|          | 0/1 [00:00<?, ?it/s]\u001b[A\n",
      "\n",
      "100%|██████████| 4/4 [00:00<00:00, 4666.82it/s]\n",
      "wu idw: 100%|██████████| 1/1 [00:00<00:00, 312.26it/s]\n"
     ]
    },
    {
     "name": "stdout",
     "output_type": "stream",
     "text": [
      "(4, 2) (1, 2)\n",
      "<class 'numpy.ndarray'> <class 'numpy.ndarray'>\n"
     ]
    },
    {
     "name": "stderr",
     "output_type": "stream",
     "text": [
      "\n",
      "wu idw:   0%|          | 0/1 [00:00<?, ?it/s]\u001b[A\n",
      "\n",
      "100%|██████████| 4/4 [00:00<00:00, 7093.96it/s]\n",
      "wu idw: 100%|██████████| 1/1 [00:00<00:00, 207.44it/s]\n"
     ]
    },
    {
     "name": "stdout",
     "output_type": "stream",
     "text": [
      "(4, 2) (1, 2)\n",
      "<class 'numpy.ndarray'> <class 'numpy.ndarray'>\n"
     ]
    },
    {
     "name": "stderr",
     "output_type": "stream",
     "text": [
      "\n",
      "wu idw:   0%|          | 0/1 [00:00<?, ?it/s]\u001b[A\n",
      "\n",
      "100%|██████████| 4/4 [00:00<00:00, 5489.93it/s]\n",
      "wu idw: 100%|██████████| 1/1 [00:00<00:00, 304.05it/s]\n"
     ]
    },
    {
     "name": "stdout",
     "output_type": "stream",
     "text": [
      "(4, 2) (1, 2)\n",
      "<class 'numpy.ndarray'> <class 'numpy.ndarray'>\n"
     ]
    },
    {
     "name": "stderr",
     "output_type": "stream",
     "text": [
      "\n",
      "wu idw:   0%|          | 0/1 [00:00<?, ?it/s]\u001b[A\n",
      "\n",
      "100%|██████████| 4/4 [00:00<00:00, 3801.77it/s]\n",
      "wu idw: 100%|██████████| 1/1 [00:00<00:00, 281.31it/s]\n"
     ]
    },
    {
     "name": "stdout",
     "output_type": "stream",
     "text": [
      "(4, 2) (1, 2)\n",
      "<class 'numpy.ndarray'> <class 'numpy.ndarray'>\n"
     ]
    },
    {
     "name": "stderr",
     "output_type": "stream",
     "text": [
      "\n",
      "wu idw:   0%|          | 0/1 [00:00<?, ?it/s]\u001b[A\n",
      "\n",
      "100%|██████████| 4/4 [00:00<00:00, 4006.98it/s]\n",
      "wu idw: 100%|██████████| 1/1 [00:00<00:00, 275.33it/s]\n"
     ]
    },
    {
     "name": "stdout",
     "output_type": "stream",
     "text": [
      "(4, 2) (1, 2)\n",
      "<class 'numpy.ndarray'> <class 'numpy.ndarray'>\n"
     ]
    },
    {
     "name": "stderr",
     "output_type": "stream",
     "text": [
      "\n",
      "wu idw:   0%|          | 0/1 [00:00<?, ?it/s]\u001b[A\n",
      "\n",
      "100%|██████████| 4/4 [00:00<00:00, 5562.74it/s]\n",
      "wu idw: 100%|██████████| 1/1 [00:00<00:00, 148.56it/s]\n"
     ]
    },
    {
     "name": "stdout",
     "output_type": "stream",
     "text": [
      "(4, 2) (1, 2)\n",
      "<class 'numpy.ndarray'> <class 'numpy.ndarray'>\n"
     ]
    },
    {
     "name": "stderr",
     "output_type": "stream",
     "text": [
      "\n",
      "wu idw:   0%|          | 0/1 [00:00<?, ?it/s]\u001b[A\n",
      "\n",
      "100%|██████████| 4/4 [00:00<00:00, 2385.50it/s]\n",
      "wu idw: 100%|██████████| 1/1 [00:00<00:00, 162.69it/s]\n"
     ]
    },
    {
     "name": "stdout",
     "output_type": "stream",
     "text": [
      "(4, 2) (1, 2)\n",
      "<class 'numpy.ndarray'> <class 'numpy.ndarray'>\n"
     ]
    },
    {
     "name": "stderr",
     "output_type": "stream",
     "text": [
      "\n",
      "wu idw:   0%|          | 0/1 [00:00<?, ?it/s]\u001b[A\n",
      "\n",
      "100%|██████████| 4/4 [00:00<00:00, 2362.99it/s]\n",
      "wu idw: 100%|██████████| 1/1 [00:00<00:00, 195.85it/s]\n"
     ]
    },
    {
     "name": "stdout",
     "output_type": "stream",
     "text": [
      "(4, 2) (1, 2)\n",
      "<class 'numpy.ndarray'> <class 'numpy.ndarray'>\n"
     ]
    },
    {
     "name": "stderr",
     "output_type": "stream",
     "text": [
      "\n",
      "wu idw:   0%|          | 0/1 [00:00<?, ?it/s]\u001b[A\n",
      "\n",
      "100%|██████████| 4/4 [00:00<00:00, 2663.47it/s]\n",
      "wu idw: 100%|██████████| 1/1 [00:00<00:00, 170.31it/s]\n"
     ]
    },
    {
     "name": "stdout",
     "output_type": "stream",
     "text": [
      "(4, 2) (1, 2)\n",
      "<class 'numpy.ndarray'> <class 'numpy.ndarray'>\n"
     ]
    },
    {
     "name": "stderr",
     "output_type": "stream",
     "text": [
      "\n",
      "wu idw:   0%|          | 0/1 [00:00<?, ?it/s]\u001b[A\n",
      "\n",
      "100%|██████████| 4/4 [00:00<00:00, 6024.14it/s]\n",
      "wu idw: 100%|██████████| 1/1 [00:00<00:00, 170.41it/s]\n"
     ]
    },
    {
     "name": "stdout",
     "output_type": "stream",
     "text": [
      "(4, 2) (1, 2)\n",
      "<class 'numpy.ndarray'> <class 'numpy.ndarray'>\n"
     ]
    },
    {
     "name": "stderr",
     "output_type": "stream",
     "text": [
      "\n",
      "wu idw:   0%|          | 0/1 [00:00<?, ?it/s]\u001b[A\n",
      "\n",
      "100%|██████████| 4/4 [00:00<00:00, 7008.03it/s]\n",
      "wu idw: 100%|██████████| 1/1 [00:00<00:00, 153.99it/s]\n"
     ]
    },
    {
     "name": "stdout",
     "output_type": "stream",
     "text": [
      "(4, 2) (1, 2)\n",
      "<class 'numpy.ndarray'> <class 'numpy.ndarray'>\n"
     ]
    },
    {
     "name": "stderr",
     "output_type": "stream",
     "text": [
      "\n",
      "wu idw:   0%|          | 0/1 [00:00<?, ?it/s]\u001b[A\n",
      "\n",
      "100%|██████████| 4/4 [00:00<00:00, 2266.58it/s]\n",
      "wu idw: 100%|██████████| 1/1 [00:00<00:00, 146.53it/s]\n"
     ]
    },
    {
     "name": "stdout",
     "output_type": "stream",
     "text": [
      "(4, 2) (1, 2)\n",
      "<class 'numpy.ndarray'> <class 'numpy.ndarray'>\n"
     ]
    },
    {
     "name": "stderr",
     "output_type": "stream",
     "text": [
      "\n",
      "wu idw:   0%|          | 0/1 [00:00<?, ?it/s]\u001b[A\n",
      "\n",
      "100%|██████████| 4/4 [00:00<00:00, 2312.19it/s]\n",
      "wu idw: 100%|██████████| 1/1 [00:00<00:00, 129.77it/s]\n"
     ]
    },
    {
     "name": "stdout",
     "output_type": "stream",
     "text": [
      "(4, 2) (1, 2)\n",
      "<class 'numpy.ndarray'> <class 'numpy.ndarray'>\n"
     ]
    },
    {
     "name": "stderr",
     "output_type": "stream",
     "text": [
      "\n",
      "wu idw:   0%|          | 0/1 [00:00<?, ?it/s]\u001b[A\n",
      "\n",
      "100%|██████████| 4/4 [00:00<00:00, 2413.99it/s]\n",
      "wu idw: 100%|██████████| 1/1 [00:00<00:00, 154.37it/s]\n"
     ]
    },
    {
     "name": "stdout",
     "output_type": "stream",
     "text": [
      "(4, 2) (1, 2)\n",
      "<class 'numpy.ndarray'> <class 'numpy.ndarray'>\n"
     ]
    },
    {
     "name": "stderr",
     "output_type": "stream",
     "text": [
      "\n",
      "wu idw:   0%|          | 0/1 [00:00<?, ?it/s]\u001b[A\n",
      "\n",
      "100%|██████████| 4/4 [00:00<00:00, 2384.14it/s]\n",
      "wu idw: 100%|██████████| 1/1 [00:00<00:00, 156.15it/s]\n"
     ]
    },
    {
     "name": "stdout",
     "output_type": "stream",
     "text": [
      "(4, 2) (1, 2)\n",
      "<class 'numpy.ndarray'> <class 'numpy.ndarray'>\n"
     ]
    },
    {
     "name": "stderr",
     "output_type": "stream",
     "text": [
      "\n",
      "wu idw:   0%|          | 0/1 [00:00<?, ?it/s]\u001b[A\n",
      "\n",
      "100%|██████████| 4/4 [00:00<00:00, 7486.49it/s]\n",
      "wu idw: 100%|██████████| 1/1 [00:00<00:00, 226.08it/s]\n"
     ]
    },
    {
     "name": "stdout",
     "output_type": "stream",
     "text": [
      "(4, 2) (1, 2)\n",
      "<class 'numpy.ndarray'> <class 'numpy.ndarray'>\n"
     ]
    },
    {
     "name": "stderr",
     "output_type": "stream",
     "text": [
      "\n",
      "wu idw:   0%|          | 0/1 [00:00<?, ?it/s]\u001b[A\n",
      "\n",
      "100%|██████████| 4/4 [00:00<00:00, 2496.24it/s]\n",
      "wu idw: 100%|██████████| 1/1 [00:00<00:00, 146.37it/s]\n"
     ]
    },
    {
     "name": "stdout",
     "output_type": "stream",
     "text": [
      "(4, 2) (1, 2)\n",
      "<class 'numpy.ndarray'> <class 'numpy.ndarray'>\n"
     ]
    },
    {
     "name": "stderr",
     "output_type": "stream",
     "text": [
      "\n",
      "wu idw:   0%|          | 0/1 [00:00<?, ?it/s]\u001b[A\n",
      "\n",
      "100%|██████████| 4/4 [00:00<00:00, 2099.78it/s]\n",
      "wu idw: 100%|██████████| 1/1 [00:00<00:00, 143.22it/s]\n"
     ]
    },
    {
     "name": "stdout",
     "output_type": "stream",
     "text": [
      "(4, 2) (1, 2)\n",
      "<class 'numpy.ndarray'> <class 'numpy.ndarray'>\n"
     ]
    },
    {
     "name": "stderr",
     "output_type": "stream",
     "text": [
      "\n",
      "wu idw:   0%|          | 0/1 [00:00<?, ?it/s]\u001b[A\n",
      "\n",
      "100%|██████████| 4/4 [00:00<00:00, 7247.18it/s]\n",
      "wu idw: 100%|██████████| 1/1 [00:00<00:00, 122.83it/s]\n"
     ]
    },
    {
     "name": "stdout",
     "output_type": "stream",
     "text": [
      "(4, 2) (1, 2)\n",
      "<class 'numpy.ndarray'> <class 'numpy.ndarray'>\n"
     ]
    },
    {
     "name": "stderr",
     "output_type": "stream",
     "text": [
      "\n",
      "wu idw:   0%|          | 0/1 [00:00<?, ?it/s]\u001b[A\n",
      "\n",
      "100%|██████████| 4/4 [00:00<00:00, 7244.05it/s]\n",
      "wu idw: 100%|██████████| 1/1 [00:00<00:00, 125.80it/s]\n"
     ]
    },
    {
     "name": "stdout",
     "output_type": "stream",
     "text": [
      "(4, 2) (1, 2)\n",
      "<class 'numpy.ndarray'> <class 'numpy.ndarray'>\n"
     ]
    },
    {
     "name": "stderr",
     "output_type": "stream",
     "text": [
      "\n",
      "wu idw:   0%|          | 0/1 [00:00<?, ?it/s]\u001b[A\n",
      "\n",
      "100%|██████████| 4/4 [00:00<00:00, 2283.24it/s]\n",
      "wu idw: 100%|██████████| 1/1 [00:00<00:00, 151.65it/s]\n"
     ]
    },
    {
     "name": "stdout",
     "output_type": "stream",
     "text": [
      "(4, 2) (1, 2)\n",
      "<class 'numpy.ndarray'> <class 'numpy.ndarray'>\n"
     ]
    },
    {
     "name": "stderr",
     "output_type": "stream",
     "text": [
      "\n",
      "wu idw:   0%|          | 0/1 [00:00<?, ?it/s]\u001b[A\n",
      "\n",
      "100%|██████████| 4/4 [00:00<00:00, 2411.21it/s]\n",
      "wu idw: 100%|██████████| 1/1 [00:00<00:00, 158.46it/s]\n"
     ]
    },
    {
     "name": "stdout",
     "output_type": "stream",
     "text": [
      "(4, 2) (1, 2)\n",
      "<class 'numpy.ndarray'> <class 'numpy.ndarray'>\n"
     ]
    },
    {
     "name": "stderr",
     "output_type": "stream",
     "text": [
      "\n",
      "wu idw:   0%|          | 0/1 [00:00<?, ?it/s]\u001b[A\n",
      "\n",
      "100%|██████████| 4/4 [00:00<00:00, 2388.90it/s]\n",
      "wu idw: 100%|██████████| 1/1 [00:00<00:00, 148.51it/s]\n"
     ]
    },
    {
     "name": "stdout",
     "output_type": "stream",
     "text": [
      "(4, 2) (1, 2)\n",
      "<class 'numpy.ndarray'> <class 'numpy.ndarray'>\n"
     ]
    },
    {
     "name": "stderr",
     "output_type": "stream",
     "text": [
      "\n",
      "wu idw:   0%|          | 0/1 [00:00<?, ?it/s]\u001b[A\n",
      "\n",
      "100%|██████████| 4/4 [00:00<00:00, 2611.65it/s]\n",
      "wu idw: 100%|██████████| 1/1 [00:00<00:00, 133.36it/s]\n"
     ]
    },
    {
     "name": "stdout",
     "output_type": "stream",
     "text": [
      "(4, 2) (1, 2)\n",
      "<class 'numpy.ndarray'> <class 'numpy.ndarray'>\n"
     ]
    },
    {
     "name": "stderr",
     "output_type": "stream",
     "text": [
      "\n",
      "wu idw:   0%|          | 0/1 [00:00<?, ?it/s]\u001b[A\n",
      "\n",
      "100%|██████████| 4/4 [00:00<00:00, 8180.02it/s]\n",
      "wu idw: 100%|██████████| 1/1 [00:00<00:00, 135.08it/s]\n"
     ]
    },
    {
     "name": "stdout",
     "output_type": "stream",
     "text": [
      "(4, 2) (1, 2)\n",
      "<class 'numpy.ndarray'> <class 'numpy.ndarray'>\n"
     ]
    },
    {
     "name": "stderr",
     "output_type": "stream",
     "text": [
      "\n",
      "wu idw:   0%|          | 0/1 [00:00<?, ?it/s]\u001b[A\n",
      "\n",
      "100%|██████████| 4/4 [00:00<00:00, 6657.63it/s]\n",
      "wu idw: 100%|██████████| 1/1 [00:00<00:00, 156.42it/s]\n"
     ]
    },
    {
     "name": "stdout",
     "output_type": "stream",
     "text": [
      "(4, 2) (1, 2)\n",
      "<class 'numpy.ndarray'> <class 'numpy.ndarray'>\n"
     ]
    },
    {
     "name": "stderr",
     "output_type": "stream",
     "text": [
      "\n",
      "wu idw:   0%|          | 0/1 [00:00<?, ?it/s]\u001b[A\n",
      "\n",
      "100%|██████████| 4/4 [00:00<00:00, 2504.81it/s]\n",
      "wu idw: 100%|██████████| 1/1 [00:00<00:00, 133.67it/s]\n"
     ]
    },
    {
     "name": "stdout",
     "output_type": "stream",
     "text": [
      "(4, 2) (1, 2)\n",
      "<class 'numpy.ndarray'> <class 'numpy.ndarray'>\n"
     ]
    },
    {
     "name": "stderr",
     "output_type": "stream",
     "text": [
      "\n",
      "wu idw:   0%|          | 0/1 [00:00<?, ?it/s]\u001b[A\n",
      "\n",
      "100%|██████████| 4/4 [00:00<00:00, 2768.52it/s]\n",
      "wu idw: 100%|██████████| 1/1 [00:00<00:00, 160.72it/s]\n"
     ]
    },
    {
     "name": "stdout",
     "output_type": "stream",
     "text": [
      "(4, 2) (1, 2)\n",
      "<class 'numpy.ndarray'> <class 'numpy.ndarray'>\n"
     ]
    },
    {
     "name": "stderr",
     "output_type": "stream",
     "text": [
      "\n",
      "wu idw:   0%|          | 0/1 [00:00<?, ?it/s]\u001b[A\n",
      "\n",
      "100%|██████████| 4/4 [00:00<00:00, 7247.18it/s]\n",
      "wu idw: 100%|██████████| 1/1 [00:00<00:00, 158.50it/s]\n"
     ]
    },
    {
     "name": "stdout",
     "output_type": "stream",
     "text": [
      "(4, 2) (1, 2)\n",
      "<class 'numpy.ndarray'> <class 'numpy.ndarray'>\n"
     ]
    },
    {
     "name": "stderr",
     "output_type": "stream",
     "text": [
      "\n",
      "wu idw:   0%|          | 0/1 [00:00<?, ?it/s]\u001b[A\n",
      "\n",
      "100%|██████████| 4/4 [00:00<00:00, 2598.70it/s]\n",
      "wu idw: 100%|██████████| 1/1 [00:00<00:00, 168.18it/s]\n"
     ]
    },
    {
     "name": "stdout",
     "output_type": "stream",
     "text": [
      "(4, 2) (1, 2)\n",
      "<class 'numpy.ndarray'> <class 'numpy.ndarray'>\n"
     ]
    },
    {
     "name": "stderr",
     "output_type": "stream",
     "text": [
      "\n",
      "wu idw:   0%|          | 0/1 [00:00<?, ?it/s]\u001b[A\n",
      "\n",
      "100%|██████████| 4/4 [00:00<00:00, 8516.35it/s]\n",
      "wu idw: 100%|██████████| 1/1 [00:00<00:00, 360.89it/s]\n"
     ]
    },
    {
     "name": "stdout",
     "output_type": "stream",
     "text": [
      "(4, 2) (1, 2)\n",
      "<class 'numpy.ndarray'> <class 'numpy.ndarray'>\n"
     ]
    },
    {
     "name": "stderr",
     "output_type": "stream",
     "text": [
      "\n",
      "wu idw:   0%|          | 0/1 [00:00<?, ?it/s]\u001b[A\n",
      "\n",
      "100%|██████████| 4/4 [00:00<00:00, 2389.24it/s]\n",
      "wu idw: 100%|██████████| 1/1 [00:00<00:00, 178.41it/s]\n"
     ]
    },
    {
     "name": "stdout",
     "output_type": "stream",
     "text": [
      "(4, 2) (1, 2)\n",
      "<class 'numpy.ndarray'> <class 'numpy.ndarray'>\n"
     ]
    },
    {
     "name": "stderr",
     "output_type": "stream",
     "text": [
      "\n",
      "wu idw:   0%|          | 0/1 [00:00<?, ?it/s]\u001b[A\n",
      "\n",
      "100%|██████████| 4/4 [00:00<00:00, 2322.11it/s]\n",
      "wu idw: 100%|██████████| 1/1 [00:00<00:00, 171.62it/s]\n"
     ]
    },
    {
     "name": "stdout",
     "output_type": "stream",
     "text": [
      "(4, 2) (1, 2)\n",
      "<class 'numpy.ndarray'> <class 'numpy.ndarray'>\n"
     ]
    },
    {
     "name": "stderr",
     "output_type": "stream",
     "text": [
      "\n",
      "wu idw:   0%|          | 0/1 [00:00<?, ?it/s]\u001b[A\n",
      "\n",
      "100%|██████████| 4/4 [00:00<00:00, 2346.79it/s]\n",
      "wu idw: 100%|██████████| 1/1 [00:00<00:00, 173.24it/s]\n"
     ]
    },
    {
     "name": "stdout",
     "output_type": "stream",
     "text": [
      "(4, 2) (1, 2)\n",
      "<class 'numpy.ndarray'> <class 'numpy.ndarray'>\n"
     ]
    },
    {
     "name": "stderr",
     "output_type": "stream",
     "text": [
      "\n",
      "wu idw:   0%|          | 0/1 [00:00<?, ?it/s]\u001b[A\n",
      "\n",
      "100%|██████████| 4/4 [00:00<00:00, 2241.74it/s]\n",
      "wu idw: 100%|██████████| 1/1 [00:00<00:00, 151.31it/s]\n"
     ]
    },
    {
     "name": "stdout",
     "output_type": "stream",
     "text": [
      "(4, 2) (1, 2)\n",
      "<class 'numpy.ndarray'> <class 'numpy.ndarray'>\n"
     ]
    },
    {
     "name": "stderr",
     "output_type": "stream",
     "text": [
      "\n",
      "wu idw:   0%|          | 0/1 [00:00<?, ?it/s]\u001b[A\n",
      "\n",
      "100%|██████████| 4/4 [00:00<00:00, 7615.62it/s]\n",
      "wu idw: 100%|██████████| 1/1 [00:00<00:00, 298.57it/s]\n"
     ]
    },
    {
     "name": "stdout",
     "output_type": "stream",
     "text": [
      "(4, 2) (1, 2)\n",
      "<class 'numpy.ndarray'> <class 'numpy.ndarray'>\n"
     ]
    },
    {
     "name": "stderr",
     "output_type": "stream",
     "text": [
      "\n",
      "wu idw:   0%|          | 0/1 [00:00<?, ?it/s]\u001b[A\n",
      "\n",
      "100%|██████████| 4/4 [00:00<00:00, 2633.37it/s]\n",
      "wu idw: 100%|██████████| 1/1 [00:00<00:00, 160.62it/s]\n"
     ]
    },
    {
     "name": "stdout",
     "output_type": "stream",
     "text": [
      "(4, 2) (1, 2)\n",
      "<class 'numpy.ndarray'> <class 'numpy.ndarray'>\n"
     ]
    },
    {
     "name": "stderr",
     "output_type": "stream",
     "text": [
      "\n",
      "wu idw:   0%|          | 0/1 [00:00<?, ?it/s]\u001b[A\n",
      "\n",
      "100%|██████████| 4/4 [00:00<00:00, 2648.76it/s]\n",
      "wu idw: 100%|██████████| 1/1 [00:00<00:00, 147.84it/s]\n"
     ]
    },
    {
     "name": "stdout",
     "output_type": "stream",
     "text": [
      "(4, 2) (1, 2)\n",
      "<class 'numpy.ndarray'> <class 'numpy.ndarray'>\n"
     ]
    },
    {
     "name": "stderr",
     "output_type": "stream",
     "text": [
      "\n",
      "wu idw:   0%|          | 0/1 [00:00<?, ?it/s]\u001b[A\n",
      "\n",
      "100%|██████████| 4/4 [00:00<00:00, 2197.70it/s]\n",
      "wu idw: 100%|██████████| 1/1 [00:00<00:00, 143.06it/s]\n"
     ]
    },
    {
     "name": "stdout",
     "output_type": "stream",
     "text": [
      "(4, 2) (1, 2)\n",
      "<class 'numpy.ndarray'> <class 'numpy.ndarray'>\n"
     ]
    },
    {
     "name": "stderr",
     "output_type": "stream",
     "text": [
      "\n",
      "wu idw:   0%|          | 0/1 [00:00<?, ?it/s]\u001b[A\n",
      "\n",
      "100%|██████████| 4/4 [00:00<00:00, 7828.85it/s]\n",
      "wu idw: 100%|██████████| 1/1 [00:00<00:00, 137.72it/s]\n"
     ]
    },
    {
     "name": "stdout",
     "output_type": "stream",
     "text": [
      "(4, 2) (1, 2)\n",
      "<class 'numpy.ndarray'> <class 'numpy.ndarray'>\n"
     ]
    },
    {
     "name": "stderr",
     "output_type": "stream",
     "text": [
      "\n",
      "wu idw:   0%|          | 0/1 [00:00<?, ?it/s]\u001b[A\n",
      "\n",
      "100%|██████████| 4/4 [00:00<00:00, 6727.03it/s]\n",
      "wu idw: 100%|██████████| 1/1 [00:00<00:00, 129.85it/s]\n"
     ]
    },
    {
     "name": "stdout",
     "output_type": "stream",
     "text": [
      "(4, 2) (1, 2)\n",
      "<class 'numpy.ndarray'> <class 'numpy.ndarray'>\n"
     ]
    },
    {
     "name": "stderr",
     "output_type": "stream",
     "text": [
      "\n",
      "wu idw:   0%|          | 0/1 [00:00<?, ?it/s]\u001b[A\n",
      "\n",
      "100%|██████████| 4/4 [00:00<00:00, 2037.80it/s]\n",
      "wu idw: 100%|██████████| 1/1 [00:00<00:00, 122.65it/s]\n"
     ]
    },
    {
     "name": "stdout",
     "output_type": "stream",
     "text": [
      "(4, 2) (1, 2)\n",
      "<class 'numpy.ndarray'> <class 'numpy.ndarray'>\n"
     ]
    },
    {
     "name": "stderr",
     "output_type": "stream",
     "text": [
      "\n",
      "wu idw:   0%|          | 0/1 [00:00<?, ?it/s]\u001b[A\n",
      "\n",
      "100%|██████████| 4/4 [00:00<00:00, 8305.55it/s]\n",
      "wu idw: 100%|██████████| 1/1 [00:00<00:00, 360.92it/s]\n"
     ]
    },
    {
     "name": "stdout",
     "output_type": "stream",
     "text": [
      "(4, 2) (1, 2)\n",
      "<class 'numpy.ndarray'> <class 'numpy.ndarray'>\n"
     ]
    },
    {
     "name": "stderr",
     "output_type": "stream",
     "text": [
      "\n",
      "wu idw:   0%|          | 0/1 [00:00<?, ?it/s]\u001b[A\n",
      "\n",
      "100%|██████████| 4/4 [00:00<00:00, 2555.17it/s]\n",
      "wu idw: 100%|██████████| 1/1 [00:00<00:00, 171.74it/s]\n"
     ]
    },
    {
     "name": "stdout",
     "output_type": "stream",
     "text": [
      "(4, 2) (1, 2)\n",
      "<class 'numpy.ndarray'> <class 'numpy.ndarray'>\n"
     ]
    },
    {
     "name": "stderr",
     "output_type": "stream",
     "text": [
      "\n",
      "wu idw:   0%|          | 0/1 [00:00<?, ?it/s]\u001b[A\n",
      "\n",
      "100%|██████████| 4/4 [00:00<00:00, 2176.88it/s]\n",
      "wu idw: 100%|██████████| 1/1 [00:00<00:00, 153.21it/s]\n"
     ]
    },
    {
     "name": "stdout",
     "output_type": "stream",
     "text": [
      "(4, 2) (1, 2)\n",
      "<class 'numpy.ndarray'> <class 'numpy.ndarray'>\n"
     ]
    },
    {
     "name": "stderr",
     "output_type": "stream",
     "text": [
      "\n",
      "wu idw:   0%|          | 0/1 [00:00<?, ?it/s]\u001b[A\n",
      "\n",
      "100%|██████████| 4/4 [00:00<00:00, 7803.36it/s]\n",
      "wu idw: 100%|██████████| 1/1 [00:00<00:00, 161.69it/s]\n"
     ]
    },
    {
     "name": "stdout",
     "output_type": "stream",
     "text": [
      "(4, 2) (1, 2)\n",
      "<class 'numpy.ndarray'> <class 'numpy.ndarray'>\n"
     ]
    },
    {
     "name": "stderr",
     "output_type": "stream",
     "text": [
      "\n",
      "wu idw:   0%|          | 0/1 [00:00<?, ?it/s]\u001b[A\n",
      "\n",
      "100%|██████████| 4/4 [00:00<00:00, 2515.70it/s]\n",
      "wu idw: 100%|██████████| 1/1 [00:00<00:00, 159.89it/s]\n"
     ]
    },
    {
     "name": "stdout",
     "output_type": "stream",
     "text": [
      "(4, 2) (1, 2)\n",
      "<class 'numpy.ndarray'> <class 'numpy.ndarray'>\n"
     ]
    },
    {
     "name": "stderr",
     "output_type": "stream",
     "text": [
      "\n",
      "wu idw:   0%|          | 0/1 [00:00<?, ?it/s]\u001b[A\n",
      "\n",
      "100%|██████████| 4/4 [00:00<00:00, 6884.37it/s]\n",
      "wu idw: 100%|██████████| 1/1 [00:00<00:00, 162.24it/s]\n"
     ]
    },
    {
     "name": "stdout",
     "output_type": "stream",
     "text": [
      "(4, 2) (1, 2)\n",
      "<class 'numpy.ndarray'> <class 'numpy.ndarray'>\n"
     ]
    },
    {
     "name": "stderr",
     "output_type": "stream",
     "text": [
      "\n",
      "wu idw:   0%|          | 0/1 [00:00<?, ?it/s]\u001b[A\n",
      "\n",
      "100%|██████████| 4/4 [00:00<00:00, 8208.03it/s]\n",
      "wu idw: 100%|██████████| 1/1 [00:00<00:00, 279.34it/s]\n"
     ]
    },
    {
     "name": "stdout",
     "output_type": "stream",
     "text": [
      "(4, 2) (1, 2)\n",
      "<class 'numpy.ndarray'> <class 'numpy.ndarray'>\n"
     ]
    },
    {
     "name": "stderr",
     "output_type": "stream",
     "text": [
      "\n",
      "wu idw:   0%|          | 0/1 [00:00<?, ?it/s]\u001b[A\n",
      "\n",
      "100%|██████████| 4/4 [00:00<00:00, 7570.95it/s]\n",
      "wu idw: 100%|██████████| 1/1 [00:00<00:00, 146.32it/s]\n"
     ]
    },
    {
     "name": "stdout",
     "output_type": "stream",
     "text": [
      "(4, 2) (1, 2)\n",
      "<class 'numpy.ndarray'> <class 'numpy.ndarray'>\n"
     ]
    },
    {
     "name": "stderr",
     "output_type": "stream",
     "text": [
      "\n",
      "wu idw:   0%|          | 0/1 [00:00<?, ?it/s]\u001b[A\n",
      "\n",
      "100%|██████████| 4/4 [00:00<00:00, 3866.61it/s]\n",
      "wu idw: 100%|██████████| 1/1 [00:00<00:00, 217.12it/s]\n"
     ]
    },
    {
     "name": "stdout",
     "output_type": "stream",
     "text": [
      "(4, 2) (1, 2)\n",
      "<class 'numpy.ndarray'> <class 'numpy.ndarray'>\n"
     ]
    },
    {
     "name": "stderr",
     "output_type": "stream",
     "text": [
      "\n",
      "wu idw:   0%|          | 0/1 [00:00<?, ?it/s]\u001b[A\n",
      "\n",
      "100%|██████████| 4/4 [00:00<00:00, 4507.58it/s]\n",
      "wu idw: 100%|██████████| 1/1 [00:00<00:00, 259.82it/s]\n"
     ]
    },
    {
     "name": "stdout",
     "output_type": "stream",
     "text": [
      "(4, 2) (1, 2)\n",
      "<class 'numpy.ndarray'> <class 'numpy.ndarray'>\n"
     ]
    },
    {
     "name": "stderr",
     "output_type": "stream",
     "text": [
      "\n",
      "wu idw:   0%|          | 0/1 [00:00<?, ?it/s]\u001b[A\n",
      "\n",
      "100%|██████████| 4/4 [00:00<00:00, 2617.76it/s]\n",
      "wu idw: 100%|██████████| 1/1 [00:00<00:00, 169.04it/s]\n"
     ]
    },
    {
     "name": "stdout",
     "output_type": "stream",
     "text": [
      "(4, 2) (1, 2)\n",
      "<class 'numpy.ndarray'> <class 'numpy.ndarray'>\n"
     ]
    },
    {
     "name": "stderr",
     "output_type": "stream",
     "text": [
      "\n",
      "wu idw:   0%|          | 0/1 [00:00<?, ?it/s]\u001b[A\n",
      "\n",
      "100%|██████████| 4/4 [00:00<00:00, 1942.48it/s]\n",
      "wu idw: 100%|██████████| 1/1 [00:00<00:00, 162.22it/s]\n"
     ]
    },
    {
     "name": "stdout",
     "output_type": "stream",
     "text": [
      "(4, 2) (1, 2)\n",
      "<class 'numpy.ndarray'> <class 'numpy.ndarray'>\n"
     ]
    },
    {
     "name": "stderr",
     "output_type": "stream",
     "text": [
      "\n",
      "wu idw:   0%|          | 0/1 [00:00<?, ?it/s]\u001b[A\n",
      "\n",
      "100%|██████████| 4/4 [00:00<00:00, 2336.01it/s]\n",
      "wu idw: 100%|██████████| 1/1 [00:00<00:00, 131.22it/s]\n"
     ]
    },
    {
     "name": "stdout",
     "output_type": "stream",
     "text": [
      "(4, 2) (1, 2)\n",
      "<class 'numpy.ndarray'> <class 'numpy.ndarray'>\n"
     ]
    },
    {
     "name": "stderr",
     "output_type": "stream",
     "text": [
      "\n",
      "wu idw:   0%|          | 0/1 [00:00<?, ?it/s]\u001b[A\n",
      "\n",
      "100%|██████████| 4/4 [00:00<00:00, 2003.25it/s]\n",
      "wu idw: 100%|██████████| 1/1 [00:00<00:00, 154.85it/s]\n"
     ]
    },
    {
     "name": "stdout",
     "output_type": "stream",
     "text": [
      "(4, 2) (1, 2)\n",
      "<class 'numpy.ndarray'> <class 'numpy.ndarray'>\n"
     ]
    },
    {
     "name": "stderr",
     "output_type": "stream",
     "text": [
      "\n",
      "wu idw:   0%|          | 0/1 [00:00<?, ?it/s]\u001b[A\n",
      "\n",
      "100%|██████████| 4/4 [00:00<00:00, 1978.45it/s]\n",
      "wu idw: 100%|██████████| 1/1 [00:00<00:00, 135.36it/s]\n"
     ]
    },
    {
     "name": "stdout",
     "output_type": "stream",
     "text": [
      "(4, 2) (1, 2)\n",
      "<class 'numpy.ndarray'> <class 'numpy.ndarray'>\n"
     ]
    },
    {
     "name": "stderr",
     "output_type": "stream",
     "text": [
      "\n",
      "wu idw:   0%|          | 0/1 [00:00<?, ?it/s]\u001b[A\n",
      "\n",
      "100%|██████████| 4/4 [00:00<00:00, 2239.35it/s]\n",
      "wu idw: 100%|██████████| 1/1 [00:00<00:00, 146.56it/s]\n"
     ]
    },
    {
     "name": "stdout",
     "output_type": "stream",
     "text": [
      "(4, 2) (1, 2)\n",
      "<class 'numpy.ndarray'> <class 'numpy.ndarray'>\n"
     ]
    },
    {
     "name": "stderr",
     "output_type": "stream",
     "text": [
      "\n",
      "wu idw:   0%|          | 0/1 [00:00<?, ?it/s]\u001b[A\n",
      "\n",
      "100%|██████████| 4/4 [00:00<00:00, 2409.48it/s]\n",
      "wu idw: 100%|██████████| 1/1 [00:00<00:00, 154.61it/s]\n"
     ]
    },
    {
     "name": "stdout",
     "output_type": "stream",
     "text": [
      "(4, 2) (1, 2)\n",
      "<class 'numpy.ndarray'> <class 'numpy.ndarray'>\n"
     ]
    },
    {
     "name": "stderr",
     "output_type": "stream",
     "text": [
      "\n",
      "wu idw:   0%|          | 0/1 [00:00<?, ?it/s]\u001b[A\n",
      "\n",
      "100%|██████████| 4/4 [00:00<00:00, 8756.38it/s]\n",
      "wu idw: 100%|██████████| 1/1 [00:00<00:00, 150.57it/s]\n"
     ]
    },
    {
     "name": "stdout",
     "output_type": "stream",
     "text": [
      "(4, 2) (1, 2)\n",
      "<class 'numpy.ndarray'> <class 'numpy.ndarray'>\n"
     ]
    },
    {
     "name": "stderr",
     "output_type": "stream",
     "text": [
      "\n",
      "wu idw:   0%|          | 0/1 [00:00<?, ?it/s]\u001b[A\n",
      "\n",
      "100%|██████████| 4/4 [00:00<00:00, 2457.12it/s]\n",
      "wu idw: 100%|██████████| 1/1 [00:00<00:00, 161.43it/s]\n"
     ]
    },
    {
     "name": "stdout",
     "output_type": "stream",
     "text": [
      "(4, 2) (1, 2)\n",
      "<class 'numpy.ndarray'> <class 'numpy.ndarray'>\n"
     ]
    },
    {
     "name": "stderr",
     "output_type": "stream",
     "text": [
      "\n",
      "wu idw:   0%|          | 0/1 [00:00<?, ?it/s]\u001b[A\n",
      "\n",
      "100%|██████████| 4/4 [00:00<00:00, 1124.93it/s]\n",
      "wu idw: 100%|██████████| 1/1 [00:00<00:00, 137.01it/s]\n"
     ]
    },
    {
     "name": "stdout",
     "output_type": "stream",
     "text": [
      "(4, 2) (1, 2)\n",
      "<class 'numpy.ndarray'> <class 'numpy.ndarray'>\n"
     ]
    },
    {
     "name": "stderr",
     "output_type": "stream",
     "text": [
      "\n",
      "wu idw:   0%|          | 0/1 [00:00<?, ?it/s]\u001b[A\n",
      "\n",
      "100%|██████████| 4/4 [00:00<00:00, 7121.06it/s]\n",
      "wu idw: 100%|██████████| 1/1 [00:00<00:00, 184.71it/s]\n"
     ]
    },
    {
     "name": "stdout",
     "output_type": "stream",
     "text": [
      "(4, 2) (1, 2)\n",
      "<class 'numpy.ndarray'> <class 'numpy.ndarray'>\n"
     ]
    },
    {
     "name": "stderr",
     "output_type": "stream",
     "text": [
      "\n",
      "wu idw:   0%|          | 0/1 [00:00<?, ?it/s]\u001b[A\n",
      "\n",
      "100%|██████████| 4/4 [00:00<00:00, 8643.59it/s]\n",
      "wu idw: 100%|██████████| 1/1 [00:00<00:00, 372.03it/s]\n"
     ]
    },
    {
     "name": "stdout",
     "output_type": "stream",
     "text": [
      "(4, 2) (1, 2)\n",
      "<class 'numpy.ndarray'> <class 'numpy.ndarray'>\n"
     ]
    },
    {
     "name": "stderr",
     "output_type": "stream",
     "text": [
      "\n",
      "wu idw:   0%|          | 0/1 [00:00<?, ?it/s]\u001b[A\n",
      "\n",
      "100%|██████████| 4/4 [00:00<00:00, 2455.68it/s]\n",
      "wu idw: 100%|██████████| 1/1 [00:00<00:00, 158.60it/s]\n"
     ]
    },
    {
     "name": "stdout",
     "output_type": "stream",
     "text": [
      "(4, 2) (1, 2)\n",
      "<class 'numpy.ndarray'> <class 'numpy.ndarray'>\n"
     ]
    },
    {
     "name": "stderr",
     "output_type": "stream",
     "text": [
      "\n",
      "wu idw:   0%|          | 0/1 [00:00<?, ?it/s]\u001b[A\n",
      "\n",
      "100%|██████████| 4/4 [00:00<00:00, 2503.69it/s]\n",
      "wu idw: 100%|██████████| 1/1 [00:00<00:00, 157.22it/s]\n"
     ]
    },
    {
     "name": "stdout",
     "output_type": "stream",
     "text": [
      "(4, 2) (1, 2)\n",
      "<class 'numpy.ndarray'> <class 'numpy.ndarray'>\n"
     ]
    },
    {
     "name": "stderr",
     "output_type": "stream",
     "text": [
      "\n",
      "wu idw:   0%|          | 0/1 [00:00<?, ?it/s]\u001b[A\n",
      "\n",
      "100%|██████████| 4/4 [00:00<00:00, 2395.38it/s]\n",
      "wu idw: 100%|██████████| 1/1 [00:00<00:00, 155.77it/s]\n"
     ]
    },
    {
     "name": "stdout",
     "output_type": "stream",
     "text": [
      "(4, 2) (1, 2)\n",
      "<class 'numpy.ndarray'> <class 'numpy.ndarray'>\n"
     ]
    },
    {
     "name": "stderr",
     "output_type": "stream",
     "text": [
      "\n",
      "wu idw:   0%|          | 0/1 [00:00<?, ?it/s]\u001b[A\n",
      "\n",
      "100%|██████████| 4/4 [00:00<00:00, 2338.29it/s]\n",
      "wu idw: 100%|██████████| 1/1 [00:00<00:00, 161.03it/s]\n"
     ]
    },
    {
     "name": "stdout",
     "output_type": "stream",
     "text": [
      "(4, 2) (1, 2)\n",
      "<class 'numpy.ndarray'> <class 'numpy.ndarray'>\n"
     ]
    },
    {
     "name": "stderr",
     "output_type": "stream",
     "text": [
      "\n",
      "wu idw:   0%|          | 0/1 [00:00<?, ?it/s]\u001b[A\n",
      "\n",
      "100%|██████████| 4/4 [00:00<00:00, 7742.14it/s]\n",
      "wu idw: 100%|██████████| 1/1 [00:00<00:00, 186.97it/s]\n"
     ]
    },
    {
     "name": "stdout",
     "output_type": "stream",
     "text": [
      "(4, 2) (1, 2)\n",
      "<class 'numpy.ndarray'> <class 'numpy.ndarray'>\n"
     ]
    },
    {
     "name": "stderr",
     "output_type": "stream",
     "text": [
      "\n",
      "wu idw:   0%|          | 0/1 [00:00<?, ?it/s]\u001b[A\n",
      "\n",
      "100%|██████████| 4/4 [00:00<00:00, 2488.46it/s]\n",
      "wu idw: 100%|██████████| 1/1 [00:00<00:00, 190.97it/s]\n"
     ]
    },
    {
     "name": "stdout",
     "output_type": "stream",
     "text": [
      "(4, 2) (1, 2)\n",
      "<class 'numpy.ndarray'> <class 'numpy.ndarray'>\n"
     ]
    },
    {
     "name": "stderr",
     "output_type": "stream",
     "text": [
      "\n",
      "wu idw:   0%|          | 0/1 [00:00<?, ?it/s]\u001b[A\n",
      "\n",
      "100%|██████████| 4/4 [00:00<00:00, 6654.98it/s]\n",
      "wu idw: 100%|██████████| 1/1 [00:00<00:00, 173.84it/s]\n"
     ]
    },
    {
     "name": "stdout",
     "output_type": "stream",
     "text": [
      "(4, 2) (1, 2)\n",
      "<class 'numpy.ndarray'> <class 'numpy.ndarray'>\n"
     ]
    },
    {
     "name": "stderr",
     "output_type": "stream",
     "text": [
      "\n",
      "wu idw:   0%|          | 0/1 [00:00<?, ?it/s]\u001b[A\n",
      "\n",
      "100%|██████████| 4/4 [00:00<00:00, 8886.24it/s]\n",
      "wu idw: 100%|██████████| 1/1 [00:00<00:00, 370.03it/s]\n"
     ]
    },
    {
     "name": "stdout",
     "output_type": "stream",
     "text": [
      "(4, 2) (1, 2)\n",
      "<class 'numpy.ndarray'> <class 'numpy.ndarray'>\n"
     ]
    },
    {
     "name": "stderr",
     "output_type": "stream",
     "text": [
      "\n",
      "wu idw:   0%|          | 0/1 [00:00<?, ?it/s]\u001b[A\n",
      "\n",
      "100%|██████████| 4/4 [00:00<00:00, 2330.17it/s]\n",
      "wu idw: 100%|██████████| 1/1 [00:00<00:00, 189.95it/s]\n"
     ]
    },
    {
     "name": "stdout",
     "output_type": "stream",
     "text": [
      "(4, 2) (1, 2)\n",
      "<class 'numpy.ndarray'> <class 'numpy.ndarray'>\n"
     ]
    },
    {
     "name": "stderr",
     "output_type": "stream",
     "text": [
      "\n",
      "wu idw:   0%|          | 0/1 [00:00<?, ?it/s]\u001b[A\n",
      "\n",
      "100%|██████████| 4/4 [00:00<00:00, 2477.07it/s]\n",
      "wu idw: 100%|██████████| 1/1 [00:00<00:00, 137.12it/s]\n"
     ]
    },
    {
     "name": "stdout",
     "output_type": "stream",
     "text": [
      "(4, 2) (1, 2)\n",
      "<class 'numpy.ndarray'> <class 'numpy.ndarray'>\n"
     ]
    },
    {
     "name": "stderr",
     "output_type": "stream",
     "text": [
      "\n",
      "wu idw:   0%|          | 0/1 [00:00<?, ?it/s]\u001b[A\n",
      "\n",
      "100%|██████████| 4/4 [00:00<00:00, 2309.00it/s]\n",
      "wu idw: 100%|██████████| 1/1 [00:00<00:00, 185.89it/s]\n"
     ]
    },
    {
     "name": "stdout",
     "output_type": "stream",
     "text": [
      "(4, 2) (1, 2)\n",
      "<class 'numpy.ndarray'> <class 'numpy.ndarray'>\n"
     ]
    },
    {
     "name": "stderr",
     "output_type": "stream",
     "text": [
      "\n",
      "wu idw:   0%|          | 0/1 [00:00<?, ?it/s]\u001b[A\n",
      "\n",
      "100%|██████████| 4/4 [00:00<00:00, 7197.43it/s]\n",
      "wu idw: 100%|██████████| 1/1 [00:00<00:00, 187.66it/s]\n"
     ]
    },
    {
     "name": "stdout",
     "output_type": "stream",
     "text": [
      "(4, 2) (1, 2)\n",
      "<class 'numpy.ndarray'> <class 'numpy.ndarray'>\n"
     ]
    },
    {
     "name": "stderr",
     "output_type": "stream",
     "text": [
      "\n",
      "wu idw:   0%|          | 0/1 [00:00<?, ?it/s]\u001b[A\n",
      "\n",
      "100%|██████████| 4/4 [00:00<00:00, 2301.09it/s]\n",
      "wu idw: 100%|██████████| 1/1 [00:00<00:00, 188.69it/s]\n"
     ]
    },
    {
     "name": "stdout",
     "output_type": "stream",
     "text": [
      "(4, 2) (1, 2)\n",
      "<class 'numpy.ndarray'> <class 'numpy.ndarray'>\n"
     ]
    },
    {
     "name": "stderr",
     "output_type": "stream",
     "text": [
      "\n",
      "wu idw:   0%|          | 0/1 [00:00<?, ?it/s]\u001b[A\n",
      "\n",
      "100%|██████████| 4/4 [00:00<00:00, 7319.90it/s]\n",
      "wu idw: 100%|██████████| 1/1 [00:00<00:00, 209.23it/s]\n"
     ]
    },
    {
     "name": "stdout",
     "output_type": "stream",
     "text": [
      "(4, 2) (1, 2)\n",
      "<class 'numpy.ndarray'> <class 'numpy.ndarray'>\n"
     ]
    },
    {
     "name": "stderr",
     "output_type": "stream",
     "text": [
      "\n",
      "wu idw:   0%|          | 0/1 [00:00<?, ?it/s]\u001b[A\n",
      "\n",
      "100%|██████████| 4/4 [00:00<00:00, 2514.95it/s]\n",
      "wu idw: 100%|██████████| 1/1 [00:00<00:00, 187.51it/s]\n"
     ]
    },
    {
     "name": "stdout",
     "output_type": "stream",
     "text": [
      "(4, 2) (1, 2)\n",
      "<class 'numpy.ndarray'> <class 'numpy.ndarray'>\n"
     ]
    },
    {
     "name": "stderr",
     "output_type": "stream",
     "text": [
      "\n",
      "wu idw:   0%|          | 0/1 [00:00<?, ?it/s]\u001b[A\n",
      "\n",
      "100%|██████████| 4/4 [00:00<00:00, 7657.33it/s]\n",
      "wu idw: 100%|██████████| 1/1 [00:00<00:00, 336.89it/s]\n"
     ]
    },
    {
     "name": "stdout",
     "output_type": "stream",
     "text": [
      "(4, 2) (1, 2)\n",
      "<class 'numpy.ndarray'> <class 'numpy.ndarray'>\n"
     ]
    },
    {
     "name": "stderr",
     "output_type": "stream",
     "text": [
      "\n",
      "wu idw:   0%|          | 0/1 [00:00<?, ?it/s]\u001b[A\n",
      "\n",
      "100%|██████████| 4/4 [00:00<00:00, 6870.28it/s]\n",
      "wu idw: 100%|██████████| 1/1 [00:00<00:00, 232.49it/s]\n"
     ]
    },
    {
     "name": "stdout",
     "output_type": "stream",
     "text": [
      "(4, 2) (1, 2)\n",
      "<class 'numpy.ndarray'> <class 'numpy.ndarray'>\n"
     ]
    },
    {
     "name": "stderr",
     "output_type": "stream",
     "text": [
      "\n",
      "wu idw:   0%|          | 0/1 [00:00<?, ?it/s]\u001b[A\n",
      "\n",
      "100%|██████████| 4/4 [00:00<00:00, 4427.87it/s]\n",
      "wu idw: 100%|██████████| 1/1 [00:00<00:00, 229.35it/s]\n"
     ]
    },
    {
     "name": "stdout",
     "output_type": "stream",
     "text": [
      "(4, 2) (1, 2)\n",
      "<class 'numpy.ndarray'> <class 'numpy.ndarray'>\n"
     ]
    },
    {
     "name": "stderr",
     "output_type": "stream",
     "text": [
      "\n",
      "wu idw:   0%|          | 0/1 [00:00<?, ?it/s]\u001b[A\n",
      "\n",
      "100%|██████████| 4/4 [00:00<00:00, 4500.33it/s]\n",
      "wu idw: 100%|██████████| 1/1 [00:00<00:00, 249.53it/s]\n",
      "Optimisation error: 0.2737:   1%|          | 1/100 [00:48<1:20:03, 48.52s/it]"
     ]
    },
    {
     "name": "stdout",
     "output_type": "stream",
     "text": [
      "(4, 2) (1, 2)\n",
      "<class 'numpy.ndarray'> <class 'numpy.ndarray'>\n"
     ]
    },
    {
     "name": "stderr",
     "output_type": "stream",
     "text": [
      "\n",
      "\n",
      "  0%|          | 0/100 [00:00<?, ?epoch/s]\u001b[A\u001b[A\n",
      "\n",
      "G loss: 18.4385, D loss: -1.3895:   0%|          | 0/100 [00:00<?, ?epoch/s]\u001b[A\u001b[A\n",
      "\n",
      "G loss: 18.4385, D loss: -1.3895:   1%|          | 1/100 [00:00<00:47,  2.07epoch/s]\u001b[A\u001b[A\n",
      "\n",
      "G loss: 10.7218, D loss: -1.8877:   1%|          | 1/100 [00:00<00:47,  2.07epoch/s]\u001b[A\u001b[A\n",
      "\n",
      "G loss: 10.7218, D loss: -1.8877:   2%|▏         | 2/100 [00:00<00:46,  2.12epoch/s]\u001b[A\u001b[A\n",
      "\n",
      "G loss: 10.2226, D loss: 0.0208:   2%|▏         | 2/100 [00:01<00:46,  2.12epoch/s] \u001b[A\u001b[A\n",
      "\n",
      "G loss: 10.2226, D loss: 0.0208:   3%|▎         | 3/100 [00:01<00:45,  2.14epoch/s]\u001b[A\u001b[A\n",
      "\n",
      "G loss: 8.3593, D loss: 0.0128:   3%|▎         | 3/100 [00:01<00:45,  2.14epoch/s] \u001b[A\u001b[A\n",
      "\n",
      "G loss: 8.3593, D loss: 0.0128:   4%|▍         | 4/100 [00:01<00:45,  2.13epoch/s]\u001b[A\u001b[A\n",
      "\n",
      "G loss: 8.8796, D loss: 0.6015:   4%|▍         | 4/100 [00:02<00:45,  2.13epoch/s]\u001b[A\u001b[A\n",
      "\n",
      "G loss: 8.8796, D loss: 0.6015:   5%|▌         | 5/100 [00:02<00:44,  2.12epoch/s]\u001b[A\u001b[A\n",
      "\n",
      "G loss: 12.9092, D loss: -0.1591:   5%|▌         | 5/100 [00:02<00:44,  2.12epoch/s]\u001b[A\u001b[A\n",
      "\n",
      "G loss: 12.9092, D loss: -0.1591:   6%|▌         | 6/100 [00:02<00:44,  2.12epoch/s]\u001b[A\u001b[A\n",
      "\n",
      "G loss: 9.0539, D loss: -1.4023:   6%|▌         | 6/100 [00:03<00:44,  2.12epoch/s] \u001b[A\u001b[A\n",
      "\n",
      "G loss: 9.0539, D loss: -1.4023:   7%|▋         | 7/100 [00:03<00:43,  2.12epoch/s]\u001b[A\u001b[A\n",
      "\n",
      "G loss: 14.5071, D loss: -0.8855:   7%|▋         | 7/100 [00:03<00:43,  2.12epoch/s]\u001b[A\u001b[A\n",
      "\n",
      "G loss: 14.5071, D loss: -0.8855:   8%|▊         | 8/100 [00:03<00:44,  2.09epoch/s]\u001b[A\u001b[A\n",
      "\n",
      "G loss: 15.0258, D loss: -1.0424:   8%|▊         | 8/100 [00:04<00:44,  2.09epoch/s]\u001b[A\u001b[A\n",
      "\n",
      "G loss: 15.0258, D loss: -1.0424:   9%|▉         | 9/100 [00:04<00:43,  2.11epoch/s]\u001b[A\u001b[A\n",
      "\n",
      "G loss: 6.7788, D loss: -0.0963:   9%|▉         | 9/100 [00:04<00:43,  2.11epoch/s] \u001b[A\u001b[A\n",
      "\n",
      "G loss: 6.7788, D loss: -0.0963:  10%|█         | 10/100 [00:04<00:42,  2.11epoch/s]\u001b[A\u001b[A\n",
      "\n",
      "G loss: 9.1957, D loss: -1.3298:  10%|█         | 10/100 [00:05<00:42,  2.11epoch/s]\u001b[A\u001b[A\n",
      "\n",
      "G loss: 9.1957, D loss: -1.3298:  11%|█         | 11/100 [00:05<00:42,  2.10epoch/s]\u001b[A\u001b[A\n",
      "\n",
      "G loss: 12.5902, D loss: 0.2807:  11%|█         | 11/100 [00:05<00:42,  2.10epoch/s]\u001b[A\u001b[A\n",
      "\n",
      "G loss: 12.5902, D loss: 0.2807:  12%|█▏        | 12/100 [00:05<00:41,  2.11epoch/s]\u001b[A\u001b[A\n",
      "\n",
      "G loss: 6.6851, D loss: -1.0655:  12%|█▏        | 12/100 [00:06<00:41,  2.11epoch/s]\u001b[A\u001b[A\n",
      "\n",
      "G loss: 6.6851, D loss: -1.0655:  13%|█▎        | 13/100 [00:06<00:40,  2.12epoch/s]\u001b[A\u001b[A\n",
      "\n",
      "G loss: 13.2245, D loss: -0.2946:  13%|█▎        | 13/100 [00:06<00:40,  2.12epoch/s]\u001b[A\u001b[A\n",
      "\n",
      "G loss: 13.2245, D loss: -0.2946:  14%|█▍        | 14/100 [00:06<00:40,  2.13epoch/s]\u001b[A\u001b[A\n",
      "\n",
      "G loss: 15.9121, D loss: -0.5186:  14%|█▍        | 14/100 [00:07<00:40,  2.13epoch/s]\u001b[A\u001b[A\n",
      "\n",
      "G loss: 15.9121, D loss: -0.5186:  15%|█▌        | 15/100 [00:07<00:39,  2.14epoch/s]\u001b[A\u001b[A\n",
      "\n",
      "G loss: 11.6743, D loss: -0.2151:  15%|█▌        | 15/100 [00:07<00:39,  2.14epoch/s]\u001b[A\u001b[A\n",
      "\n",
      "G loss: 11.6743, D loss: -0.2151:  16%|█▌        | 16/100 [00:07<00:38,  2.16epoch/s]\u001b[A\u001b[A\n",
      "\n",
      "G loss: 9.1436, D loss: -0.2638:  16%|█▌        | 16/100 [00:07<00:38,  2.16epoch/s] \u001b[A\u001b[A\n",
      "\n",
      "G loss: 9.1436, D loss: -0.2638:  17%|█▋        | 17/100 [00:08<00:40,  2.07epoch/s]\u001b[A\u001b[A\n",
      "Optimisation error: 0.2737:   1%|          | 1/100 [00:56<1:33:36, 56.73s/it]\n",
      "Exception ignored in: <function tqdm.__del__ at 0x2ae3469c94c0>\n",
      "Traceback (most recent call last):\n",
      "  File \"/home/tramazyan/.local/lib/python3.9/site-packages/tqdm/std.py\", line 1147, in __del__\n",
      "KeyboardInterrupt: \n"
     ]
    },
    {
     "ename": "KeyboardInterrupt",
     "evalue": "",
     "output_type": "error",
     "traceback": [
      "\u001b[0;31m---------------------------------------------------------------------------\u001b[0m",
      "\u001b[0;31mKeyboardInterrupt\u001b[0m                         Traceback (most recent call last)",
      "Input \u001b[0;32mIn [7]\u001b[0m, in \u001b[0;36m<cell line: 1>\u001b[0;34m()\u001b[0m\n\u001b[1;32m      3\u001b[0m \u001b[38;5;28mprint\u001b[39m(\u001b[38;5;124mf\u001b[39m\u001b[38;5;124m'\u001b[39m\u001b[38;5;124mExperiment #\u001b[39m\u001b[38;5;132;01m{\u001b[39;00mi\u001b[38;5;132;01m}\u001b[39;00m\u001b[38;5;124m'\u001b[39m)\n\u001b[1;32m      5\u001b[0m opt \u001b[38;5;241m=\u001b[39m Optimiser(func\u001b[38;5;241m=\u001b[39mFUNCS[function](),\u001b[38;5;66;03m#FUNCS[function](dimensions) if dimensions else \u001b[39;00m\n\u001b[1;32m      6\u001b[0m                 surr\u001b[38;5;241m=\u001b[39mSURR[surrogate],\n\u001b[1;32m      7\u001b[0m                 acqf\u001b[38;5;241m=\u001b[39mACQF[acquisition],\n\u001b[0;32m   (...)\u001b[0m\n\u001b[1;32m     10\u001b[0m                 save_results\u001b[38;5;241m=\u001b[39m\u001b[38;5;28;01mTrue\u001b[39;00m,\n\u001b[1;32m     11\u001b[0m                 num_opt\u001b[38;5;241m=\u001b[39m\u001b[38;5;28;01mTrue\u001b[39;00m)\n\u001b[0;32m---> 12\u001b[0m \u001b[43mopt\u001b[49m\u001b[38;5;241;43m.\u001b[39;49m\u001b[43moptimise\u001b[49m\u001b[43m(\u001b[49m\u001b[43m)\u001b[49m\n\u001b[1;32m     13\u001b[0m display(opt)\n",
      "File \u001b[0;32m~/.conda/envs/env_gpu/lib/python3.9/site-packages/waggon/optim/optim.py:235\u001b[0m, in \u001b[0;36mOptimiser.optimise\u001b[0;34m(self, X, y, **kwargs)\u001b[0m\n\u001b[1;32m    231\u001b[0m     opt_loop \u001b[38;5;241m=\u001b[39m tqdm(\u001b[38;5;28mrange\u001b[39m(\u001b[38;5;28mself\u001b[39m\u001b[38;5;241m.\u001b[39mmax_iter), desc\u001b[38;5;241m=\u001b[39m\u001b[38;5;124m'\u001b[39m\u001b[38;5;124mOptimisation loop\u001b[39m\u001b[38;5;124m'\u001b[39m, leave\u001b[38;5;241m=\u001b[39m\u001b[38;5;28;01mTrue\u001b[39;00m, position\u001b[38;5;241m=\u001b[39m\u001b[38;5;241m0\u001b[39m)\n\u001b[1;32m    233\u001b[0m \u001b[38;5;28;01mfor\u001b[39;00m i \u001b[38;5;129;01min\u001b[39;00m opt_loop:\n\u001b[0;32m--> 235\u001b[0m     next_x \u001b[38;5;241m=\u001b[39m \u001b[38;5;28;43mself\u001b[39;49m\u001b[38;5;241;43m.\u001b[39;49m\u001b[43mpredict\u001b[49m\u001b[43m(\u001b[49m\u001b[43mX\u001b[49m\u001b[43m,\u001b[49m\u001b[43m \u001b[49m\u001b[43my\u001b[49m\u001b[43m)\u001b[49m\n\u001b[1;32m    236\u001b[0m     next_f \u001b[38;5;241m=\u001b[39m np\u001b[38;5;241m.\u001b[39marray([\u001b[38;5;28mself\u001b[39m\u001b[38;5;241m.\u001b[39mfunc(next_x)])\n\u001b[1;32m    238\u001b[0m     \u001b[38;5;28;01mif\u001b[39;00m next_f \u001b[38;5;241m<\u001b[39m\u001b[38;5;241m=\u001b[39m \u001b[38;5;28mself\u001b[39m\u001b[38;5;241m.\u001b[39mres[\u001b[38;5;241m-\u001b[39m\u001b[38;5;241m1\u001b[39m, :]:\n",
      "File \u001b[0;32m~/.conda/envs/env_gpu/lib/python3.9/site-packages/waggon/optim/optim.py:188\u001b[0m, in \u001b[0;36mOptimiser.predict\u001b[0;34m(self, X, y, n_pred)\u001b[0m\n\u001b[1;32m    168\u001b[0m \u001b[38;5;28;01mdef\u001b[39;00m \u001b[38;5;21mpredict\u001b[39m(\u001b[38;5;28mself\u001b[39m, X, y, n_pred\u001b[38;5;241m=\u001b[39m\u001b[38;5;241m1\u001b[39m):\n\u001b[1;32m    169\u001b[0m \u001b[38;5;250m    \u001b[39m\u001b[38;5;124;03m'''\u001b[39;00m\n\u001b[1;32m    170\u001b[0m \u001b[38;5;124;03m    Predicts the next best set of parameter values by optimising the acquisition function.\u001b[39;00m\n\u001b[1;32m    171\u001b[0m \u001b[38;5;124;03m    \u001b[39;00m\n\u001b[0;32m   (...)\u001b[0m\n\u001b[1;32m    185\u001b[0m \u001b[38;5;124;03m    next_x : np.array of shape (func.dim, n_pred)\u001b[39;00m\n\u001b[1;32m    186\u001b[0m \u001b[38;5;124;03m    '''\u001b[39;00m\n\u001b[0;32m--> 188\u001b[0m     \u001b[38;5;28;43mself\u001b[39;49m\u001b[38;5;241;43m.\u001b[39;49m\u001b[43msurr\u001b[49m\u001b[38;5;241;43m.\u001b[39;49m\u001b[43mfit\u001b[49m\u001b[43m(\u001b[49m\u001b[43mX\u001b[49m\u001b[43m,\u001b[49m\u001b[43m \u001b[49m\u001b[43my\u001b[49m\u001b[43m)\u001b[49m\n\u001b[1;32m    190\u001b[0m     \u001b[38;5;28mself\u001b[39m\u001b[38;5;241m.\u001b[39macqf\u001b[38;5;241m.\u001b[39my \u001b[38;5;241m=\u001b[39m y\u001b[38;5;241m.\u001b[39mreshape(y\u001b[38;5;241m.\u001b[39mshape[\u001b[38;5;241m0\u001b[39m]\u001b[38;5;241m/\u001b[39m\u001b[38;5;241m/\u001b[39m\u001b[38;5;28mself\u001b[39m\u001b[38;5;241m.\u001b[39mfunc\u001b[38;5;241m.\u001b[39mn_obs, \u001b[38;5;28mself\u001b[39m\u001b[38;5;241m.\u001b[39mfunc\u001b[38;5;241m.\u001b[39mn_obs)\n\u001b[1;32m    191\u001b[0m     \u001b[38;5;28mself\u001b[39m\u001b[38;5;241m.\u001b[39macqf\u001b[38;5;241m.\u001b[39mconds \u001b[38;5;241m=\u001b[39m X[::\u001b[38;5;28mself\u001b[39m\u001b[38;5;241m.\u001b[39mfunc\u001b[38;5;241m.\u001b[39mn_obs]\n",
      "File \u001b[0;32m~/.conda/envs/env_gpu/lib/python3.9/site-packages/waggon/surrogates/gan.py:138\u001b[0m, in \u001b[0;36mWGAN_GP.fit\u001b[0;34m(self, X, y, **kwargs)\u001b[0m\n\u001b[1;32m    135\u001b[0m D_fake \u001b[38;5;241m=\u001b[39m \u001b[38;5;28mself\u001b[39m\u001b[38;5;241m.\u001b[39mD(torch\u001b[38;5;241m.\u001b[39mcat((X_batch, y_gen_batch\u001b[38;5;241m.\u001b[39mdetach()), dim\u001b[38;5;241m=\u001b[39m\u001b[38;5;241m1\u001b[39m))\n\u001b[1;32m    137\u001b[0m D_loss \u001b[38;5;241m=\u001b[39m torch\u001b[38;5;241m.\u001b[39mmean(D_fake) \u001b[38;5;241m-\u001b[39m torch\u001b[38;5;241m.\u001b[39mmean(D_real)\n\u001b[0;32m--> 138\u001b[0m grad_p \u001b[38;5;241m=\u001b[39m \u001b[38;5;28;43mself\u001b[39;49m\u001b[38;5;241;43m.\u001b[39;49m\u001b[43mgradient_pen\u001b[49m\u001b[43m(\u001b[49m\u001b[43mX_batch\u001b[49m\u001b[43m,\u001b[49m\u001b[43m \u001b[49m\u001b[43my_batch\u001b[49m\u001b[43m,\u001b[49m\u001b[43m \u001b[49m\u001b[43my_gen_batch\u001b[49m\u001b[38;5;241;43m.\u001b[39;49m\u001b[43mdetach\u001b[49m\u001b[43m(\u001b[49m\u001b[43m)\u001b[49m\u001b[43m)\u001b[49m\n\u001b[1;32m    139\u001b[0m D_loss \u001b[38;5;241m+\u001b[39m\u001b[38;5;241m=\u001b[39m \u001b[38;5;28mself\u001b[39m\u001b[38;5;241m.\u001b[39mlambda_gp \u001b[38;5;241m*\u001b[39m grad_p\n\u001b[1;32m    141\u001b[0m \u001b[38;5;28mself\u001b[39m\u001b[38;5;241m.\u001b[39mD_opt\u001b[38;5;241m.\u001b[39mzero_grad()\n",
      "File \u001b[0;32m~/.conda/envs/env_gpu/lib/python3.9/site-packages/waggon/surrogates/gan.py:79\u001b[0m, in \u001b[0;36mWGAN_GP.gradient_pen\u001b[0;34m(self, cond_data, real_test_data, gen_data)\u001b[0m\n\u001b[1;32m     76\u001b[0m D_inter \u001b[38;5;241m=\u001b[39m \u001b[38;5;28mself\u001b[39m\u001b[38;5;241m.\u001b[39mD(torch\u001b[38;5;241m.\u001b[39mcat((cond_data, inter), dim\u001b[38;5;241m=\u001b[39m\u001b[38;5;241m1\u001b[39m))\n\u001b[1;32m     77\u001b[0m fake \u001b[38;5;241m=\u001b[39m Variable(torch\u001b[38;5;241m.\u001b[39mones(real_test_data\u001b[38;5;241m.\u001b[39msize(\u001b[38;5;241m0\u001b[39m), \u001b[38;5;241m1\u001b[39m, dtype\u001b[38;5;241m=\u001b[39mtorch\u001b[38;5;241m.\u001b[39mfloat32, device\u001b[38;5;241m=\u001b[39mdevice))\n\u001b[0;32m---> 79\u001b[0m gradients \u001b[38;5;241m=\u001b[39m \u001b[43mtorch\u001b[49m\u001b[38;5;241;43m.\u001b[39;49m\u001b[43mautograd\u001b[49m\u001b[38;5;241;43m.\u001b[39;49m\u001b[43mgrad\u001b[49m\u001b[43m(\u001b[49m\n\u001b[1;32m     80\u001b[0m \u001b[43m    \u001b[49m\u001b[43moutputs\u001b[49m\u001b[43m      \u001b[49m\u001b[38;5;241;43m=\u001b[39;49m\u001b[43m \u001b[49m\u001b[43mD_inter\u001b[49m\u001b[43m,\u001b[49m\n\u001b[1;32m     81\u001b[0m \u001b[43m    \u001b[49m\u001b[43minputs\u001b[49m\u001b[43m       \u001b[49m\u001b[38;5;241;43m=\u001b[39;49m\u001b[43m \u001b[49m\u001b[43minter\u001b[49m\u001b[43m,\u001b[49m\n\u001b[1;32m     82\u001b[0m \u001b[43m    \u001b[49m\u001b[43mgrad_outputs\u001b[49m\u001b[43m \u001b[49m\u001b[38;5;241;43m=\u001b[39;49m\u001b[43m \u001b[49m\u001b[43mfake\u001b[49m\u001b[43m,\u001b[49m\n\u001b[1;32m     83\u001b[0m \u001b[43m    \u001b[49m\u001b[43mcreate_graph\u001b[49m\u001b[43m \u001b[49m\u001b[38;5;241;43m=\u001b[39;49m\u001b[43m \u001b[49m\u001b[38;5;28;43;01mTrue\u001b[39;49;00m\u001b[43m,\u001b[49m\n\u001b[1;32m     84\u001b[0m \u001b[43m    \u001b[49m\u001b[43mretain_graph\u001b[49m\u001b[43m \u001b[49m\u001b[38;5;241;43m=\u001b[39;49m\u001b[43m \u001b[49m\u001b[38;5;28;43;01mTrue\u001b[39;49;00m\u001b[43m,\u001b[49m\n\u001b[1;32m     85\u001b[0m \u001b[43m    \u001b[49m\u001b[43monly_inputs\u001b[49m\u001b[43m  \u001b[49m\u001b[38;5;241;43m=\u001b[39;49m\u001b[43m \u001b[49m\u001b[38;5;28;43;01mTrue\u001b[39;49;00m\u001b[43m,\u001b[49m\n\u001b[1;32m     86\u001b[0m \u001b[43m\u001b[49m\u001b[43m)\u001b[49m[\u001b[38;5;241m0\u001b[39m]\n\u001b[1;32m     88\u001b[0m gp \u001b[38;5;241m=\u001b[39m ((gradients\u001b[38;5;241m.\u001b[39mnorm(\u001b[38;5;241m2\u001b[39m, dim\u001b[38;5;241m=\u001b[39m\u001b[38;5;241m1\u001b[39m) \u001b[38;5;241m-\u001b[39m \u001b[38;5;241m1\u001b[39m) \u001b[38;5;241m*\u001b[39m\u001b[38;5;241m*\u001b[39m \u001b[38;5;241m2\u001b[39m)\u001b[38;5;241m.\u001b[39mmean()\n\u001b[1;32m     89\u001b[0m \u001b[38;5;28;01mreturn\u001b[39;00m gp\n",
      "File \u001b[0;32m~/.local/lib/python3.9/site-packages/torch/autograd/__init__.py:411\u001b[0m, in \u001b[0;36mgrad\u001b[0;34m(outputs, inputs, grad_outputs, retain_graph, create_graph, only_inputs, allow_unused, is_grads_batched, materialize_grads)\u001b[0m\n\u001b[1;32m    407\u001b[0m     result \u001b[38;5;241m=\u001b[39m _vmap_internals\u001b[38;5;241m.\u001b[39m_vmap(vjp, \u001b[38;5;241m0\u001b[39m, \u001b[38;5;241m0\u001b[39m, allow_none_pass_through\u001b[38;5;241m=\u001b[39m\u001b[38;5;28;01mTrue\u001b[39;00m)(\n\u001b[1;32m    408\u001b[0m         grad_outputs_\n\u001b[1;32m    409\u001b[0m     )\n\u001b[1;32m    410\u001b[0m \u001b[38;5;28;01melse\u001b[39;00m:\n\u001b[0;32m--> 411\u001b[0m     result \u001b[38;5;241m=\u001b[39m \u001b[43mVariable\u001b[49m\u001b[38;5;241;43m.\u001b[39;49m\u001b[43m_execution_engine\u001b[49m\u001b[38;5;241;43m.\u001b[39;49m\u001b[43mrun_backward\u001b[49m\u001b[43m(\u001b[49m\u001b[43m  \u001b[49m\u001b[38;5;66;43;03m# Calls into the C++ engine to run the backward pass\u001b[39;49;00m\n\u001b[1;32m    412\u001b[0m \u001b[43m        \u001b[49m\u001b[43mt_outputs\u001b[49m\u001b[43m,\u001b[49m\n\u001b[1;32m    413\u001b[0m \u001b[43m        \u001b[49m\u001b[43mgrad_outputs_\u001b[49m\u001b[43m,\u001b[49m\n\u001b[1;32m    414\u001b[0m \u001b[43m        \u001b[49m\u001b[43mretain_graph\u001b[49m\u001b[43m,\u001b[49m\n\u001b[1;32m    415\u001b[0m \u001b[43m        \u001b[49m\u001b[43mcreate_graph\u001b[49m\u001b[43m,\u001b[49m\n\u001b[1;32m    416\u001b[0m \u001b[43m        \u001b[49m\u001b[43minputs\u001b[49m\u001b[43m,\u001b[49m\n\u001b[1;32m    417\u001b[0m \u001b[43m        \u001b[49m\u001b[43mallow_unused\u001b[49m\u001b[43m,\u001b[49m\n\u001b[1;32m    418\u001b[0m \u001b[43m        \u001b[49m\u001b[43maccumulate_grad\u001b[49m\u001b[38;5;241;43m=\u001b[39;49m\u001b[38;5;28;43;01mFalse\u001b[39;49;00m\u001b[43m,\u001b[49m\n\u001b[1;32m    419\u001b[0m \u001b[43m    \u001b[49m\u001b[43m)\u001b[49m  \u001b[38;5;66;03m# Calls into the C++ engine to run the backward pass\u001b[39;00m\n\u001b[1;32m    420\u001b[0m \u001b[38;5;28;01mif\u001b[39;00m materialize_grads:\n\u001b[1;32m    421\u001b[0m     \u001b[38;5;28;01mif\u001b[39;00m \u001b[38;5;28many\u001b[39m(\n\u001b[1;32m    422\u001b[0m         result[i] \u001b[38;5;129;01mis\u001b[39;00m \u001b[38;5;28;01mNone\u001b[39;00m \u001b[38;5;129;01mand\u001b[39;00m \u001b[38;5;129;01mnot\u001b[39;00m is_tensor_like(inputs[i])\n\u001b[1;32m    423\u001b[0m         \u001b[38;5;28;01mfor\u001b[39;00m i \u001b[38;5;129;01min\u001b[39;00m \u001b[38;5;28mrange\u001b[39m(\u001b[38;5;28mlen\u001b[39m(inputs))\n\u001b[1;32m    424\u001b[0m     ):\n",
      "\u001b[0;31mKeyboardInterrupt\u001b[0m: "
     ]
    }
   ],
   "source": [
    "for i, seed in enumerate(SEEDS):\n",
    "\n",
    "    print(f'Experiment #{i}')\n",
    "\n",
    "    opt = Optimiser(func=FUNCS[function](),#FUNCS[function](dimensions) if dimensions else \n",
    "                    surr=SURR[surrogate],\n",
    "                    acqf=ACQF[acquisition],\n",
    "                    verbose=1,\n",
    "                    seed=seed,\n",
    "                    save_results=True)\n",
    "    opt.optimise()\n",
    "    display(opt)"
   ]
  },
  {
   "cell_type": "code",
   "execution_count": null,
   "id": "53892d9a-c611-4960-9cc0-3bcadf56d577",
   "metadata": {},
   "outputs": [],
   "source": []
  }
 ],
 "metadata": {
  "kernelspec": {
   "display_name": "Python [.conda-env_gpu]",
   "language": "python",
   "name": "conda-env-.conda-env_gpu-py"
  },
  "language_info": {
   "codemirror_mode": {
    "name": "ipython",
    "version": 3
   },
   "file_extension": ".py",
   "mimetype": "text/x-python",
   "name": "python",
   "nbconvert_exporter": "python",
   "pygments_lexer": "ipython3",
   "version": "3.9.13"
  }
 },
 "nbformat": 4,
 "nbformat_minor": 5
}
