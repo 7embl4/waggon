{
 "cells": [
  {
   "cell_type": "code",
   "execution_count": 1,
   "metadata": {},
   "outputs": [],
   "source": [
    "from waggon.utils import display\n",
    "from waggon.surrogates import DGP\n",
    "from waggon.acquisitions import EI\n",
    "from waggon import functions as f\n",
    "from waggon.optim import SurrogateOptimiser"
   ]
  },
  {
   "cell_type": "code",
   "execution_count": 2,
   "metadata": {},
   "outputs": [],
   "source": [
    "import torch"
   ]
  },
  {
   "cell_type": "code",
   "execution_count": 4,
   "metadata": {},
   "outputs": [
    {
     "name": "stderr",
     "output_type": "stream",
     "text": [
      "Loss: 61.153: 100%|██████████| 100/100 [00:28<00:00,  3.50it/s]?it/s]\n",
      "Loss: 34.058: 100%|██████████| 100/100 [00:35<00:00,  2.84it/s]9, 34.44s/it]\n",
      "Loss: 28.393: 100%|██████████| 100/100 [00:36<00:00,  2.77it/s]:59, 39.18s/it]\n",
      "Loss: 27.002: 100%|██████████| 100/100 [00:44<00:00,  2.26it/s]:26, 41.10s/it]\n",
      "Loss: 21.842: 100%|██████████| 100/100 [00:46<00:00,  2.16it/s]:20, 44.59s/it]\n",
      "Loss: 18.826: 100%|██████████| 100/100 [00:51<00:00,  1.96it/s]:07, 48.08s/it]\n",
      "Loss: 21.521: 100%|██████████| 100/100 [00:59<00:00,  1.67it/s]:48, 51.58s/it]\n",
      "Loss: 20.042: 100%|██████████| 100/100 [01:00<00:00,  1.65it/s]:37, 57.17s/it]\n",
      "Optimisation error: 17.4369:   8%|▊         | 8/100 [06:57<1:31:59, 60.00s/it]"
     ]
    }
   ],
   "source": [
    "opt = SurrogateOptimiser(func=f.three_hump_camel(n_obs=10),\n",
    "                        surr=DGP(),\n",
    "                        acqf=EI(),\n",
    "                        seed=2,\n",
    "                        save_res=True, verbose=2, num_opt=True, error_type='f')\n",
    "opt.optimise()\n",
    "display(opt)"
   ]
  },
  {
   "cell_type": "code",
   "execution_count": 3,
   "metadata": {},
   "outputs": [],
   "source": [
    "# torch.set_default_dtype(torch.float32)"
   ]
  },
  {
   "cell_type": "code",
   "execution_count": null,
   "metadata": {},
   "outputs": [],
   "source": []
  }
 ],
 "metadata": {
  "kernelspec": {
   "display_name": "Python 3",
   "language": "python",
   "name": "python3"
  },
  "language_info": {
   "codemirror_mode": {
    "name": "ipython",
    "version": 3
   },
   "file_extension": ".py",
   "mimetype": "text/x-python",
   "name": "python",
   "nbconvert_exporter": "python",
   "pygments_lexer": "ipython3",
   "version": "3.11.9"
  }
 },
 "nbformat": 4,
 "nbformat_minor": 2
}
